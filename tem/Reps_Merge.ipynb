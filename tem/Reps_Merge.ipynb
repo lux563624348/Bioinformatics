{
 "cells": [
  {
   "cell_type": "code",
   "execution_count": 1,
   "metadata": {},
   "outputs": [],
   "source": [
    "import os\n",
    "import pandas as pd\n",
    "import glob"
   ]
  },
  {
   "cell_type": "code",
   "execution_count": 3,
   "metadata": {},
   "outputs": [],
   "source": [
    "os.chdir('/home/xli/Data/Haihui/CD8-HP/HiC/HiC_Data_Summary/reps/dump_count_10k')\n",
    "chr_set = list(range(1,20,1))+['X', 'Y']"
   ]
  },
  {
   "cell_type": "code",
   "execution_count": 6,
   "metadata": {},
   "outputs": [
    {
     "data": {
      "text/plain": [
       "(21022933, 5)"
      ]
     },
     "execution_count": 6,
     "metadata": {},
     "output_type": "execute_result"
    }
   ],
   "source": [
    "df_sum_all.shape"
   ]
  },
  {
   "cell_type": "code",
   "execution_count": 4,
   "metadata": {},
   "outputs": [],
   "source": [
    "n_chr=0\n",
    "df_sum_all = pd.DataFrame()\n",
    "for chrs in chr_set:\n",
    "    #print (chrs)\n",
    "    df_WT16  =pd.read_csv('WT_CD8_2016_chr'+str(chrs)+'.txt', header=None, sep=\"\\t\").rename(columns={2:'WT_16'})\n",
    "    df_DKO16 =pd.read_csv('DKO_CD8_2016_chr'+str(chrs)+'.txt', header=None, sep=\"\\t\").rename(columns={2:'DKO_16'})\n",
    "    df_tem = df_WT16.merge(df_DKO16, how='inner')#.fillna(0)\n",
    "    df_tem.loc[:,\"#chr\"]=str(chrs)\n",
    "    df_sum_all=df_sum_all.append(df_tem)\n",
    "df_sum_all = df_sum_all.loc[:,['#chr',0,1,'WT_16', 'DKO_16']]\n",
    "df_sum_all.to_csv('/home/xli/Data/Haihui/CD8-HP/Analysis_Notebook/2016_hic_interaction_count.bed', sep=\"\\t\", index=None)\n"
   ]
  },
  {
   "cell_type": "code",
   "execution_count": 26,
   "metadata": {},
   "outputs": [
    {
     "data": {
      "text/html": [
       "<div>\n",
       "<style scoped>\n",
       "    .dataframe tbody tr th:only-of-type {\n",
       "        vertical-align: middle;\n",
       "    }\n",
       "\n",
       "    .dataframe tbody tr th {\n",
       "        vertical-align: top;\n",
       "    }\n",
       "\n",
       "    .dataframe thead th {\n",
       "        text-align: right;\n",
       "    }\n",
       "</style>\n",
       "<table border=\"1\" class=\"dataframe\">\n",
       "  <thead>\n",
       "    <tr style=\"text-align: right;\">\n",
       "      <th></th>\n",
       "      <th>0_1</th>\n",
       "      <th>0_WT_16</th>\n",
       "      <th>0_DKO_16</th>\n",
       "      <th>1_WT_16</th>\n",
       "      <th>1_DKO_16</th>\n",
       "      <th>WT_16_DKO_16</th>\n",
       "    </tr>\n",
       "    <tr>\n",
       "      <th>chr</th>\n",
       "      <th></th>\n",
       "      <th></th>\n",
       "      <th></th>\n",
       "      <th></th>\n",
       "      <th></th>\n",
       "      <th></th>\n",
       "    </tr>\n",
       "  </thead>\n",
       "  <tbody>\n",
       "    <tr>\n",
       "      <th>chr1</th>\n",
       "      <td>0.997191</td>\n",
       "      <td>0.012109</td>\n",
       "      <td>0.011584</td>\n",
       "      <td>0.00859</td>\n",
       "      <td>0.008012</td>\n",
       "      <td>0.99501</td>\n",
       "    </tr>\n",
       "  </tbody>\n",
       "</table>\n",
       "</div>"
      ],
      "text/plain": [
       "           0_1   0_WT_16  0_DKO_16  1_WT_16  1_DKO_16  WT_16_DKO_16\n",
       "chr                                                                \n",
       "chr1  0.997191  0.012109  0.011584  0.00859  0.008012       0.99501"
      ]
     },
     "execution_count": 26,
     "metadata": {},
     "output_type": "execute_result"
    }
   ],
   "source": [
    "df_corr_set"
   ]
  },
  {
   "cell_type": "code",
   "execution_count": 32,
   "metadata": {},
   "outputs": [
    {
     "data": {
      "text/plain": [
       "array(['WT_16_DKO_16', 'WT_16_WT_19', 'WT_16_DKO_19', 'DKO_16_WT_19',\n",
       "       'DKO_16_DKO_19', 'WT_19_DKO_19'], dtype=object)"
      ]
     },
     "execution_count": 32,
     "metadata": {},
     "output_type": "execute_result"
    }
   ],
   "source": [
    "corr_set=()\n",
    "df_corr_set=pd.DataFrame()\n",
    "\n",
    "n_chr=0\n",
    "df_sum_all = pd.DataFrame()\n",
    "for chrs in chr_set:\n",
    "    #print (chrs)\n",
    "    df_WT16  =pd.read_csv('WT_CD8_2016_chr'+str(chrs)+'.txt', header=None, sep=\"\\t\").rename(columns={2:'WT_16'})\n",
    "    df_DKO16 =pd.read_csv('DKO_CD8_2016_chr'+str(chrs)+'.txt', header=None, sep=\"\\t\").rename(columns={2:'DKO_16'})\n",
    "    df_WT19  =pd.read_csv('WT_CD8_2019_chr'+str(chrs)+'.txt', header=None, sep=\"\\t\").rename(columns={2:'WT_19'})\n",
    "    df_DKO19 =pd.read_csv('DKO_CD8_2019_chr'+str(chrs)+'.txt', header=None, sep=\"\\t\").rename(columns={2:'DKO_19'})\n",
    "    df_sum = df_WT16.merge(df_DKO16, how='inner', on=[0,1]).merge(df_WT19, how='inner', on=[0,1]).merge(df_DKO19, on=[0,1], how='inner').drop([0,1],axis=1)\n",
    "    df_sum = df_sum[df_sum.values.sum(axis=1) != 0] ## drop all zeros\n",
    "    df_sum_all=df_sum_all.append(df_sum)\n",
    "    df_corr_set.loc[n_chr,'chr']='chr'+str(chrs)\n",
    "    for i in range(0,4):\n",
    "        for j in range(i+1,4):\n",
    "    #        print (df_sum.columns[i],df_sum.columns[j])\n",
    "    #        print (df_sum.iloc[:,[i,j]].corr().iloc[0,1])\n",
    "            COL_NAME=str(df_sum.columns[i])+'_'+str(df_sum.columns[j])\n",
    "            CORR_VALUE=df_sum.iloc[:,[i,j]].corr().iloc[0,1]\n",
    "            df_corr_set.loc[n_chr,COL_NAME]=CORR_VALUE\n",
    "    n_chr+=1\n",
    "df_corr_set = df_corr_set.set_index('chr')#.describe()\n",
    "df_corr_set.columns.values"
   ]
  },
  {
   "cell_type": "code",
   "execution_count": null,
   "metadata": {},
   "outputs": [],
   "source": []
  },
  {
   "cell_type": "code",
   "execution_count": null,
   "metadata": {},
   "outputs": [],
   "source": []
  },
  {
   "cell_type": "code",
   "execution_count": 6,
   "metadata": {},
   "outputs": [],
   "source": []
  },
  {
   "cell_type": "code",
   "execution_count": 10,
   "metadata": {},
   "outputs": [
    {
     "data": {
      "text/plain": [
       "<pandas.io.parsers.TextFileReader at 0x7f1a54720208>"
      ]
     },
     "execution_count": 10,
     "metadata": {},
     "output_type": "execute_result"
    }
   ],
   "source": [
    "df_WT16 = pd.read_csv('WT_CD8_2016_chr'+str(chrs)+'.txt', header=None, sep=\"\\t\", chunksize=100000)\n",
    "df_WT16 \n"
   ]
  },
  {
   "cell_type": "code",
   "execution_count": 211,
   "metadata": {},
   "outputs": [
    {
     "data": {
      "text/plain": [
       "array(['WT_16_DKO_16', 'WT_16_WT_19', 'WT_16_DKO_19', 'DKO_16_WT_19',\n",
       "       'DKO_16_DKO_19', 'WT_19_DKO_19'], dtype=object)"
      ]
     },
     "execution_count": 211,
     "metadata": {},
     "output_type": "execute_result"
    }
   ],
   "source": [
    "corr_set=()\n",
    "df_corr_set=pd.DataFrame()\n",
    "\n",
    "n_chr=0\n",
    "df_sum_all = pd.DataFrame()\n",
    "for chrs in chr_set:\n",
    "    #print (chrs)\n",
    "    df_WT16  =pd.read_csv('chr'+str(chrs)+'_WT_16.txt', header=None).rename(columns={0:'WT_16'})\n",
    "    df_DKO16 =pd.read_csv('chr'+str(chrs)+'_DKO_16.txt', header=None).rename(columns={0:'DKO_16'})\n",
    "    df_WT19  =pd.read_csv('chr'+str(chrs)+'_WT_19.txt', header=None).rename(columns={0:'WT_19'})\n",
    "    df_DKO19 =pd.read_csv('chr'+str(chrs)+'_DKO_19.txt', header=None).rename(columns={0:'DKO_19'})\n",
    "    df_sum = pd.concat([df_WT16,df_DKO16,df_WT19,df_DKO19],axis=1)\n",
    "    df_sum = df_sum[df_sum.values.sum(axis=1) != 0] ## drop all zeros\n",
    "    df_sum_all=df_sum_all.append(df_sum)\n",
    "    df_corr_set.loc[n_chr,'chr']='chr'+str(chrs)\n",
    "    for i in range(0,4):\n",
    "        for j in range(i+1,4):\n",
    "    #        print (df_sum.columns[i],df_sum.columns[j])\n",
    "    #        print (df_sum.iloc[:,[i,j]].corr().iloc[0,1])\n",
    "            COL_NAME=df_sum.columns[i]+'_'+df_sum.columns[j]\n",
    "            CORR_VALUE=df_sum.iloc[:,[i,j]].corr().iloc[0,1]\n",
    "            df_corr_set.loc[n_chr,COL_NAME]=CORR_VALUE\n",
    "            \n",
    "    n_chr+=1\n",
    "df_corr_set = df_corr_set.set_index('chr')#.describe()\n",
    "df_corr_set.columns.values"
   ]
  },
  {
   "cell_type": "code",
   "execution_count": 29,
   "metadata": {},
   "outputs": [],
   "source": [
    "# chunksize test\n",
    "df_chunk = pd.read_csv('WT_CD8_2016_chr'+str(chrs)+'.txt', header=None, sep=\"\\t\", chunksize=1000000)\n",
    "\n",
    "#def filtered_long_range(df_interaction, max_distance):\n",
    "    \n",
    "for chunk in df_chunk:\n",
    "    type(chunk)\n",
    "    break\n",
    "    \n",
    "chunk_list = []  # append each chunk df here \n",
    "df_chunk = pd.read_csv('WT_CD8_2016_chr'+str(chrs)+'.txt', header=None, sep=\"\\t\", chunksize=100000)\n",
    "for chunk in df_chunk:  \n",
    "    # perform data filtering \n",
    "    chunk_filter = chunk_preprocessing(chunk)\n",
    "    \n",
    "    # Once the data filtering is done, append the chunk to list\n",
    "    chunk_list.append(chunk_filter)\n",
    "    \n",
    "df_concat = pd.concat(chunk_list)"
   ]
  },
  {
   "cell_type": "code",
   "execution_count": 34,
   "metadata": {},
   "outputs": [],
   "source": [
    "import matplotlib\n",
    "matplotlib.use('AGG')\n",
    "import matplotlib.pyplot as plt\n",
    "import seaborn as sns\n",
    "sns.set_style(\"white\") \n",
    "\n",
    "# display plots in this notebook\n",
    "%matplotlib inline"
   ]
  },
  {
   "cell_type": "code",
   "execution_count": 39,
   "metadata": {},
   "outputs": [
    {
     "data": {
      "text/html": [
       "<div>\n",
       "<style scoped>\n",
       "    .dataframe tbody tr th:only-of-type {\n",
       "        vertical-align: middle;\n",
       "    }\n",
       "\n",
       "    .dataframe tbody tr th {\n",
       "        vertical-align: top;\n",
       "    }\n",
       "\n",
       "    .dataframe thead th {\n",
       "        text-align: right;\n",
       "    }\n",
       "</style>\n",
       "<table border=\"1\" class=\"dataframe\">\n",
       "  <thead>\n",
       "    <tr style=\"text-align: right;\">\n",
       "      <th></th>\n",
       "      <th>WT_16_DKO_16</th>\n",
       "      <th>WT_16_WT_19</th>\n",
       "      <th>WT_16_DKO_19</th>\n",
       "      <th>DKO_16_WT_19</th>\n",
       "      <th>DKO_16_DKO_19</th>\n",
       "      <th>WT_19_DKO_19</th>\n",
       "    </tr>\n",
       "  </thead>\n",
       "  <tbody>\n",
       "    <tr>\n",
       "      <th>count</th>\n",
       "      <td>21.000000</td>\n",
       "      <td>21.000000</td>\n",
       "      <td>21.000000</td>\n",
       "      <td>21.000000</td>\n",
       "      <td>21.000000</td>\n",
       "      <td>21.000000</td>\n",
       "    </tr>\n",
       "    <tr>\n",
       "      <th>mean</th>\n",
       "      <td>0.994562</td>\n",
       "      <td>0.949283</td>\n",
       "      <td>0.946110</td>\n",
       "      <td>0.945581</td>\n",
       "      <td>0.944574</td>\n",
       "      <td>0.952197</td>\n",
       "    </tr>\n",
       "    <tr>\n",
       "      <th>std</th>\n",
       "      <td>0.001741</td>\n",
       "      <td>0.007821</td>\n",
       "      <td>0.015874</td>\n",
       "      <td>0.008537</td>\n",
       "      <td>0.020716</td>\n",
       "      <td>0.014084</td>\n",
       "    </tr>\n",
       "    <tr>\n",
       "      <th>min</th>\n",
       "      <td>0.987674</td>\n",
       "      <td>0.919457</td>\n",
       "      <td>0.883775</td>\n",
       "      <td>0.914133</td>\n",
       "      <td>0.859903</td>\n",
       "      <td>0.894642</td>\n",
       "    </tr>\n",
       "    <tr>\n",
       "      <th>25%</th>\n",
       "      <td>0.994853</td>\n",
       "      <td>0.948740</td>\n",
       "      <td>0.946976</td>\n",
       "      <td>0.945405</td>\n",
       "      <td>0.947056</td>\n",
       "      <td>0.954314</td>\n",
       "    </tr>\n",
       "    <tr>\n",
       "      <th>50%</th>\n",
       "      <td>0.995040</td>\n",
       "      <td>0.950095</td>\n",
       "      <td>0.948515</td>\n",
       "      <td>0.947479</td>\n",
       "      <td>0.948744</td>\n",
       "      <td>0.956196</td>\n",
       "    </tr>\n",
       "    <tr>\n",
       "      <th>75%</th>\n",
       "      <td>0.995224</td>\n",
       "      <td>0.953218</td>\n",
       "      <td>0.952070</td>\n",
       "      <td>0.949326</td>\n",
       "      <td>0.951600</td>\n",
       "      <td>0.957015</td>\n",
       "    </tr>\n",
       "    <tr>\n",
       "      <th>max</th>\n",
       "      <td>0.995461</td>\n",
       "      <td>0.956477</td>\n",
       "      <td>0.960572</td>\n",
       "      <td>0.953769</td>\n",
       "      <td>0.959920</td>\n",
       "      <td>0.958696</td>\n",
       "    </tr>\n",
       "  </tbody>\n",
       "</table>\n",
       "</div>"
      ],
      "text/plain": [
       "       WT_16_DKO_16  WT_16_WT_19  WT_16_DKO_19  DKO_16_WT_19  DKO_16_DKO_19  \\\n",
       "count     21.000000    21.000000     21.000000     21.000000      21.000000   \n",
       "mean       0.994562     0.949283      0.946110      0.945581       0.944574   \n",
       "std        0.001741     0.007821      0.015874      0.008537       0.020716   \n",
       "min        0.987674     0.919457      0.883775      0.914133       0.859903   \n",
       "25%        0.994853     0.948740      0.946976      0.945405       0.947056   \n",
       "50%        0.995040     0.950095      0.948515      0.947479       0.948744   \n",
       "75%        0.995224     0.953218      0.952070      0.949326       0.951600   \n",
       "max        0.995461     0.956477      0.960572      0.953769       0.959920   \n",
       "\n",
       "       WT_19_DKO_19  \n",
       "count     21.000000  \n",
       "mean       0.952197  \n",
       "std        0.014084  \n",
       "min        0.894642  \n",
       "25%        0.954314  \n",
       "50%        0.956196  \n",
       "75%        0.957015  \n",
       "max        0.958696  "
      ]
     },
     "execution_count": 39,
     "metadata": {},
     "output_type": "execute_result"
    }
   ],
   "source": [
    "df_corr_set.describe()"
   ]
  },
  {
   "cell_type": "code",
   "execution_count": 36,
   "metadata": {},
   "outputs": [
    {
     "data": {
      "text/plain": [
       "(array([1, 2, 3, 4, 5, 6]), <a list of 6 Text xticklabel objects>)"
      ]
     },
     "execution_count": 36,
     "metadata": {},
     "output_type": "execute_result"
    },
    {
     "data": {
      "image/png": "[encoded data removed]",
      "text/plain": [
       "<Figure size 432x360 with 1 Axes>"
      ]
     },
     "metadata": {
      "needs_background": "light"
     },
     "output_type": "display_data"
    }
   ],
   "source": [
    "import re\n",
    "\n",
    "all_data = [df_corr_set.iloc[:,0],df_corr_set.iloc[:,1],df_corr_set.iloc[:,2],df_corr_set.iloc[:,3],\n",
    "            df_corr_set.iloc[:,4],df_corr_set.iloc[:,5]]\n",
    "\n",
    "fig, axes = plt.subplots(nrows=1, ncols=1, figsize=(6, 5))\n",
    "axes.boxplot( all_data, showfliers=True)#,showmedians=True)\n",
    "axes.grid(color='grey', linestyle='dashed', linewidth=0.5)\n",
    "\n",
    "axes.set_ylabel('Correlations of Each Chr')\n",
    "#axes.set_ylim(-5,100)\n",
    "i=0\n",
    "plt.setp( axes, xticks=[y + 1 for y in range(len(all_data))],\n",
    "         xticklabels=df_corr_set.columns.values)\n",
    "plt.xticks(rotation=-60)\n",
    "\n"
   ]
  },
  {
   "cell_type": "code",
   "execution_count": 51,
   "metadata": {},
   "outputs": [],
   "source": [
    "xx = df_sum_all.sum(axis=0)"
   ]
  },
  {
   "cell_type": "code",
   "execution_count": 73,
   "metadata": {},
   "outputs": [],
   "source": [
    "df_sum_plot = df_sum_all/xx*10**8"
   ]
  },
  {
   "cell_type": "code",
   "execution_count": 80,
   "metadata": {},
   "outputs": [
    {
     "data": {
      "image/png": "[encoded data removed]",
      "text/plain": [
       "<Figure size 864x648 with 2 Axes>"
      ]
     },
     "metadata": {
      "needs_background": "light"
     },
     "output_type": "display_data"
    }
   ],
   "source": [
    "def hexbin_with_density(df, highlight_name, title_name, density_scale, drop_top_outlier):\n",
    "    ### drop outlier\n",
    "    df = df.drop(df.iloc[:,0].nlargest(n=drop_top_outlier,keep='first').index)\n",
    "    \n",
    "    \n",
    "    range_limit=df.max().max()\n",
    "    fig, ax = plt.subplots(nrows=1, ncols=1, figsize=(12, 9), sharex=False, sharey=False)\n",
    "    \n",
    "    if density_scale == 'log':\n",
    "        hb = ax.hexbin(df.iloc[:,[0]], df.iloc[:,[1]], gridsize=(100,100), cmap=plt.cm.jet,\n",
    "                   bins='log',mincnt=1,alpha=2, edgecolors='face')\n",
    "        cb = fig.colorbar(hb,ax=ax)\n",
    "        cb.set_label('Log$_{10}$(1+Counts)', fontsize=18)\n",
    "    else:\n",
    "        hb = ax.hexbin(df.iloc[:,[0]], df.iloc[:,[1]], gridsize=(100,100), cmap=plt.cm.jet,\n",
    "                   mincnt=1,alpha=2, edgecolors='face')\n",
    "        cb = fig.colorbar(hb,ax=ax)\n",
    "        cb.set_label('Counts', fontsize=18)\n",
    "\n",
    "    ###  highlight a point\n",
    "    if len(highlight_name) >= 1:\n",
    "        for highlight_index in highlight_name[:]:\n",
    "            ax.scatter(df[df.index == highlight_index].iloc[:,[0]],\n",
    "                        df[df.index == highlight_index].iloc[:,[1]],\n",
    "                        alpha=1.0,s=50,color='red', label=highlight_index,edgecolor='red')\n",
    "            ax.text(df[df.index == highlight_index].iloc[:,0]-range_limit/20.0,\n",
    "                      df[df.index == highlight_index].iloc[:,1]+range_limit/25.0, highlight_index, fontsize=16, color='r')\n",
    "\n",
    "\n",
    "    ax.yaxis.grid(False)\n",
    "    ax.set_ylim(-0.1*range_limit,range_limit+0.1*range_limit)\n",
    "    ax.set_xlim(-0.1*range_limit,range_limit+0.1*range_limit)\n",
    "    ax.set_xlabel(str(df.columns[0]), fontsize=18)\n",
    "    ax.set_ylabel(str(df.columns[1]), fontsize=18)\n",
    "    ax.plot([-0.1*range_limit,range_limit+0.1*range_limit], [-0.1*range_limit, range_limit+0.1*range_limit], ls=\"--\", c=\"gray\")\n",
    "    ax.set_title(str(len(df))+ ': '+ title_name , fontsize=18)\n",
    "    return 0\n",
    "\n",
    "df_plot=df_sum_plot.loc[:,['WT_16', 'DKO_16']]\n",
    "aa = hexbin_with_density(df_plot, '', 'Res:10k, Norm_Raw_Count: ' + str(\"{:.3f}\".format(df_plot.corr().iloc[0,1])), 'log',0)"
   ]
  },
  {
   "cell_type": "code",
   "execution_count": null,
   "metadata": {},
   "outputs": [],
   "source": []
  },
  {
   "cell_type": "code",
   "execution_count": 194,
   "metadata": {},
   "outputs": [
    {
     "data": {
      "text/plain": [
       "Text(0.5, 0, '')"
      ]
     },
     "execution_count": 194,
     "metadata": {},
     "output_type": "execute_result"
    },
    {
     "data": {
      "image/png": "[encoded data removed]",
      "text/plain": [
       "<Figure size 576x360 with 1 Axes>"
      ]
     },
     "metadata": {},
     "output_type": "display_data"
    }
   ],
   "source": [
    "import seaborn as sns\n",
    "import numpy as np\n",
    "\n",
    "tips = sns.load_dataset(\"tips\")\n",
    "tips\n",
    "pvalue=[3.64*10**-6,9.77*10**-4,7.26*10**-3,8.73*10**-3]\n",
    "log_pvalue = -np.log10(pvalue)\n",
    "df= pd.DataFrame(data=log_pvalue)\n",
    "\n",
    "sns.set_style(\"ticks\")\n",
    "\n",
    "plt.figure(figsize=(8,5))\n",
    "\n",
    "ax = sns.barplot(x=0, y=df.index, data=df,orient='h', color='limegreen')\n",
    "\n",
    "plt.xticks(fontsize= 16)\n",
    "\n",
    "ax.set_yticklabels([])\n",
    "#ax.set_yticks([])\n",
    "ax.spines['right'].set_visible(False)\n",
    "ax.spines['top'].set_visible(False)\n",
    "ax.set_xlim(0,6)\n",
    "\n",
    "ax.set_xticks((0,2,4,6)) \n",
    "#ax.axes.get_xaxis().set_ticklabels([])\n",
    "plt.xlabel('')"
   ]
  }
 ],
 "metadata": {
  "kernelspec": {
   "display_name": "Python 3",
   "language": "python",
   "name": "python3"
  },
  "language_info": {
   "codemirror_mode": {
    "name": "ipython",
    "version": 3
   },
   "file_extension": ".py",
   "mimetype": "text/x-python",
   "name": "python",
   "nbconvert_exporter": "python",
   "pygments_lexer": "ipython3",
   "version": "3.7.3"
  }
 },
 "nbformat": 4,
 "nbformat_minor": 2
}
