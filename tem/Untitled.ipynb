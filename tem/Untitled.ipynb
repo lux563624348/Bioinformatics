{
 "cells": [
  {
   "cell_type": "code",
   "execution_count": 33,
   "metadata": {
    "collapsed": true
   },
   "outputs": [],
   "source": [
    "import numpy as np\n",
    "import pandas as pd\n",
    "import scipy.stats"
   ]
  },
  {
   "cell_type": "markdown",
   "metadata": {},
   "source": [
    "## Replicate 1"
   ]
  },
  {
   "cell_type": "code",
   "execution_count": 82,
   "metadata": {
    "collapsed": true
   },
   "outputs": [],
   "source": [
    "decrease_df = pd.read_csv('beta1_decreased_gene_three_UTR_region.RBP_binding_score_eclip_K562.txt', header=0, sep='\\t')\n",
    "increase_df = pd.read_csv('beta1_increased_gene_three_UTR_region.RBP_binding_score_eclip_K562.txt', header=0, sep='\\t')"
   ]
  },
  {
   "cell_type": "code",
   "execution_count": 83,
   "metadata": {
    "collapsed": false
   },
   "outputs": [
    {
     "data": {
      "text/plain": [
       "(0.98489947180976622, 1.5975707288815129e-66)"
      ]
     },
     "execution_count": 83,
     "metadata": {},
     "output_type": "execute_result"
    }
   ],
   "source": [
    "scipy.stats.pearsonr(decrease_df.mean().sort_values(ascending=False), increase_df.mean().sort_values(ascending=False))"
   ]
  },
  {
   "cell_type": "code",
   "execution_count": 86,
   "metadata": {
    "collapsed": false
   },
   "outputs": [],
   "source": [
    "sig_RBP_list = []\n",
    "cutoff = 0.01\n",
    "for RBP in decrease_df.columns[1:]:\n",
    "    stat, pvalue = scipy.stats.ranksums(decrease_df.loc[:,RBP], increase_df.loc[:,RBP])\n",
    "    if pvalue < cutoff and stat < 0:\n",
    "        sig_RBP_list.append((RBP, pvalue))\n",
    "sig_RBP_list.sort(key=lambda x: x[1])"
   ]
  },
  {
   "cell_type": "code",
   "execution_count": 87,
   "metadata": {
    "collapsed": false
   },
   "outputs": [],
   "source": [
    "pd.DataFrame(sig_RBP_list).to_csv('xx.tsv', sep='\\t')"
   ]
  },
  {
   "cell_type": "markdown",
   "metadata": {},
   "source": [
    "## Replicate 2"
   ]
  },
  {
   "cell_type": "code",
   "execution_count": 78,
   "metadata": {
    "collapsed": true
   },
   "outputs": [],
   "source": [
    "decrease_df = pd.read_csv('../../Replicate2/fasta_for_three_UTR_region/beta1_decreased_gene_three_UTR_region.RBP_binding_score_eclip_K562.txt', header=0, sep='\\t')\n",
    "increase_df = pd.read_csv('../../Replicate2/fasta_for_three_UTR_region/beta1_increased_gene_three_UTR_region.RBP_binding_score_eclip_K562.txt', header=0, sep='\\t')"
   ]
  },
  {
   "cell_type": "code",
   "execution_count": 79,
   "metadata": {
    "collapsed": false
   },
   "outputs": [
    {
     "data": {
      "text/plain": [
       "(0.99274753897541246, 5.4499549470977346e-80)"
      ]
     },
     "execution_count": 79,
     "metadata": {},
     "output_type": "execute_result"
    }
   ],
   "source": [
    "scipy.stats.pearsonr(decrease_df.mean().sort_values(ascending=False), increase_df.mean().sort_values(ascending=False))"
   ]
  },
  {
   "cell_type": "code",
   "execution_count": 80,
   "metadata": {
    "collapsed": false
   },
   "outputs": [],
   "source": [
    "sig_RBP_list = []\n",
    "cutoff = 0.01\n",
    "for RBP in decrease_df.columns[1:]:\n",
    "    stat, pvalue = scipy.stats.ranksums(decrease_df.loc[:,RBP], increase_df.loc[:,RBP])\n",
    "    if pvalue < cutoff and stat > 0:\n",
    "        sig_RBP_list.append((RBP, pvalue))\n",
    "sig_RBP_list.sort(key=lambda x: x[1])"
   ]
  },
  {
   "cell_type": "code",
   "execution_count": 81,
   "metadata": {
    "collapsed": true
   },
   "outputs": [],
   "source": [
    "pd.DataFrame(sig_RBP_list).to_csv('xx.tsv', sep='\\t')"
   ]
  },
  {
   "cell_type": "code",
   "execution_count": null,
   "metadata": {
    "collapsed": true
   },
   "outputs": [],
   "source": []
  }
 ],
 "metadata": {
  "kernelspec": {
   "display_name": "Python 2",
   "language": "python",
   "name": "python2"
  },
  "language_info": {
   "codemirror_mode": {
    "name": "ipython",
    "version": 2
   },
   "file_extension": ".py",
   "mimetype": "text/x-python",
   "name": "python",
   "nbconvert_exporter": "python",
   "pygments_lexer": "ipython2",
   "version": "2.7.10"
  }
 },
 "nbformat": 4,
 "nbformat_minor": 0
}
