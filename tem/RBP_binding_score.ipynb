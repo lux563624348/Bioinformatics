{
 "cells": [
  {
   "cell_type": "code",
   "execution_count": 7,
   "metadata": {},
   "outputs": [],
   "source": [
    "import numpy as np\n",
    "import pandas as pd\n",
    "import scipy.stats"
   ]
  },
  {
   "cell_type": "markdown",
   "metadata": {},
   "source": [
    "## Replicate 1"
   ]
  },
  {
   "cell_type": "code",
   "execution_count": null,
   "metadata": {},
   "outputs": [],
   "source": [
    "decrease_df = pd.read_csv('/home/xli/cloud_research/PengGroup/ZZeng/Data/intron_retention/ML_code/eCLIP/IRstat.RBP_binding_score_eclip_K562.genes.txt', header=0, sep='\\t')"
   ]
  },
  {
   "cell_type": "code",
   "execution_count": null,
   "metadata": {},
   "outputs": [],
   "source": []
  },
  {
   "cell_type": "code",
   "execution_count": 8,
   "metadata": {},
   "outputs": [],
   "source": [
    "decrease_df = pd.read_csv('beta1_decreased_gene_three_UTR_region.RBP_binding_score_eclip_K562.txt', header=0, sep='\\t')\n",
    "increase_df = pd.read_csv('beta1_increased_gene_three_UTR_region.RBP_binding_score_eclip_K562.txt', header=0, sep='\\t')"
   ]
  },
  {
   "cell_type": "code",
   "execution_count": 14,
   "metadata": {
    "collapsed": true
   },
   "outputs": [],
   "source": [
    "decrease_df = pd.read_csv('../../Replicate_final/fasta_for_three_UTR_region/beta1_decreased_gene_three_UTR_region.RBP_binding_score_eclip_K562.txt', header=0, sep='\\t')\n",
    "increase_df = pd.read_csv('../../Replicate_final/fasta_for_three_UTR_region/beta1_increased_gene_three_UTR_region.RBP_binding_score_eclip_K562.txt', header=0, sep='\\t')"
   ]
  },
  {
   "cell_type": "code",
   "execution_count": 38,
   "metadata": {},
   "outputs": [],
   "source": [
    "sig_RBP_list = []\n",
    "cutoff = 0.05\n",
    "for RBP in decrease_df.columns[1:]:\n",
    "    stat, pvalue = scipy.stats.mannwhitneyu(decrease_df.loc[:,RBP], increase_df.loc[:,RBP], alternative='greater')\n",
    "    if pvalue < cutoff and stat > 0:\n",
    "        sig_RBP_list.append((RBP, pvalue))\n",
    "sig_RBP_list.sort(key=lambda x: x[1])"
   ]
  },
  {
   "cell_type": "code",
   "execution_count": 51,
   "metadata": {},
   "outputs": [
    {
     "data": {
      "text/html": [
       "<div>\n",
       "<style scoped>\n",
       "    .dataframe tbody tr th:only-of-type {\n",
       "        vertical-align: middle;\n",
       "    }\n",
       "\n",
       "    .dataframe tbody tr th {\n",
       "        vertical-align: top;\n",
       "    }\n",
       "\n",
       "    .dataframe thead th {\n",
       "        text-align: right;\n",
       "    }\n",
       "</style>\n",
       "<table border=\"1\" class=\"dataframe\">\n",
       "  <thead>\n",
       "    <tr style=\"text-align: right;\">\n",
       "      <th></th>\n",
       "      <th>gene_id</th>\n",
       "      <th>AARS</th>\n",
       "      <th>AGGF1</th>\n",
       "      <th>AKAP8L</th>\n",
       "      <th>AUH</th>\n",
       "      <th>BUD13</th>\n",
       "      <th>CPSF6</th>\n",
       "      <th>CSTF2T</th>\n",
       "      <th>DDX24</th>\n",
       "      <th>DDX3X</th>\n",
       "      <th>...</th>\n",
       "      <th>U2AF1</th>\n",
       "      <th>U2AF2</th>\n",
       "      <th>UCHL5</th>\n",
       "      <th>UPF1</th>\n",
       "      <th>XRCC6</th>\n",
       "      <th>XRN2</th>\n",
       "      <th>YBX3</th>\n",
       "      <th>YWHAG</th>\n",
       "      <th>ZNF622</th>\n",
       "      <th>ZRANB2</th>\n",
       "    </tr>\n",
       "  </thead>\n",
       "  <tbody>\n",
       "    <tr>\n",
       "      <th>0</th>\n",
       "      <td>AAR2</td>\n",
       "      <td>0</td>\n",
       "      <td>0</td>\n",
       "      <td>200</td>\n",
       "      <td>0</td>\n",
       "      <td>200</td>\n",
       "      <td>200</td>\n",
       "      <td>0</td>\n",
       "      <td>0</td>\n",
       "      <td>0</td>\n",
       "      <td>...</td>\n",
       "      <td>200</td>\n",
       "      <td>200</td>\n",
       "      <td>200</td>\n",
       "      <td>200</td>\n",
       "      <td>0</td>\n",
       "      <td>0</td>\n",
       "      <td>1000</td>\n",
       "      <td>0</td>\n",
       "      <td>0</td>\n",
       "      <td>0</td>\n",
       "    </tr>\n",
       "    <tr>\n",
       "      <th>1</th>\n",
       "      <td>AASDHPPT</td>\n",
       "      <td>200</td>\n",
       "      <td>200</td>\n",
       "      <td>200</td>\n",
       "      <td>0</td>\n",
       "      <td>200</td>\n",
       "      <td>200</td>\n",
       "      <td>200</td>\n",
       "      <td>0</td>\n",
       "      <td>200</td>\n",
       "      <td>...</td>\n",
       "      <td>0</td>\n",
       "      <td>200</td>\n",
       "      <td>200</td>\n",
       "      <td>1000</td>\n",
       "      <td>200</td>\n",
       "      <td>0</td>\n",
       "      <td>200</td>\n",
       "      <td>200</td>\n",
       "      <td>200</td>\n",
       "      <td>0</td>\n",
       "    </tr>\n",
       "    <tr>\n",
       "      <th>2</th>\n",
       "      <td>AATF</td>\n",
       "      <td>0</td>\n",
       "      <td>0</td>\n",
       "      <td>0</td>\n",
       "      <td>0</td>\n",
       "      <td>0</td>\n",
       "      <td>0</td>\n",
       "      <td>200</td>\n",
       "      <td>0</td>\n",
       "      <td>0</td>\n",
       "      <td>...</td>\n",
       "      <td>0</td>\n",
       "      <td>0</td>\n",
       "      <td>200</td>\n",
       "      <td>0</td>\n",
       "      <td>0</td>\n",
       "      <td>200</td>\n",
       "      <td>200</td>\n",
       "      <td>0</td>\n",
       "      <td>0</td>\n",
       "      <td>0</td>\n",
       "    </tr>\n",
       "    <tr>\n",
       "      <th>3</th>\n",
       "      <td>ABHD10</td>\n",
       "      <td>0</td>\n",
       "      <td>0</td>\n",
       "      <td>0</td>\n",
       "      <td>0</td>\n",
       "      <td>200</td>\n",
       "      <td>0</td>\n",
       "      <td>0</td>\n",
       "      <td>0</td>\n",
       "      <td>200</td>\n",
       "      <td>...</td>\n",
       "      <td>0</td>\n",
       "      <td>200</td>\n",
       "      <td>200</td>\n",
       "      <td>200</td>\n",
       "      <td>0</td>\n",
       "      <td>0</td>\n",
       "      <td>200</td>\n",
       "      <td>0</td>\n",
       "      <td>0</td>\n",
       "      <td>0</td>\n",
       "    </tr>\n",
       "    <tr>\n",
       "      <th>4</th>\n",
       "      <td>ABT1</td>\n",
       "      <td>0</td>\n",
       "      <td>200</td>\n",
       "      <td>200</td>\n",
       "      <td>0</td>\n",
       "      <td>200</td>\n",
       "      <td>200</td>\n",
       "      <td>1000</td>\n",
       "      <td>200</td>\n",
       "      <td>200</td>\n",
       "      <td>...</td>\n",
       "      <td>0</td>\n",
       "      <td>200</td>\n",
       "      <td>200</td>\n",
       "      <td>200</td>\n",
       "      <td>0</td>\n",
       "      <td>200</td>\n",
       "      <td>1000</td>\n",
       "      <td>0</td>\n",
       "      <td>200</td>\n",
       "      <td>0</td>\n",
       "    </tr>\n",
       "    <tr>\n",
       "      <th>...</th>\n",
       "      <td>...</td>\n",
       "      <td>...</td>\n",
       "      <td>...</td>\n",
       "      <td>...</td>\n",
       "      <td>...</td>\n",
       "      <td>...</td>\n",
       "      <td>...</td>\n",
       "      <td>...</td>\n",
       "      <td>...</td>\n",
       "      <td>...</td>\n",
       "      <td>...</td>\n",
       "      <td>...</td>\n",
       "      <td>...</td>\n",
       "      <td>...</td>\n",
       "      <td>...</td>\n",
       "      <td>...</td>\n",
       "      <td>...</td>\n",
       "      <td>...</td>\n",
       "      <td>...</td>\n",
       "      <td>...</td>\n",
       "      <td>...</td>\n",
       "    </tr>\n",
       "    <tr>\n",
       "      <th>946</th>\n",
       "      <td>ZNF93</td>\n",
       "      <td>0</td>\n",
       "      <td>0</td>\n",
       "      <td>200</td>\n",
       "      <td>0</td>\n",
       "      <td>200</td>\n",
       "      <td>200</td>\n",
       "      <td>0</td>\n",
       "      <td>0</td>\n",
       "      <td>0</td>\n",
       "      <td>...</td>\n",
       "      <td>0</td>\n",
       "      <td>0</td>\n",
       "      <td>200</td>\n",
       "      <td>200</td>\n",
       "      <td>0</td>\n",
       "      <td>0</td>\n",
       "      <td>200</td>\n",
       "      <td>0</td>\n",
       "      <td>1000</td>\n",
       "      <td>0</td>\n",
       "    </tr>\n",
       "    <tr>\n",
       "      <th>947</th>\n",
       "      <td>ZSCAN12</td>\n",
       "      <td>0</td>\n",
       "      <td>200</td>\n",
       "      <td>0</td>\n",
       "      <td>0</td>\n",
       "      <td>200</td>\n",
       "      <td>200</td>\n",
       "      <td>200</td>\n",
       "      <td>0</td>\n",
       "      <td>0</td>\n",
       "      <td>...</td>\n",
       "      <td>200</td>\n",
       "      <td>200</td>\n",
       "      <td>200</td>\n",
       "      <td>200</td>\n",
       "      <td>200</td>\n",
       "      <td>0</td>\n",
       "      <td>200</td>\n",
       "      <td>0</td>\n",
       "      <td>200</td>\n",
       "      <td>200</td>\n",
       "    </tr>\n",
       "    <tr>\n",
       "      <th>948</th>\n",
       "      <td>ZSCAN2</td>\n",
       "      <td>0</td>\n",
       "      <td>0</td>\n",
       "      <td>0</td>\n",
       "      <td>0</td>\n",
       "      <td>0</td>\n",
       "      <td>0</td>\n",
       "      <td>0</td>\n",
       "      <td>0</td>\n",
       "      <td>0</td>\n",
       "      <td>...</td>\n",
       "      <td>0</td>\n",
       "      <td>0</td>\n",
       "      <td>0</td>\n",
       "      <td>0</td>\n",
       "      <td>0</td>\n",
       "      <td>0</td>\n",
       "      <td>0</td>\n",
       "      <td>0</td>\n",
       "      <td>0</td>\n",
       "      <td>0</td>\n",
       "    </tr>\n",
       "    <tr>\n",
       "      <th>949</th>\n",
       "      <td>ZSCAN20</td>\n",
       "      <td>0</td>\n",
       "      <td>0</td>\n",
       "      <td>0</td>\n",
       "      <td>0</td>\n",
       "      <td>0</td>\n",
       "      <td>0</td>\n",
       "      <td>0</td>\n",
       "      <td>0</td>\n",
       "      <td>0</td>\n",
       "      <td>...</td>\n",
       "      <td>0</td>\n",
       "      <td>0</td>\n",
       "      <td>0</td>\n",
       "      <td>0</td>\n",
       "      <td>0</td>\n",
       "      <td>0</td>\n",
       "      <td>0</td>\n",
       "      <td>0</td>\n",
       "      <td>0</td>\n",
       "      <td>0</td>\n",
       "    </tr>\n",
       "    <tr>\n",
       "      <th>950</th>\n",
       "      <td>ZSCAN22</td>\n",
       "      <td>0</td>\n",
       "      <td>200</td>\n",
       "      <td>0</td>\n",
       "      <td>0</td>\n",
       "      <td>0</td>\n",
       "      <td>200</td>\n",
       "      <td>200</td>\n",
       "      <td>0</td>\n",
       "      <td>0</td>\n",
       "      <td>...</td>\n",
       "      <td>0</td>\n",
       "      <td>200</td>\n",
       "      <td>0</td>\n",
       "      <td>200</td>\n",
       "      <td>0</td>\n",
       "      <td>0</td>\n",
       "      <td>200</td>\n",
       "      <td>200</td>\n",
       "      <td>0</td>\n",
       "      <td>0</td>\n",
       "    </tr>\n",
       "  </tbody>\n",
       "</table>\n",
       "<p>951 rows × 88 columns</p>\n",
       "</div>"
      ],
      "text/plain": [
       "      gene_id  AARS  AGGF1  AKAP8L  AUH  BUD13  CPSF6  CSTF2T  DDX24  DDX3X  \\\n",
       "0        AAR2     0      0     200    0    200    200       0      0      0   \n",
       "1    AASDHPPT   200    200     200    0    200    200     200      0    200   \n",
       "2        AATF     0      0       0    0      0      0     200      0      0   \n",
       "3      ABHD10     0      0       0    0    200      0       0      0    200   \n",
       "4        ABT1     0    200     200    0    200    200    1000    200    200   \n",
       "..        ...   ...    ...     ...  ...    ...    ...     ...    ...    ...   \n",
       "946     ZNF93     0      0     200    0    200    200       0      0      0   \n",
       "947   ZSCAN12     0    200       0    0    200    200     200      0      0   \n",
       "948    ZSCAN2     0      0       0    0      0      0       0      0      0   \n",
       "949   ZSCAN20     0      0       0    0      0      0       0      0      0   \n",
       "950   ZSCAN22     0    200       0    0      0    200     200      0      0   \n",
       "\n",
       "     ...  U2AF1  U2AF2  UCHL5  UPF1  XRCC6  XRN2  YBX3  YWHAG  ZNF622  ZRANB2  \n",
       "0    ...    200    200    200   200      0     0  1000      0       0       0  \n",
       "1    ...      0    200    200  1000    200     0   200    200     200       0  \n",
       "2    ...      0      0    200     0      0   200   200      0       0       0  \n",
       "3    ...      0    200    200   200      0     0   200      0       0       0  \n",
       "4    ...      0    200    200   200      0   200  1000      0     200       0  \n",
       "..   ...    ...    ...    ...   ...    ...   ...   ...    ...     ...     ...  \n",
       "946  ...      0      0    200   200      0     0   200      0    1000       0  \n",
       "947  ...    200    200    200   200    200     0   200      0     200     200  \n",
       "948  ...      0      0      0     0      0     0     0      0       0       0  \n",
       "949  ...      0      0      0     0      0     0     0      0       0       0  \n",
       "950  ...      0    200      0   200      0     0   200    200       0       0  \n",
       "\n",
       "[951 rows x 88 columns]"
      ]
     },
     "execution_count": 51,
     "metadata": {},
     "output_type": "execute_result"
    }
   ],
   "source": [
    "#scipy.stats.mannwhitneyu([0,0,0,0], [0,0,1,0], alternative='greater')\n",
    "decrease_df"
   ]
  },
  {
   "cell_type": "code",
   "execution_count": null,
   "metadata": {},
   "outputs": [],
   "source": []
  },
  {
   "cell_type": "code",
   "execution_count": null,
   "metadata": {},
   "outputs": [],
   "source": []
  },
  {
   "cell_type": "code",
   "execution_count": 32,
   "metadata": {},
   "outputs": [
    {
     "data": {
      "text/plain": [
       "MannwhitneyuResult(statistic=507833.0, pvalue=3.4329578574321844e-08)"
      ]
     },
     "execution_count": 32,
     "metadata": {},
     "output_type": "execute_result"
    }
   ],
   "source": [
    "scipy.stats.mannwhitneyu(decrease_df.loc[:,'YBX3'], increase_df.loc[:,'YBX3'], alternative='greater')"
   ]
  },
  {
   "cell_type": "code",
   "execution_count": null,
   "metadata": {},
   "outputs": [],
   "source": []
  },
  {
   "cell_type": "code",
   "execution_count": 28,
   "metadata": {},
   "outputs": [
    {
     "data": {
      "text/plain": [
       "MannwhitneyuResult(statistic=509995.5, pvalue=0.999999994668146)"
      ]
     },
     "execution_count": 28,
     "metadata": {},
     "output_type": "execute_result"
    }
   ],
   "source": [
    "scipy.stats.mannwhitneyu(decrease_df.loc[:,'LARP4'], increase_df.loc[:,'LARP4'], alternative='less')"
   ]
  },
  {
   "cell_type": "code",
   "execution_count": 5,
   "metadata": {},
   "outputs": [
    {
     "data": {
      "text/plain": [
       "(0.98027443007801107, 1.2416176121235986e-61)"
      ]
     },
     "execution_count": 5,
     "metadata": {},
     "output_type": "execute_result"
    }
   ],
   "source": [
    "scipy.stats.pearsonr(decrease_df.mean().sort_values(ascending=False), increase_df.mean().sort_values(ascending=False))"
   ]
  },
  {
   "cell_type": "code",
   "execution_count": 15,
   "metadata": {},
   "outputs": [],
   "source": [
    "sig_RBP_list = []\n",
    "cutoff = 0.05\n",
    "for RBP in decrease_df.columns[1:]:\n",
    "    stat, pvalue = scipy.stats.ranksums(decrease_df.loc[:,RBP], increase_df.loc[:,RBP])\n",
    "    if pvalue < cutoff and stat > 0:\n",
    "        sig_RBP_list.append((RBP, pvalue))\n",
    "sig_RBP_list.sort(key=lambda x: x[1])"
   ]
  },
  {
   "cell_type": "code",
   "execution_count": 7,
   "metadata": {},
   "outputs": [],
   "source": [
    "pd.DataFrame(sig_RBP_list).to_csv('xx.tsv', sep='\\t', index=None)"
   ]
  },
  {
   "cell_type": "code",
   "execution_count": 5,
   "metadata": {
    "collapsed": true
   },
   "outputs": [],
   "source": [
    "sig_RBP_list = []\n",
    "cutoff = 0.01\n",
    "for RBP in decrease_df.columns[1:]:\n",
    "    stat, pvalue = scipy.stats.ranksums(decrease_df.loc[:,RBP], decrease_df.iloc[:,1:].mean(axis=1))\n",
    "    if pvalue < cutoff and stat > 0:\n",
    "        sig_RBP_list.append((RBP, pvalue))\n",
    "sig_RBP_list.sort(key=lambda x: x[1])"
   ]
  },
  {
   "cell_type": "code",
   "execution_count": 16,
   "metadata": {},
   "outputs": [
    {
     "data": {
      "text/plain": [
       "[('IGF2BP1', 2.3337843094335259e-40),\n",
       " ('FAM120A', 4.7024056385505145e-40),\n",
       " ('LIN28B', 1.7341960357063216e-35),\n",
       " ('PUM2', 2.6662367264571202e-31),\n",
       " ('UPF1', 3.6871665479234703e-30),\n",
       " ('KHSRP', 1.2915499378212381e-29),\n",
       " ('SND1', 1.0416676306283194e-26),\n",
       " ('TIA1', 8.0387981879132062e-25),\n",
       " ('ILF3', 8.2211427029715596e-25),\n",
       " ('YBX3', 2.5085564363595659e-24),\n",
       " ('DDX6', 7.8182033669048643e-24),\n",
       " ('HNRNPU', 4.6101812823129023e-22),\n",
       " ('TROVE2', 3.2626572065245952e-21),\n",
       " ('GEMIN5', 7.8440857864200525e-21),\n",
       " ('TAF15', 1.5099166341653914e-20),\n",
       " ('IGF2BP2', 2.465678031259824e-19),\n",
       " ('CPSF6', 5.0292164687291799e-18),\n",
       " ('AGGF1', 7.2225124712627871e-18),\n",
       " ('HNRNPA1', 9.9184630446427784e-18),\n",
       " ('TBRG4', 1.8361467650323456e-17),\n",
       " ('SAFB2', 2.2357150004638952e-17),\n",
       " ('FXR1', 2.3135475153952365e-17),\n",
       " ('FTO', 2.8040763116244562e-17),\n",
       " ('PPIL4', 3.1871093212700836e-17),\n",
       " ('KHDRBS1', 5.1380266345596288e-17),\n",
       " ('MTPAP', 7.4299772166951072e-17),\n",
       " ('HLTF', 7.6322779147487294e-17),\n",
       " ('UCHL5', 1.0579976782085127e-16),\n",
       " ('DROSHA', 5.0128711868281403e-16),\n",
       " ('LARP4', 8.4172201121333604e-16),\n",
       " ('HNRNPUL1', 1.3057510776309901e-15),\n",
       " ('QKI', 8.6245822120014748e-15),\n",
       " ('FASTKD2', 9.0462697590022734e-15),\n",
       " ('CSTF2T', 3.4308508431139096e-14),\n",
       " ('XRCC6', 3.6041944754604167e-14),\n",
       " ('BUD13', 4.0608907655970582e-14),\n",
       " ('DDX3X', 6.4285182257020014e-14),\n",
       " ('GNL3', 9.4282820899737603e-14),\n",
       " ('SRSF1', 1.6246753290271449e-13),\n",
       " ('DDX55', 3.9631508008813901e-13),\n",
       " ('METAP2', 7.8600761037134251e-13),\n",
       " ('AKAP8L', 1.2833628434133625e-12),\n",
       " ('RBFOX2', 2.1964942466600318e-12),\n",
       " ('GTF2F1', 2.9055435404739823e-12),\n",
       " ('PRPF8', 3.2599541785482749e-12),\n",
       " ('DHX30', 1.9978060786080147e-11),\n",
       " ('TARDBP', 6.1818013791890473e-11),\n",
       " ('RBM15', 9.8850827533820187e-11),\n",
       " ('PUS1', 2.2224320431875804e-10),\n",
       " ('FXR2', 2.6985459535848586e-10),\n",
       " ('DGCR8', 2.7282737990611334e-10),\n",
       " ('U2AF2', 3.7963226155488609e-10),\n",
       " ('AARS', 5.5786256089754256e-10),\n",
       " ('GPKOW', 1.0496736007305976e-09),\n",
       " ('RPS5', 1.6548078414731622e-09),\n",
       " ('ZNF622', 1.8207040629361004e-09),\n",
       " ('NONO', 1.9138641554335459e-09),\n",
       " ('SMNDC1', 4.9663257898879685e-09),\n",
       " ('SRSF7', 1.0998983095279237e-08),\n",
       " ('SF3B1', 4.9488808409068367e-08),\n",
       " ('EFTUD2', 6.4880188756480787e-08),\n",
       " ('FMR1', 9.0424331157636311e-08),\n",
       " ('NCBP2', 1.2144205709120841e-07),\n",
       " ('RBM22', 1.2034974973147387e-06),\n",
       " ('YWHAG', 2.5692570774632806e-06),\n",
       " ('U2AF1', 3.7954905312564773e-06),\n",
       " ('ZRANB2', 8.7913254294310185e-06),\n",
       " ('LSM11', 1.0886494240347071e-05),\n",
       " ('NSUN2', 1.1029741627314365e-05),\n",
       " ('NPM1', 1.3414477180206631e-05),\n",
       " ('DDX42', 4.6216926772654414e-05),\n",
       " ('HNRNPM', 5.1917440627033359e-05),\n",
       " ('XRN2', 8.0841803448420459e-05),\n",
       " ('EWSR1', 0.00096069801715453892),\n",
       " ('PTBP1', 0.0010469312529036521),\n",
       " ('TRA2A', 0.0012575491100325065),\n",
       " ('EIF4G2', 0.0014246289975064982),\n",
       " ('SLTM', 0.0021201615238867289),\n",
       " ('SF3B4', 0.0037877162991905794),\n",
       " ('DDX24', 0.004374940012450825)]"
      ]
     },
     "execution_count": 16,
     "metadata": {},
     "output_type": "execute_result"
    }
   ],
   "source": [
    "sig_RBP_list"
   ]
  },
  {
   "cell_type": "code",
   "execution_count": 11,
   "metadata": {},
   "outputs": [
    {
     "data": {
      "text/plain": [
       "RanksumsResult(statistic=-11.975895571992137, pvalue=4.7527744309343747e-33)"
      ]
     },
     "execution_count": 11,
     "metadata": {},
     "output_type": "execute_result"
    }
   ],
   "source": [
    "scipy.stats.ranksums(decrease_df.loc[:,'HNRNPU'], decrease_df.iloc[:,1:].mean(axis=1))"
   ]
  },
  {
   "cell_type": "code",
   "execution_count": 14,
   "metadata": {},
   "outputs": [
    {
     "data": {
      "text/plain": [
       "422"
      ]
     },
     "execution_count": 14,
     "metadata": {},
     "output_type": "execute_result"
    }
   ],
   "source": [
    "sum(decrease_df.loc[:,'HNRNPU'] > 0)"
   ]
  },
  {
   "cell_type": "code",
   "execution_count": 15,
   "metadata": {},
   "outputs": [
    {
     "data": {
      "text/plain": [
       "455"
      ]
     },
     "execution_count": 15,
     "metadata": {},
     "output_type": "execute_result"
    }
   ],
   "source": [
    "sum(increase_df.loc[:,'HNRNPU'] > 0)"
   ]
  },
  {
   "cell_type": "code",
   "execution_count": 31,
   "metadata": {},
   "outputs": [
    {
     "data": {
      "text/plain": [
       "0.5972117706287445"
      ]
     },
     "execution_count": 31,
     "metadata": {},
     "output_type": "execute_result"
    }
   ],
   "source": [
    "decrease_df.iloc[:,1:].mean().median()"
   ]
  },
  {
   "cell_type": "markdown",
   "metadata": {},
   "source": [
    "### beta1 decreased only or beta1 decreaed + PST increaed in up genes"
   ]
  },
  {
   "cell_type": "code",
   "execution_count": 9,
   "metadata": {
    "collapsed": true
   },
   "outputs": [],
   "source": [
    "decrease_1_df = pd.read_csv('beta1_decreased_only_up_gene_three_UTR_region.RBP_binding_score_eclip_K562.txt', header=0, sep='\\t')\n",
    "decrease_2_df = pd.read_csv('beta1_decreased_PST_increased_up_gene_three_UTR_region.RBP_binding_score_eclip_K562.txt', header=0, sep='\\t')\n",
    "increase_df = pd.read_csv('beta1_increased_gene_three_UTR_region.RBP_binding_score_eclip_K562.txt', header=0, sep='\\t')"
   ]
  },
  {
   "cell_type": "code",
   "execution_count": 22,
   "metadata": {
    "scrolled": true
   },
   "outputs": [
    {
     "name": "stderr",
     "output_type": "stream",
     "text": [
      "/Library/Python/2.7/site-packages/IPython/kernel/__main__.py:1: FutureWarning: sort is deprecated, use sort_values(inplace=True) for INPLACE sorting\n",
      "  if __name__ == '__main__':\n"
     ]
    },
    {
     "data": {
      "text/plain": [
       "PUM2       3.096376\n",
       "IGF2BP1    2.440187\n",
       "DDX6       2.416831\n",
       "TIA1       2.332516\n",
       "UPF1       2.270398\n",
       "YBX3       2.233956\n",
       "FAM120A    2.053074\n",
       "DDX55      1.937611\n",
       "LARP4      1.928038\n",
       "LIN28B     1.923076\n",
       "IGF2BP2    1.707493\n",
       "SND1       1.442103\n",
       "UCHL5      1.436647\n",
       "KHSRP      1.340904\n",
       "GEMIN5     1.323670\n",
       "CPSF6      1.305003\n",
       "METAP2     1.286080\n",
       "SF3B1      1.279062\n",
       "RBM15      1.274471\n",
       "TBRG4      1.274392\n",
       "DROSHA     1.241761\n",
       "LSM11      1.229328\n",
       "AARS       1.223795\n",
       "KHDRBS1    1.217148\n",
       "FASTKD2    1.179892\n",
       "XRCC6      1.129967\n",
       "ZNF622     1.094370\n",
       "TROVE2     1.070231\n",
       "GNL3       1.002901\n",
       "FXR2       0.990787\n",
       "             ...   \n",
       "TAF15      0.576687\n",
       "ILF3       0.574519\n",
       "U2AF2      0.573064\n",
       "DGCR8      0.559287\n",
       "SRSF7      0.536129\n",
       "PRPF8      0.535580\n",
       "EIF4G2     0.523173\n",
       "SF3B4      0.519700\n",
       "PTBP1      0.519450\n",
       "SAFB2      0.514614\n",
       "GTF2F1     0.497683\n",
       "YWHAG      0.481774\n",
       "SLTM       0.467478\n",
       "RBM22      0.455263\n",
       "SMNDC1     0.451913\n",
       "FXR1       0.444129\n",
       "TRA2A      0.401386\n",
       "XRN2       0.391943\n",
       "HNRNPM     0.386677\n",
       "HLTF       0.384696\n",
       "HNRNPK     0.368877\n",
       "SBDS       0.263330\n",
       "RPS11      0.234421\n",
       "SLBP       0.227733\n",
       "NONO       0.205334\n",
       "EWSR1      0.201151\n",
       "AUH        0.160452\n",
       "LARP7      0.117854\n",
       "NSUN2      0.088078\n",
       "SERBP1     0.023207\n",
       "dtype: float64"
      ]
     },
     "execution_count": 22,
     "metadata": {},
     "output_type": "execute_result"
    }
   ],
   "source": [
    "decrease_1_df.mean().sort(ascending=False, inplace=False).to_csv('')"
   ]
  },
  {
   "cell_type": "code",
   "execution_count": 29,
   "metadata": {},
   "outputs": [
    {
     "data": {
      "text/plain": [
       "3.0963757113503765"
      ]
     },
     "execution_count": 29,
     "metadata": {},
     "output_type": "execute_result"
    }
   ],
   "source": [
    "decrease_1_df.mean()['PUM2']"
   ]
  },
  {
   "cell_type": "code",
   "execution_count": 40,
   "metadata": {
    "collapsed": true
   },
   "outputs": [],
   "source": [
    "sig_RBP_list = []\n",
    "cutoff = 0.01\n",
    "for RBP in decrease_1_df.columns[1:]:\n",
    "    stat, pvalue = scipy.stats.ranksums(decrease_1_df.loc[:,RBP], increase_df.loc[:,RBP])\n",
    "    if pvalue < cutoff and stat > 0:\n",
    "        sig_RBP_list.append((RBP, pvalue))\n",
    "sig_RBP_list.sort(key=lambda x: x[1])"
   ]
  },
  {
   "cell_type": "code",
   "execution_count": 23,
   "metadata": {},
   "outputs": [],
   "source": [
    "sig_RBP_list = []\n",
    "cutoff = 0.01\n",
    "for RBP in decrease_2_df.columns[1:]:\n",
    "    stat, pvalue = scipy.stats.ranksums(decrease_2_df.loc[:,RBP], increase_df.loc[:,RBP])\n",
    "    if pvalue < cutoff and stat > 0:\n",
    "        sig_RBP_list.append((RBP, pvalue))\n",
    "sig_RBP_list.sort(key=lambda x: x[1])"
   ]
  },
  {
   "cell_type": "code",
   "execution_count": 41,
   "metadata": {},
   "outputs": [
    {
     "data": {
      "text/plain": [
       "56"
      ]
     },
     "execution_count": 41,
     "metadata": {},
     "output_type": "execute_result"
    }
   ],
   "source": [
    "len(sig_RBP_list)"
   ]
  },
  {
   "cell_type": "code",
   "execution_count": 42,
   "metadata": {},
   "outputs": [],
   "source": [
    "sig_df = pd.DataFrame(sig_RBP_list, columns=['RBP', 'p-value'])"
   ]
  },
  {
   "cell_type": "markdown",
   "metadata": {},
   "source": [
    "# sig_df['avg_binding_score'] = sig_df.apply(lambda row: decrease_1_df.mean()[row['RBP']], axis=1)"
   ]
  },
  {
   "cell_type": "code",
   "execution_count": null,
   "metadata": {
    "collapsed": true
   },
   "outputs": [],
   "source": []
  },
  {
   "cell_type": "markdown",
   "metadata": {},
   "source": [
    "##### "
   ]
  },
  {
   "cell_type": "code",
   "execution_count": 45,
   "metadata": {},
   "outputs": [],
   "source": [
    "sig_df.sort_values(by='avg_binding_score', ascending=False).to_csv('/Users/zzeng/Desktop/beta1_decreased_genes_RBP_binding_score.tsv', index=None, sep='\\t')"
   ]
  },
  {
   "cell_type": "code",
   "execution_count": 42,
   "metadata": {},
   "outputs": [
    {
     "name": "stdout",
     "output_type": "stream",
     "text": [
      "1.48998149924e-18\n",
      "1.55946216189e-13\n",
      "3.16800813281e-11\n",
      "1.8632819145e-10\n",
      "1.9677644157e-10\n",
      "2.01836891821e-08\n",
      "5.02806727239e-08\n",
      "5.57904590055e-08\n",
      "6.87586672194e-07\n",
      "2.65063940931e-06\n",
      "7.18658616073e-06\n",
      "1.20102197619e-05\n",
      "1.75932165242e-05\n",
      "4.70818009365e-05\n",
      "7.93282123114e-05\n",
      "0.000183490338011\n",
      "0.000235611164903\n",
      "0.00109241513423\n",
      "0.00133885407368\n",
      "0.00155868304247\n",
      "0.00180476944185\n",
      "0.00261617968865\n",
      "0.00268289853284\n",
      "0.00283832433721\n",
      "0.00285323130944\n",
      "0.00321458603308\n",
      "0.00635807895834\n",
      "0.00716080320745\n",
      "0.00758225136651\n",
      "0.00879771334079\n",
      "0.00898554458351\n"
     ]
    }
   ],
   "source": [
    "for RBP, pvalue in sig_RBP_list:\n",
    "    print pvalue"
   ]
  },
  {
   "cell_type": "markdown",
   "metadata": {},
   "source": [
    "## Replicate 2"
   ]
  },
  {
   "cell_type": "code",
   "execution_count": 23,
   "metadata": {
    "collapsed": true
   },
   "outputs": [],
   "source": [
    "decrease_df = pd.read_csv('../../Replicate2/fasta_for_three_UTR_region/beta1_decreased_gene_three_UTR_region.RBP_binding_score_eclip_K562.txt', header=0, sep='\\t')\n",
    "increase_df = pd.read_csv('../../Replicate2/fasta_for_three_UTR_region/beta1_increased_gene_three_UTR_region.RBP_binding_score_eclip_K562.txt', header=0, sep='\\t')"
   ]
  },
  {
   "cell_type": "code",
   "execution_count": 21,
   "metadata": {},
   "outputs": [
    {
     "data": {
      "text/plain": [
       "RanksumsResult(statistic=-6.2820368770627102, pvalue=3.3416555146861148e-10)"
      ]
     },
     "execution_count": 21,
     "metadata": {},
     "output_type": "execute_result"
    }
   ],
   "source": [
    "scipy.stats.ranksums(decrease_df.loc[:,'HNRNPU'], decrease_df.iloc[:,1:].mean(axis=1))"
   ]
  },
  {
   "cell_type": "code",
   "execution_count": 28,
   "metadata": {},
   "outputs": [
    {
     "data": {
      "text/plain": [
       "0.8758420203268015"
      ]
     },
     "execution_count": 28,
     "metadata": {},
     "output_type": "execute_result"
    }
   ],
   "source": [
    "decrease_df.iloc[:,1:].mean().median()"
   ]
  },
  {
   "cell_type": "code",
   "execution_count": 24,
   "metadata": {},
   "outputs": [
    {
     "data": {
      "text/plain": [
       "0.87584202032679881"
      ]
     },
     "execution_count": 24,
     "metadata": {},
     "output_type": "execute_result"
    }
   ],
   "source": [
    "decrease_df.loc[:,'HNRNPU'].mean(axis=0)"
   ]
  },
  {
   "cell_type": "code",
   "execution_count": 25,
   "metadata": {},
   "outputs": [
    {
     "data": {
      "text/plain": [
       "0.76594286457753202"
      ]
     },
     "execution_count": 25,
     "metadata": {},
     "output_type": "execute_result"
    }
   ],
   "source": [
    "increase_df.loc[:,'HNRNPU'].mean(axis=0)"
   ]
  },
  {
   "cell_type": "code",
   "execution_count": 6,
   "metadata": {},
   "outputs": [
    {
     "data": {
      "text/plain": [
       "343    3.158549\n",
       "Name: HNRNPU, dtype: float64"
      ]
     },
     "execution_count": 6,
     "metadata": {},
     "output_type": "execute_result"
    }
   ],
   "source": [
    "decrease_df[decrease_df.gene_id == 'HNRNPU']['HNRNPU']"
   ]
  },
  {
   "cell_type": "code",
   "execution_count": 7,
   "metadata": {},
   "outputs": [
    {
     "data": {
      "text/html": [
       "<div>\n",
       "<table border=\"1\" class=\"dataframe\">\n",
       "  <thead>\n",
       "    <tr style=\"text-align: right;\">\n",
       "      <th></th>\n",
       "      <th>gene_id</th>\n",
       "      <th>AARS</th>\n",
       "      <th>AGGF1</th>\n",
       "      <th>AKAP8L</th>\n",
       "      <th>AUH</th>\n",
       "      <th>BUD13</th>\n",
       "      <th>CPSF6</th>\n",
       "      <th>CSTF2T</th>\n",
       "      <th>DDX24</th>\n",
       "      <th>DDX3X</th>\n",
       "      <th>...</th>\n",
       "      <th>U2AF1</th>\n",
       "      <th>U2AF2</th>\n",
       "      <th>UCHL5</th>\n",
       "      <th>UPF1</th>\n",
       "      <th>XRCC6</th>\n",
       "      <th>XRN2</th>\n",
       "      <th>YBX3</th>\n",
       "      <th>YWHAG</th>\n",
       "      <th>ZNF622</th>\n",
       "      <th>ZRANB2</th>\n",
       "    </tr>\n",
       "  </thead>\n",
       "  <tbody>\n",
       "    <tr>\n",
       "      <th>343</th>\n",
       "      <td>HNRNPU</td>\n",
       "      <td>2.457957</td>\n",
       "      <td>0.788381</td>\n",
       "      <td>1.526587</td>\n",
       "      <td>2.803647</td>\n",
       "      <td>0.394068</td>\n",
       "      <td>1.316222</td>\n",
       "      <td>0.945677</td>\n",
       "      <td>1.945229</td>\n",
       "      <td>1.485515</td>\n",
       "      <td>...</td>\n",
       "      <td>1.940783</td>\n",
       "      <td>0.402417</td>\n",
       "      <td>2.539973</td>\n",
       "      <td>4.495471</td>\n",
       "      <td>0.650346</td>\n",
       "      <td>2.285296</td>\n",
       "      <td>2.495561</td>\n",
       "      <td>1.977745</td>\n",
       "      <td>1.745376</td>\n",
       "      <td>1.586507</td>\n",
       "    </tr>\n",
       "  </tbody>\n",
       "</table>\n",
       "<p>1 rows × 88 columns</p>\n",
       "</div>"
      ],
      "text/plain": [
       "    gene_id      AARS     AGGF1    AKAP8L       AUH     BUD13     CPSF6  \\\n",
       "343  HNRNPU  2.457957  0.788381  1.526587  2.803647  0.394068  1.316222   \n",
       "\n",
       "       CSTF2T     DDX24     DDX3X    ...        U2AF1     U2AF2     UCHL5  \\\n",
       "343  0.945677  1.945229  1.485515    ...     1.940783  0.402417  2.539973   \n",
       "\n",
       "         UPF1     XRCC6      XRN2      YBX3     YWHAG    ZNF622    ZRANB2  \n",
       "343  4.495471  0.650346  2.285296  2.495561  1.977745  1.745376  1.586507  \n",
       "\n",
       "[1 rows x 88 columns]"
      ]
     },
     "execution_count": 7,
     "metadata": {},
     "output_type": "execute_result"
    }
   ],
   "source": [
    "decrease_df[decrease_df.gene_id == 'HNRNPU']"
   ]
  },
  {
   "cell_type": "code",
   "execution_count": 10,
   "metadata": {},
   "outputs": [
    {
     "data": {
      "text/plain": [
       "(0.99301523663079039, 1.108090896080973e-80)"
      ]
     },
     "execution_count": 10,
     "metadata": {},
     "output_type": "execute_result"
    }
   ],
   "source": [
    "scipy.stats.pearsonr(decrease_df.mean().sort_values(ascending=False), increase_df.mean().sort_values(ascending=False))"
   ]
  },
  {
   "cell_type": "code",
   "execution_count": 13,
   "metadata": {},
   "outputs": [],
   "source": [
    "sig_RBP_list = []\n",
    "cutoff = 0.01\n",
    "for RBP in decrease_df.columns[1:]:\n",
    "    stat, pvalue = scipy.stats.ranksums(decrease_df.loc[:,RBP], increase_df.loc[:,RBP])\n",
    "    if pvalue < cutoff and stat < 0:\n",
    "        sig_RBP_list.append((RBP, pvalue))\n",
    "sig_RBP_list.sort(key=lambda x: x[1])"
   ]
  },
  {
   "cell_type": "code",
   "execution_count": 14,
   "metadata": {
    "collapsed": true
   },
   "outputs": [],
   "source": [
    "pd.DataFrame(sig_RBP_list).to_csv('xx.tsv', sep='\\t', index=None)"
   ]
  },
  {
   "cell_type": "markdown",
   "metadata": {
    "collapsed": true
   },
   "source": [
    "## Replicate 3"
   ]
  },
  {
   "cell_type": "code",
   "execution_count": 17,
   "metadata": {
    "collapsed": true
   },
   "outputs": [],
   "source": [
    "decrease_df = pd.read_csv('../../Replicate3/fasta_for_three_UTR_region/beta1_decreased_gene_three_UTR_region.RBP_binding_score_eclip_K562.txt', header=0, sep='\\t')\n",
    "increase_df = pd.read_csv('../../Replicate3/fasta_for_three_UTR_region/beta1_increased_gene_three_UTR_region.RBP_binding_score_eclip_K562.txt', header=0, sep='\\t')"
   ]
  },
  {
   "cell_type": "code",
   "execution_count": 18,
   "metadata": {},
   "outputs": [
    {
     "name": "stdout",
     "output_type": "stream",
     "text": [
      "1.21676265633 0.223694532138\n"
     ]
    }
   ],
   "source": [
    "sig_RBP_list = []\n",
    "cutoff = 0.01\n",
    "for RBP in decrease_df.columns[1:]:\n",
    "    stat, pvalue = scipy.stats.ranksums(decrease_df.loc[:,RBP], increase_df.loc[:,RBP])\n",
    "    if RBP == 'HNRNPU':\n",
    "        print stat, pvalue\n",
    "    if pvalue < cutoff and stat < 0:\n",
    "        sig_RBP_list.append((RBP, pvalue))\n",
    "sig_RBP_list.sort(key=lambda x: x[1])"
   ]
  },
  {
   "cell_type": "code",
   "execution_count": 19,
   "metadata": {},
   "outputs": [
    {
     "data": {
      "text/plain": [
       "[('LSM11', 7.6345264536430459e-06),\n",
       " ('SLTM', 0.0022280348156737623),\n",
       " ('NONO', 0.0045676518841688577),\n",
       " ('HNRNPK', 0.0051906754382789683),\n",
       " ('HNRNPM', 0.0056624231973212927),\n",
       " ('XRN2', 0.0070137244104820128)]"
      ]
     },
     "execution_count": 19,
     "metadata": {},
     "output_type": "execute_result"
    }
   ],
   "source": [
    "sig_RBP_list"
   ]
  },
  {
   "cell_type": "code",
   "execution_count": 8,
   "metadata": {},
   "outputs": [
    {
     "data": {
      "text/plain": [
       "743.4328754984492"
      ]
     },
     "execution_count": 8,
     "metadata": {},
     "output_type": "execute_result"
    }
   ],
   "source": [
    "722.0 / 2257 * 2324"
   ]
  },
  {
   "cell_type": "code",
   "execution_count": 9,
   "metadata": {},
   "outputs": [
    {
     "data": {
      "text/plain": [
       "774.6666666666666"
      ]
     },
     "execution_count": 9,
     "metadata": {},
     "output_type": "execute_result"
    }
   ],
   "source": [
    "2324 / 3.0"
   ]
  },
  {
   "cell_type": "code",
   "execution_count": null,
   "metadata": {
    "collapsed": true
   },
   "outputs": [],
   "source": [
    "750 + 900 + 600"
   ]
  },
  {
   "cell_type": "code",
   "execution_count": 10,
   "metadata": {},
   "outputs": [
    {
     "data": {
      "text/plain": [
       "2324"
      ]
     },
     "execution_count": 10,
     "metadata": {},
     "output_type": "execute_result"
    }
   ],
   "source": [
    "775 + 925 + 624"
   ]
  },
  {
   "cell_type": "code",
   "execution_count": null,
   "metadata": {
    "collapsed": true
   },
   "outputs": [],
   "source": []
  }
 ],
 "metadata": {
  "kernelspec": {
   "display_name": "Python 2",
   "language": "python",
   "name": "python2"
  },
  "language_info": {
   "codemirror_mode": {
    "name": "ipython",
    "version": 3
   },
   "file_extension": ".py",
   "mimetype": "text/x-python",
   "name": "python",
   "nbconvert_exporter": "python",
   "pygments_lexer": "ipython3",
   "version": "3.7.3"
  }
 },
 "nbformat": 4,
 "nbformat_minor": 1
}
