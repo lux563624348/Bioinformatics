{
 "cells": [
  {
   "cell_type": "markdown",
   "metadata": {},
   "source": [
    "# multi omic data integration"
   ]
  },
  {
   "cell_type": "code",
   "execution_count": 1,
   "metadata": {},
   "outputs": [
    {
     "data": {
      "text/plain": [
       "'/home/xli'"
      ]
     },
     "execution_count": 1,
     "metadata": {},
     "output_type": "execute_result"
    }
   ],
   "source": [
    "import os\n",
    "os.chdir('/home/xli')\n",
    "os.getcwd()"
   ]
  },
  {
   "cell_type": "code",
   "execution_count": 2,
   "metadata": {},
   "outputs": [],
   "source": [
    "# Data Analysis\n",
    "import numpy as np\n",
    "import pandas as pd\n",
    "from pybedtools import BedTool\n",
    "\n",
    "# Plot Package\n",
    "import matplotlib\n",
    "matplotlib.use('AGG')\n",
    "import matplotlib.pyplot as plt\n",
    "import seaborn as sns\n",
    "sns.set_style(\"white\") \n",
    "\n",
    "# display plots in this notebook\n",
    "%matplotlib inline\n"
   ]
  },
  {
   "cell_type": "code",
   "execution_count": 33,
   "metadata": {},
   "outputs": [],
   "source": [
    "def union_all_features(Path_Features_Folder, summit_or_normal):\n",
    "    ## find all features inside given path\n",
    "    Path_Feature_list=[]\n",
    "    for file in os.listdir(Path_Features_Folder):\n",
    "        if (file.endswith(\".bed\")):\n",
    "            Path_Feature_list.append(Path_Features_Folder+'/'+file)\n",
    "    \n",
    "    ## union them all\n",
    "    i=0\n",
    "    if (summit_or_normal=='summit'):\n",
    "        for Path_Feature in Path_Feature_list:\n",
    "            df_feature = pd.read_csv(Path_Feature,sep=\"\\t\")\n",
    "            if(min(df_feature['pin'])==0):\n",
    "                print (\"ERR: File \" + Path_Feature + \"has wrong summit, check!\")\n",
    "                exit\n",
    "            else:\n",
    "                df_feature['start'] = df_feature['pin']-1\n",
    "                df_feature['end'] = df_feature['pin']\n",
    "                feature_add = BedTool.from_dataframe(df_feature)\n",
    "                if(i==0):\n",
    "                    feature_union = feature_add\n",
    "                else:\n",
    "                    feature_union = feature_union.cat(feature_add,postmerge=False)\n",
    "                i+=1\n",
    "    else:\n",
    "        for Path_Feature in Path_Feature_list:\n",
    "            feature_add=BedTool(Path_Feature)\n",
    "            if(i==0):\n",
    "                feature_union = feature_add\n",
    "            else:\n",
    "                feature_union = feature_union.cat(feature_add,postmerge=False)\n",
    "            i+=1\n",
    "    return feature_union.sort()\n",
    "\n",
    "def associated_features_with_genes(feature_target, union_features, number_features_per_gene):\n",
    "    # Gene Path, Target\n",
    "\n",
    "    ## Features union\n",
    "    features_closest_associated=feature_target.closest(union_features, k=number_features_per_gene, d=True, D='a')\n",
    "    #\"a\"     Report distance with respect to A.  When A is on the - strand, \"upstream\" means B has a higher (start,stop).\n",
    "\n",
    "    #df_features_closest_associated=pd.read_csv(features_20_closest_associated.fn, header=None, sep=\"\\t\")\n",
    "    return features_closest_associated.fn\n",
    "\n",
    "def features_visualization_on_gene(df_group, gene_name, num_columns_target, fc_label):\n",
    "    df_inside_gene = df_group.get_group(gene_name) ##\n",
    "    Gene_Expression_FC = df_inside_gene.iloc[0,4]\n",
    "    df_inside_gene = df_inside_gene.iloc[:, num_columns_target:]\n",
    "    ## data inside gene format, actually ignore gene part, then, still 3 should be id.\n",
    "    df_subgroup_inside_gene = df_inside_gene.iloc[:, 3].str.split('_',  expand=True).groupby([0])\n",
    "    # group by first part of id, normally is the category\n",
    "    fig, ax = plt.subplots(nrows=1, ncols=1, figsize=(9,6))\n",
    "\n",
    "    color=['C0','C1','C2','C3','C4','C5','C6','C7','C8','C9','black'] \n",
    "    ## Maxium 10 features\n",
    "    boundary_limit=0\n",
    "    list_item_legend=[]\n",
    "    list_name_legend=[]\n",
    "    i=0\n",
    "    j=0\n",
    "    ## assuming fifth columns score, is Log2(FC)\n",
    "    for feature_type in df_subgroup_inside_gene.groups.keys():\n",
    "        Enlargement_Constant=200\n",
    "        df_feature_tem = df_inside_gene.loc[df_subgroup_inside_gene.get_group(feature_type).index,:] \n",
    "        x_coordinate=df_feature_tem.iloc[:,len(df_feature_tem.columns)-1].astype(float) ## last columns is distance to Target\n",
    "        boundary_limit = max(boundary_limit, max(max(x_coordinate),abs(min(x_coordinate))))\n",
    "        \n",
    "        if(feature_type in fc_label):\n",
    "            if(feature_type=='SE'): Enlargement_Constant=1000              \n",
    "#############################################################################################\n",
    "            ### This line is like the fold change = 1 line, \n",
    "            ax.plot([-boundary_limit,boundary_limit],[j,j], c=color[i], linestyle='--', lw=1, label=feature_type+\"fold_change=1\")\n",
    "#############################################################################################\n",
    "            df_feature_tem_fc_1 = df_feature_tem[df_feature_tem.iloc[:,4].astype(float)>0]  ## fifth columns is score\n",
    "            x_coordinate= df_feature_tem_fc_1.iloc[:,len(df_feature_tem.columns)-1].astype(float) ## last columns is distance to Target\n",
    "            y_coordinate= df_feature_tem_fc_1.iloc[:,4].astype(float) ## corresponding to score part\n",
    "            marker_size = [round(x) for x in abs(y_coordinate.astype(float)*Enlargement_Constant)]\n",
    "            im=ax.scatter(x_coordinate, np.zeros(len(x_coordinate))+j+0.5, s=marker_size,  marker='^', c=color[i], alpha=0.8)\n",
    "            list_item_legend.append(im)\n",
    "            list_name_legend.append(feature_type+'_Up')\n",
    "#############################################################################################    \n",
    "            df_feature_tem_fc_less_1 = df_feature_tem[df_feature_tem.iloc[:,4].astype(float)<0]\n",
    "            x_coordinate= df_feature_tem_fc_less_1.iloc[:,len(df_feature_tem.columns)-1].astype(float) ## last columns is distance to Target\n",
    "            y_coordinate= df_feature_tem_fc_less_1.iloc[:,4].astype(float) ## corresponding to score part\n",
    "            marker_size = [round(x) for x in abs(y_coordinate.astype(float)*Enlargement_Constant)]\n",
    "            im=ax.scatter(x_coordinate, np.zeros(len(x_coordinate))+j-0.5, s=marker_size, marker='v' , c=color[i], alpha=0.8)\n",
    "            list_item_legend.append(im)\n",
    "            list_name_legend.append(feature_type+'_Down')\n",
    "            j+=1\n",
    "            print (j)\n",
    "####################################################################################\n",
    "        else:\n",
    "            #y_coordinate=np.log2(df_feature_tem.iloc[:,4].astype(float))  ## corresponding to score part\n",
    "            y_coordinate=(df_feature_tem.iloc[:,4].astype(float))\n",
    "            im=ax.scatter(x_coordinate, y_coordinate, s=Enlargement_Constant, c=color[i],  marker='^')\n",
    "            list_item_legend.append(im)\n",
    "            list_name_legend.append(feature_type)\n",
    "        i+=1\n",
    "        ## color code +1\n",
    "####################################################################################\n",
    "    legend_object = ax.legend(list_item_legend,list_name_legend, loc=\"upper right\", scatterpoints=1,bbox_to_anchor=(0.50,1, 1,0),\n",
    "            edgecolor='w', borderaxespad=0, fancybox=True, shadow=False,  fontsize=18, labelspacing=1.0)\n",
    "    x=[-boundary_limit,0,boundary_limit]\n",
    "    ax.set_xticks(x)\n",
    "    customized_xticks=[ 'Upstream: '+ str(x[0]) ,'TSS of '+gene_name,'Downstream: +' + str(x[2])]\n",
    "    ax.set_xticklabels(customized_xticks, fontsize=18)\n",
    "    ax.grid(which='major', axis='x', linestyle='--')\n",
    "    ax.set_ylabel(\"Tcf1_Peaks_Strength (Scale: Log2)\", fontsize=18)\n",
    "    #ax.set_ylim(-3,10)\n",
    "    ax.set_title('Expression Log2(Fold Change): '+ str(Gene_Expression_FC), fontsize=18)\n",
    "    return None"
   ]
  },
  {
   "cell_type": "code",
   "execution_count": null,
   "metadata": {},
   "outputs": [],
   "source": []
  },
  {
   "cell_type": "code",
   "execution_count": 4,
   "metadata": {},
   "outputs": [
    {
     "name": "stderr",
     "output_type": "stream",
     "text": [
      "/opt/miniconda2/envs/ipykernel_py3/lib/python3.7/site-packages/IPython/core/interactiveshell.py:3058: DtypeWarning: Columns (14,16) have mixed types. Specify dtype option on import or set low_memory=False.\n",
      "  interactivity=interactivity, compiler=compiler, result=result)\n"
     ]
    }
   ],
   "source": [
    "#Union Features\n",
    "Path_Features = \"/home/xli/cloud_research/PengGroup/XLi/Data/Haihui/CD8-HP/DNaseq_seq_RNA_Seq_ChIP_seq_HiC/Features/Summary_Files\"\n",
    "union_features = union_all_features(Path_Features,'nosummit')\n",
    "## Prepare Target genes\n",
    "Path_Target=Path_Features+'/Target/24391_Target_mm9_genes_with_strand.bed'\n",
    "df_target = pd.read_csv(Path_Target, sep=\"\\t\")\n",
    "df_target['start'] =  df_target['pin'] \n",
    "df_target['end'] =  df_target['pin']+1\n",
    "Feature_Target=BedTool.from_dataframe(df_target).sort()\n",
    "\n",
    "##Associated by closest \n",
    "Path_Associated_featuers = associated_features_with_genes(Feature_Target, union_features, 20)\n",
    "df_group=pd.read_csv(Path_Associated_featuers, header=None, sep=\"\\t\").groupby([3]) # the fourth columns is geneid"
   ]
  },
  {
   "cell_type": "code",
   "execution_count": null,
   "metadata": {},
   "outputs": [],
   "source": []
  },
  {
   "cell_type": "code",
   "execution_count": 38,
   "metadata": {},
   "outputs": [
    {
     "name": "stdout",
     "output_type": "stream",
     "text": [
      "1\n",
      "2\n"
     ]
    },
    {
     "data": {
      "image/png": "[encoded data removed]",
      "text/plain": [
       "<Figure size 648x432 with 1 Axes>"
      ]
     },
     "metadata": {
      "needs_background": "light"
     },
     "output_type": "display_data"
    }
   ],
   "source": [
    "## summit\n",
    "gene_list=['Ramp3', 'Snhg10', 'Il3ra', 'Cd200', 'App', 'Anxa5', 'Il6ra', 'Cryz', 'Abhd8']\n",
    "\n",
    "gene_name='Abhd8'\n",
    "features_visualization_on_gene(df_group, gene_name, len(df_target.columns), ['DNase', 'Eh' , 'SE'])"
   ]
  },
  {
   "cell_type": "code",
   "execution_count": 26,
   "metadata": {},
   "outputs": [
    {
     "data": {
      "text/plain": [
       "<pandas.core.groupby.generic.DataFrameGroupBy object at 0x7fc2a2ae8cc0>"
      ]
     },
     "execution_count": 26,
     "metadata": {},
     "output_type": "execute_result"
    }
   ],
   "source": []
  },
  {
   "cell_type": "code",
   "execution_count": null,
   "metadata": {},
   "outputs": [],
   "source": []
  },
  {
   "cell_type": "code",
   "execution_count": null,
   "metadata": {},
   "outputs": [],
   "source": []
  },
  {
   "cell_type": "code",
   "execution_count": null,
   "metadata": {},
   "outputs": [],
   "source": []
  },
  {
   "cell_type": "code",
   "execution_count": 25,
   "metadata": {},
   "outputs": [
    {
     "name": "stdout",
     "output_type": "stream",
     "text": [
      "412057    0.08724679578094098\n",
      "412063    0.13852097163402802\n",
      "412068      0.508546252423989\n",
      "Name: 14, dtype: object\n",
      "412067     0.0618918898660383\n",
      "412073    0.30416909767137174\n",
      "412074     0.2189969482649139\n",
      "412075    0.23079275346533415\n",
      "Name: 14, dtype: object\n",
      "412070    8.550351\n",
      "Name: 14, dtype: object\n",
      "412060    7.909513\n",
      "Name: 14, dtype: object\n"
     ]
    },
    {
     "ename": "IndexError",
     "evalue": "list index out of range",
     "output_type": "error",
     "traceback": [
      "\u001b[0;31m---------------------------------------------------------------------------\u001b[0m",
      "\u001b[0;31mIndexError\u001b[0m                                Traceback (most recent call last)",
      "\u001b[0;32m<ipython-input-25-d70b47c0f9ce>\u001b[0m in \u001b[0;36m<module>\u001b[0;34m\u001b[0m\n\u001b[1;32m     31\u001b[0m         \u001b[0mmarker_size\u001b[0m \u001b[0;34m=\u001b[0m \u001b[0;34m[\u001b[0m\u001b[0mround\u001b[0m\u001b[0;34m(\u001b[0m\u001b[0mx\u001b[0m\u001b[0;34m)\u001b[0m \u001b[0;32mfor\u001b[0m \u001b[0mx\u001b[0m \u001b[0;32min\u001b[0m \u001b[0mabs\u001b[0m\u001b[0;34m(\u001b[0m\u001b[0my_coordinate\u001b[0m\u001b[0;34m.\u001b[0m\u001b[0mastype\u001b[0m\u001b[0;34m(\u001b[0m\u001b[0mfloat\u001b[0m\u001b[0;34m)\u001b[0m\u001b[0;34m*\u001b[0m\u001b[0mEnlargement_Constant\u001b[0m\u001b[0;34m)\u001b[0m\u001b[0;34m]\u001b[0m\u001b[0;34m\u001b[0m\u001b[0;34m\u001b[0m\u001b[0m\n\u001b[1;32m     32\u001b[0m \u001b[0;34m\u001b[0m\u001b[0m\n\u001b[0;32m---> 33\u001b[0;31m         \u001b[0mim\u001b[0m\u001b[0;34m=\u001b[0m\u001b[0max\u001b[0m\u001b[0;34m.\u001b[0m\u001b[0mscatter\u001b[0m\u001b[0;34m(\u001b[0m\u001b[0mx_coordinate\u001b[0m\u001b[0;34m,\u001b[0m \u001b[0mnp\u001b[0m\u001b[0;34m.\u001b[0m\u001b[0mzeros\u001b[0m\u001b[0;34m(\u001b[0m\u001b[0mlen\u001b[0m\u001b[0;34m(\u001b[0m\u001b[0mx_coordinate\u001b[0m\u001b[0;34m)\u001b[0m\u001b[0;34m)\u001b[0m\u001b[0;34m+\u001b[0m\u001b[0;36m2\u001b[0m\u001b[0;34m*\u001b[0m\u001b[0mi\u001b[0m\u001b[0;34m+\u001b[0m\u001b[0;36m1.5\u001b[0m\u001b[0;34m,\u001b[0m \u001b[0ms\u001b[0m\u001b[0;34m=\u001b[0m\u001b[0mmarker_size\u001b[0m\u001b[0;34m,\u001b[0m  \u001b[0mmarker\u001b[0m\u001b[0;34m=\u001b[0m\u001b[0;34m'^'\u001b[0m \u001b[0;34m,\u001b[0m \u001b[0mc\u001b[0m\u001b[0;34m=\u001b[0m\u001b[0mcolor\u001b[0m\u001b[0;34m[\u001b[0m\u001b[0mi\u001b[0m\u001b[0;34m]\u001b[0m\u001b[0;34m,\u001b[0m \u001b[0malpha\u001b[0m\u001b[0;34m=\u001b[0m\u001b[0;36m0.6\u001b[0m\u001b[0;34m)\u001b[0m\u001b[0;34m\u001b[0m\u001b[0;34m\u001b[0m\u001b[0m\n\u001b[0m\u001b[1;32m     34\u001b[0m         \u001b[0mprint\u001b[0m \u001b[0;34m(\u001b[0m\u001b[0my_coordinate\u001b[0m\u001b[0;34m)\u001b[0m\u001b[0;34m\u001b[0m\u001b[0;34m\u001b[0m\u001b[0m\n\u001b[1;32m     35\u001b[0m         \u001b[0mlist_item_legend\u001b[0m\u001b[0;34m.\u001b[0m\u001b[0mappend\u001b[0m\u001b[0;34m(\u001b[0m\u001b[0mim\u001b[0m\u001b[0;34m)\u001b[0m\u001b[0;34m\u001b[0m\u001b[0;34m\u001b[0m\u001b[0m\n",
      "\u001b[0;31mIndexError\u001b[0m: list index out of range"
     ]
    },
    {
     "data": {
      "image/png": "[encoded data removed]",
      "text/plain": [
       "<Figure size 648x432 with 1 Axes>"
      ]
     },
     "metadata": {
      "needs_background": "light"
     },
     "output_type": "display_data"
    }
   ],
   "source": [
    "gene_name='Abhd8'\n",
    "df_inside_gene = df_group.get_group(gene_name).iloc[:,10:]\n",
    "df_subgroup_inside_gene = df_inside_gene[13].str.split('_',  expand=True).groupby([0])\n",
    "fig, ax = plt.subplots(nrows=1, ncols=1, figsize=(9,6))\n",
    "\n",
    "color=[\"green\",'orange',\"blue\", 'black']\n",
    "boundary_limit=0\n",
    "list_item_legend=[]\n",
    "list_name_legend=[]\n",
    "i=0\n",
    "\n",
    "for feature_type in df_subgroup_inside_gene.groups.keys():\n",
    "    Enlargement_Constant=200\n",
    "    df_feature_tem = df_inside_gene.loc[df_subgroup_inside_gene.get_group(feature_type).index,:]\n",
    "    x_coordinate=df_feature_tem[17]\n",
    "    y_coordinate=df_feature_tem[14]\n",
    "    boundary_limit = max(boundary_limit, max(max(x_coordinate),abs(min(x_coordinate))))\n",
    "    if (feature_type=='Tcf1'):\n",
    "        im=ax.scatter(x_coordinate, y_coordinate, s=Enlargement_Constant, c=\"red\",  marker='^')\n",
    "        list_item_legend.append(im)\n",
    "        list_name_legend.append(feature_type)\n",
    "    else:\n",
    "        if(feature_type=='SE'):\n",
    "            Enlargement_Constant=1000\n",
    "        \n",
    "        df_feature_tem_fc_1 = df_feature_tem[df_feature_tem[14].astype(float)>0]\n",
    "\n",
    "        x_coordinate=df_feature_tem_fc_1[17]\n",
    "        y_coordinate=df_feature_tem_fc_1[14]\n",
    "\n",
    "        marker_size = [round(x) for x in abs(y_coordinate.astype(float)*Enlargement_Constant)]\n",
    "\n",
    "        im=ax.scatter(x_coordinate, np.zeros(len(x_coordinate))+2*i+1.5, s=marker_size,  marker='^' , c=color[i], alpha=0.6)\n",
    "        print (y_coordinate)\n",
    "        list_item_legend.append(im)\n",
    "        list_name_legend.append(feature_type+'_Up')\n",
    "        \n",
    "        \n",
    "        \n",
    "        df_feature_tem_fc_less_1 = df_feature_tem[df_feature_tem[14].astype(float)<0]\n",
    "        x_coordinate=df_feature_tem_fc_less_1[17]\n",
    "        y_coordinate=df_feature_tem_fc_less_1[14]\n",
    "        marker_size = [round(x) for x in abs(y_coordinate.astype(float)*Enlargement_Constant)]\n",
    "        im=ax.scatter(x_coordinate, np.zeros(len(x_coordinate))+2*i+0.5, s=marker_size, marker='v' , c=color[i], alpha=0.6)\n",
    "        i+=1## color code +1\n",
    "        list_item_legend.append(im)\n",
    "        list_name_legend.append(feature_type+'_Down')"
   ]
  },
  {
   "cell_type": "code",
   "execution_count": 20,
   "metadata": {},
   "outputs": [
    {
     "ename": "NameError",
     "evalue": "name 'df_features_closest_associated' is not defined",
     "output_type": "error",
     "traceback": [
      "\u001b[0;31m---------------------------------------------------------------------------\u001b[0m",
      "\u001b[0;31mNameError\u001b[0m                                 Traceback (most recent call last)",
      "\u001b[0;32m<ipython-input-20-47fec6e97bbf>\u001b[0m in \u001b[0;36m<module>\u001b[0;34m\u001b[0m\n\u001b[1;32m      1\u001b[0m \u001b[0mgene_name\u001b[0m\u001b[0;34m=\u001b[0m\u001b[0;34m'Abhd8'\u001b[0m\u001b[0;34m\u001b[0m\u001b[0;34m\u001b[0m\u001b[0m\n\u001b[1;32m      2\u001b[0m \u001b[0;34m\u001b[0m\u001b[0m\n\u001b[0;32m----> 3\u001b[0;31m \u001b[0mdf_group\u001b[0m \u001b[0;34m=\u001b[0m \u001b[0mdf_features_closest_associated\u001b[0m\u001b[0;34m.\u001b[0m\u001b[0mgroupby\u001b[0m\u001b[0;34m(\u001b[0m\u001b[0;34m[\u001b[0m\u001b[0;36m3\u001b[0m\u001b[0;34m]\u001b[0m\u001b[0;34m)\u001b[0m\u001b[0;34m\u001b[0m\u001b[0;34m\u001b[0m\u001b[0m\n\u001b[0m\u001b[1;32m      4\u001b[0m \u001b[0;31m#for group_item in df_group:\u001b[0m\u001b[0;34m\u001b[0m\u001b[0;34m\u001b[0m\u001b[0;34m\u001b[0m\u001b[0m\n\u001b[1;32m      5\u001b[0m \u001b[0mdf_inside_gene\u001b[0m \u001b[0;34m=\u001b[0m \u001b[0mdf_group\u001b[0m\u001b[0;34m.\u001b[0m\u001b[0mget_group\u001b[0m\u001b[0;34m(\u001b[0m\u001b[0mgene_name\u001b[0m\u001b[0;34m)\u001b[0m\u001b[0;34m.\u001b[0m\u001b[0miloc\u001b[0m\u001b[0;34m[\u001b[0m\u001b[0;34m:\u001b[0m\u001b[0;34m,\u001b[0m\u001b[0;36m10\u001b[0m\u001b[0;34m:\u001b[0m\u001b[0;34m]\u001b[0m\u001b[0;34m\u001b[0m\u001b[0;34m\u001b[0m\u001b[0m\n",
      "\u001b[0;31mNameError\u001b[0m: name 'df_features_closest_associated' is not defined"
     ]
    }
   ],
   "source": [
    "gene_name='Abhd8'\n",
    "\n",
    "df_group = df_features_closest_associated.groupby([3])\n",
    "#for group_item in df_group:\n",
    "df_inside_gene = df_group.get_group(gene_name).iloc[:,10:]\n",
    "df_subgroup_inside_gene = df_inside_gene[13].str.split('_',  expand=True).groupby([0])\n",
    "\n",
    "\n",
    "fig, ax = plt.subplots(nrows=1, ncols=1, figsize=(9,6))\n",
    "\n",
    "color=[\"green\",'orange',\"blue\", 'black']\n",
    "boundary_limit=0\n",
    "list_item_legend=[]\n",
    "list_name_legend=[]\n",
    "i=0\n",
    "\n",
    "for feature_type in df_subgroup_inside_gene.groups.keys():\n",
    "    Enlargement_Constant=200\n",
    "    df_feature_tem = df_inside_gene.loc[df_subgroup_inside_gene.get_group(feature_type).index,:]\n",
    "    x_coordinate=df_feature_tem[18]\n",
    "    y_coordinate=df_feature_tem[14]\n",
    "    boundary_limit = max(boundary_limit, max(max(x_coordinate),abs(min(x_coordinate))))\n",
    "    if (feature_type=='Tcf1'):\n",
    "        im=ax.scatter(x_coordinate, y_coordinate, s=Enlargement_Constant, c=\"red\",  marker='^')\n",
    "        list_item_legend.append(im)\n",
    "        list_name_legend.append(feature_type)\n",
    "    else:\n",
    "        if(feature_type=='SE'):\n",
    "            Enlargement_Constant=1000\n",
    "            \n",
    "        df_feature_tem_fc_1 = df_feature_tem[df_feature_tem[14]>1.0]\n",
    "        x_coordinate=df_feature_tem_fc_1[18]\n",
    "        y_coordinate=df_feature_tem_fc_1[14]\n",
    "        marker_size = [round(x) for x in abs(y_coordinate*Enlargement_Constant)]\n",
    "        im=ax.scatter(x_coordinate, np.zeros(len(x_coordinate))+2*i+1.5, s=marker_size,  marker='^' , c=color[i], alpha=0.6)\n",
    "        list_item_legend.append(im)\n",
    "        list_name_legend.append(feature_type+'_Up')\n",
    "        \n",
    "        \n",
    "        df_feature_tem_fc_less_1 = df_feature_tem[df_feature_tem[14]<1.0]\n",
    "        x_coordinate=df_feature_tem_fc_less_1[18]\n",
    "        y_coordinate=df_feature_tem_fc_less_1[14]\n",
    "        marker_size = [round(x) for x in abs(y_coordinate*Enlargement_Constant)]\n",
    "        im=ax.scatter(x_coordinate, np.zeros(len(x_coordinate))+2*i+0.5, s=marker_size, marker='v' , c=color[i], alpha=0.6)\n",
    "        i+=1## color code +1\n",
    "        list_item_legend.append(im)\n",
    "        list_name_legend.append(feature_type+'_Down')\n",
    "    \n",
    "ax.legend(list_item_legend, list_name_legend, scatterpoints=1,loc=0, fontsize=14)\n",
    "x=[-boundary_limit,0,boundary_limit]\n",
    "ax.set_xticks(x)\n",
    "customized_xticks=[ 'Upstream: '+ str(x[0]) ,'TSS of '+gene_name,'Downstream: +' + str(x[2])]\n",
    "ax.set_xticklabels(customized_xticks, fontsize=18)\n",
    "ax.grid(which='major', axis='x', linestyle='--')\n",
    "ax.set_ylim(-3,10)\n"
   ]
  },
  {
   "cell_type": "code",
   "execution_count": 54,
   "metadata": {},
   "outputs": [
    {
     "data": {
      "text/plain": [
       "<matplotlib.colorbar.Colorbar at 0x7ff8de0801d0>"
      ]
     },
     "execution_count": 54,
     "metadata": {},
     "output_type": "execute_result"
    },
    {
     "data": {
      "image/png": "[encoded data removed]",
      "text/plain": [
       "<Figure size 648x432 with 2 Axes>"
      ]
     },
     "metadata": {
      "needs_background": "light"
     },
     "output_type": "display_data"
    }
   ],
   "source": [
    "fig, ax = plt.subplots(nrows=1, ncols=1, figsize=(9,6))\n",
    "df_single_gene = df_group.get_group('Myb')\n",
    "\n",
    "x_coordinate=df_single_gene[18]\n",
    "y_coordinate=df_single_gene[14]\n",
    "\n",
    "im=ax.scatter(x_coordinate, y_coordinate, s=20, cmap='RdBu_r', marker='>', vmin=-3,vmax=3)\n",
    "#ax.text(0,gene_expression_fc-1, genelist, fontsize=12, color='r', rotation=90)\n",
    "\n",
    "\n",
    "x=[min(x_coordinate),0,max(x_coordinate)]\n",
    "ax.set_xticks(x)\n",
    "customized_xticks=[ 'Upstream: '+ str(x[0]) ,'TSS of Myb','Downstream: +' + str(x[2])]\n",
    "ax.set_xticklabels(customized_xticks, fontsize=18)\n",
    "ax.grid(which='major', axis='x', linestyle='--')\n"
   ]
  },
  {
   "cell_type": "code",
   "execution_count": null,
   "metadata": {},
   "outputs": [],
   "source": []
  },
  {
   "cell_type": "code",
   "execution_count": null,
   "metadata": {},
   "outputs": [],
   "source": []
  },
  {
   "cell_type": "code",
   "execution_count": null,
   "metadata": {},
   "outputs": [],
   "source": []
  },
  {
   "cell_type": "code",
   "execution_count": null,
   "metadata": {},
   "outputs": [],
   "source": []
  },
  {
   "cell_type": "code",
   "execution_count": 82,
   "metadata": {},
   "outputs": [],
   "source": [
    "def gene_associated_multi_feature_tcf1(gene_annotation_path, feature_path, feature_RPKM_path, tcf1_feature_path, expression_path, genelist_set_for_plot):\n",
    "    ## Genes \n",
    "    gene_annotation_Bed=BedTool(gene_annotation_path).sort()\n",
    "    ## Features To be associated\n",
    "    features_Bed=BedTool(feature_path).sort()\n",
    "    ## Add Tcf1\n",
    "    Tcf1_Peak_Bed=BedTool(tcf1_feature_path)\n",
    "    features_Bed_with_Tcf1=features_Bed.intersect(Tcf1_Peak_Bed,c=True)\n",
    "    ## Associated Rule report ties\n",
    "    features_associated=features_Bed_with_Tcf1.closest(gene_annotation_Bed, t='all')\n",
    "    df_features_associated=pd.read_table(features_associated.fn, header=None)\n",
    "    ## Group by gene_id\n",
    "    df_genes_with_features=df_features_associated.groupby(8) ## in some cases, 7 columns is gene_id\n",
    "    ## add expression\n",
    "    df_gene_expression=generate_All_Genes(path_of_expression,0)\n",
    "    ### in here, feature coordinates are seperate file from RPKM\n",
    "    df_edgeR=pd.read_csv(feature_RPKM_path, sep='\\t')\n",
    "    fig, ax = plt.subplots(nrows=1, ncols=1, figsize=(16,9))\n",
    "    \n",
    "    j=0\n",
    "    for gene_set_name in genelist_set.keys():\n",
    "        print gene_set_name\n",
    "        df_genelist_set=pd.DataFrame({'gene_id':genelist_set[gene_set_name]})\n",
    "        df_gene_expression_tem=df_gene_expression.merge(df_genelist_set, on='gene_id', how='inner')\n",
    "        i=0\n",
    "        for genelist in df_gene_expression_tem.sort_values('log2(fold_change)')['gene_id']:\n",
    "            if(genelist not in df_features_associated[8].unique()):\n",
    "                continue\n",
    "            group=df_genes_with_features.get_group(genelist)\n",
    "            gene_associated_DNase=df_edgeR.merge(group.rename(columns={3:'GeneID', 4:'Tcf1'})[['GeneID','Tcf1']], on='GeneID',how='inner').sort_values('logFC')\n",
    "\n",
    "\n",
    "            x_coordinate=np.zeros(len(gene_associated_DNase['logFC']))\n",
    "            y_coordinate=np.arange(len(gene_associated_DNase['logFC']))/5.0\n",
    "            gene_expression_fc = df_gene_expression[df_gene_expression['gene_id']==genelist]['log2(fold_change)'].values[0]\n",
    "            im=ax.scatter(x_coordinate+i, y_coordinate+gene_expression_fc,\n",
    "                          c=gene_associated_DNase['logFC'],\n",
    "                        vmin=-3,vmax=3,s=20, cmap='RdBu_r', marker='>')\n",
    "            im_Tcf1=ax.scatter(x_coordinate+i+0.2, y_coordinate+gene_expression_fc, c=gene_associated_DNase['Tcf1'],\n",
    "                vmin=-1,vmax=1,s=5, cmap='bwr', marker='X')\n",
    "            ax.text(i,gene_expression_fc-1, genelist, fontsize=12, color='r', rotation=90)\n",
    "            i+=1\n",
    "        ax.text(len(genelist_set[genelist_set.keys()[j]])/2, gene_expression_fc-1, 'Genelists: '+ str(len(genelist_set[genelist_set.keys()[j]])), fontsize=12, color='r')   \n",
    "        j+=1\n",
    "    im_zero = ax.plot(np.arange(i),np.zeros(i), '--', linewidth=1)\n",
    "    ax.set_ylabel('Expression  Log$_2$FC', fontsize='18')\n",
    "    ax.legend([im,im_Tcf1], ['DNase_Site','Tcf1_Binding'], scatterpoints=1,loc=0, fontsize=14)\n",
    "    fig.colorbar(im,ax=ax)\n",
    "    return df_features_associated"
   ]
  },
  {
   "cell_type": "code",
   "execution_count": 83,
   "metadata": {},
   "outputs": [],
   "source": []
  },
  {
   "cell_type": "code",
   "execution_count": null,
   "metadata": {},
   "outputs": [],
   "source": []
  },
  {
   "cell_type": "code",
   "execution_count": null,
   "metadata": {},
   "outputs": [],
   "source": []
  },
  {
   "cell_type": "code",
   "execution_count": 37,
   "metadata": {},
   "outputs": [
    {
     "data": {
      "text/plain": [
       "20025"
      ]
     },
     "execution_count": 37,
     "metadata": {},
     "output_type": "execute_result"
    }
   ],
   "source": []
  },
  {
   "cell_type": "code",
   "execution_count": null,
   "metadata": {},
   "outputs": [],
   "source": [
    "df_for_category=df_feature_associated_genes_with_genes\n",
    "df_group = df_for_category.groupby([8])\n",
    "genelist_to_be_removed=list()\n",
    "for group_item in df_group:\n",
    "    size_group = len(group_item[1])\n",
    "    if (size_group>1):\n",
    "        if (len(group_item[1]['SuperEnhancer'].value_counts()) > 1):\n",
    "            genelist_to_be_removed.append(group_item[0])\n",
    "print (\"Genes with Ambiguity: \" + str(len(genelist_to_be_removed)))"
   ]
  },
  {
   "cell_type": "code",
   "execution_count": null,
   "metadata": {},
   "outputs": [],
   "source": []
  },
  {
   "cell_type": "code",
   "execution_count": null,
   "metadata": {},
   "outputs": [],
   "source": [
    "features_closest_associated=features_no_overlap.closest(gene_annotation_Bed, t='all')"
   ]
  },
  {
   "cell_type": "code",
   "execution_count": 35,
   "metadata": {},
   "outputs": [
    {
     "name": "stdout",
     "output_type": "stream",
     "text": [
      "chr1\t1\t100\tfeature1\t0\t+\n",
      "chr1\t100\t200\tfeature2\t0\t+\n",
      "chr1\t150\t500\tfeature3\t0\t-\n",
      "chr1\t900\t950\tfeature4\t0\t+\n",
      "\n",
      "chr1\t155\t200\tfeature5\t0\t-\n",
      "chr1\t800\t901\tfeature6\t0\t+\n",
      "\n",
      "chr1\t1\t100\tfeature1\t0\t+\n",
      "chr1\t100\t200\tfeature2\t0\t+\n",
      "chr1\t150\t500\tfeature3\t0\t-\n",
      "chr1\t900\t950\tfeature4\t0\t+\n",
      "chr1\t155\t200\tfeature5\t0\t-\n",
      "chr1\t800\t901\tfeature6\t0\t+\n",
      "\n"
     ]
    }
   ],
   "source": [
    "from pybedtools import example_bedtool\n",
    "a = example_bedtool('a.bed')\n",
    "b = example_bedtool('b.bed')\n",
    "print (a)\n",
    "print (b)\n",
    "print (a.cat(b, postmerge=False))"
   ]
  }
 ],
 "metadata": {
  "kernelspec": {
   "display_name": "Python 3",
   "language": "python",
   "name": "python3"
  },
  "language_info": {
   "codemirror_mode": {
    "name": "ipython",
    "version": 3
   },
   "file_extension": ".py",
   "mimetype": "text/x-python",
   "name": "python",
   "nbconvert_exporter": "python",
   "pygments_lexer": "ipython3",
   "version": "3.7.3"
  }
 },
 "nbformat": 4,
 "nbformat_minor": 2
}
