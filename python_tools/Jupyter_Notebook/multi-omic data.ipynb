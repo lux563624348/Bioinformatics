{
 "cells": [
  {
   "cell_type": "markdown",
   "metadata": {},
   "source": [
    "# multi omic data integration"
   ]
  },
  {
   "cell_type": "code",
   "execution_count": 1,
   "metadata": {},
   "outputs": [
    {
     "data": {
      "text/plain": [
       "'/home/xli/Data/Haihui/CD8-HP/Analysis_Notebook'"
      ]
     },
     "execution_count": 1,
     "metadata": {},
     "output_type": "execute_result"
    }
   ],
   "source": [
    "import os\n",
    "#os.chdir('/home/xli')\n",
    "os.getcwd()"
   ]
  },
  {
   "cell_type": "code",
   "execution_count": 2,
   "metadata": {},
   "outputs": [],
   "source": [
    "# Data Analysis\n",
    "import numpy as np\n",
    "import pandas as pd\n",
    "from pybedtools import BedTool\n",
    "\n",
    "# Plot Package\n",
    "import matplotlib\n",
    "#matplotlib.use('AGG')\n",
    "import matplotlib.pyplot as plt\n",
    "import seaborn as sns\n",
    "sns.set_style(\"white\") \n",
    "\n",
    "# display plots in this notebook\n",
    "%matplotlib inline\n"
   ]
  },
  {
   "cell_type": "code",
   "execution_count": 3,
   "metadata": {},
   "outputs": [],
   "source": [
    "### Define .bed8 as following \n",
    "#chr\tstart\tend\tid\tlogFC\tstrand\tpin\tFDR\n",
    "import networkx as nx\n",
    "import dgl"
   ]
  },
  {
   "cell_type": "code",
   "execution_count": 3,
   "metadata": {},
   "outputs": [],
   "source": [
    "def union_all_features(Path_Features_Folder, summit_or_normal):\n",
    "    ## find all features inside given path\n",
    "    Path_Feature_list=[]\n",
    "    for file in os.listdir(Path_Features_Folder):\n",
    "        if (file.endswith(\".bed8\")):\n",
    "            Path_Feature_list.append(Path_Features_Folder+'/'+file)\n",
    "    \n",
    "    ## union them all\n",
    "    i=0\n",
    "    if (summit_or_normal=='summit'):\n",
    "        for Path_Feature in Path_Feature_list:\n",
    "            df_feature = pd.read_csv(Path_Feature,sep=\"\\t\")\n",
    "            if(min(df_feature['pin'])==0):\n",
    "                print (\"ERR: File \" + Path_Feature + \"has wrong summit, check!\")\n",
    "                exit\n",
    "            else:\n",
    "                df_feature['start'] = df_feature['pin']-1\n",
    "                df_feature['end'] = df_feature['pin']\n",
    "                feature_add = BedTool.from_dataframe(df_feature)\n",
    "                if(i==0):\n",
    "                    feature_union = feature_add\n",
    "                else:\n",
    "                    feature_union = feature_union.cat(feature_add,postmerge=False)\n",
    "                i+=1\n",
    "    else:\n",
    "        for Path_Feature in Path_Feature_list:\n",
    "            feature_add=BedTool(Path_Feature)\n",
    "            if(i==0):\n",
    "                feature_union = feature_add\n",
    "            else:\n",
    "                feature_union = feature_union.cat(feature_add,postmerge=False)\n",
    "            i+=1\n",
    "    return feature_union.sort()\n",
    "\n",
    "def associated_features_with_genes(feature_target, union_features, number_features_per_gene):\n",
    "    # Gene Path, Target\n",
    "\n",
    "    ## Features union\n",
    "    features_closest_associated=feature_target.closest(union_features, k=number_features_per_gene, d=True, D='a')\n",
    "    #\"a\"     Report distance with respect to A.  When A is on the - strand, \"upstream\" means B has a higher (start,stop).\n",
    "\n",
    "    #df_features_closest_associated=pd.read_csv(features_20_closest_associated.fn, header=None, sep=\"\\t\")\n",
    "    return features_closest_associated.fn\n",
    "\n",
    "def features_visualization_on_gene(df_group, gene_name, num_columns_target, fc_label):\n",
    "    df_inside_gene = df_group.get_group(gene_name) ##\n",
    "    Gene_Expression_FC = df_inside_gene.iloc[0,4]\n",
    "    df_inside_gene = df_inside_gene.iloc[:, num_columns_target:]\n",
    "    ## data inside gene format, actually ignore gene part, then, still 3 should be id.\n",
    "    df_subgroup_inside_gene = df_inside_gene.iloc[:, 3].str.split('_',  expand=True).groupby([0])\n",
    "    # group by first part of id, normally is the category\n",
    "    fig, ax = plt.subplots(nrows=1, ncols=1, figsize=(9,8))\n",
    "\n",
    "    color=['C0','C1','C2','C3','C4','C5','C6','C7','C8','C9','black'] \n",
    "    ## Maxium 10 features\n",
    "    boundary_limit=0\n",
    "    list_item_legend=[]\n",
    "    list_name_legend=[]\n",
    "    i=0\n",
    "    j=0\n",
    "    ## assuming fifth columns score, is Log2(FC)\n",
    "    for feature_type in df_subgroup_inside_gene.groups.keys():\n",
    "        Enlargement_Constant=200\n",
    "        df_feature_tem = df_inside_gene.loc[df_subgroup_inside_gene.get_group(feature_type).index,:] \n",
    "        x_coordinate=df_feature_tem.iloc[:,len(df_feature_tem.columns)-1].astype(float) ## last columns is distance to Target\n",
    "        boundary_limit = max(boundary_limit, max(max(x_coordinate),abs(min(x_coordinate))))\n",
    "        \n",
    "        if(feature_type in fc_label):\n",
    "            if(feature_type=='SE'): Enlargement_Constant=1000              \n",
    "#############################################################################################\n",
    "            ### This line is like the fold change = 1 line, \n",
    "            ax.plot([-boundary_limit,boundary_limit],[j,j], c=color[i], linestyle='--', lw=1, label=feature_type+\"fold_change=1\")\n",
    "#############################################################################################\n",
    "            df_feature_tem_fc_1 = df_feature_tem[df_feature_tem.iloc[:,4].astype(float)>0]  ## fifth columns is score\n",
    "            x_coordinate= df_feature_tem_fc_1.iloc[:,len(df_feature_tem.columns)-1].astype(float) ## last columns is distance to Target\n",
    "            y_coordinate= df_feature_tem_fc_1.iloc[:,4].astype(float) ## corresponding to score part\n",
    "            marker_size = [round(x) for x in abs(y_coordinate.astype(float)*Enlargement_Constant)]\n",
    "            im=ax.scatter(x_coordinate, np.zeros(len(x_coordinate))+j+0.5, s=marker_size,  marker='^', c=color[i], alpha=0.8)\n",
    "            list_item_legend.append(im)\n",
    "            list_name_legend.append(feature_type+'_Up')\n",
    "#############################################################################################    \n",
    "            df_feature_tem_fc_less_1 = df_feature_tem[df_feature_tem.iloc[:,4].astype(float)<0]\n",
    "            x_coordinate= df_feature_tem_fc_less_1.iloc[:,len(df_feature_tem.columns)-1].astype(float) ## last columns is distance to Target\n",
    "            y_coordinate= df_feature_tem_fc_less_1.iloc[:,4].astype(float) ## corresponding to score part\n",
    "            marker_size = [round(x) for x in abs(y_coordinate.astype(float)*Enlargement_Constant)]\n",
    "            im=ax.scatter(x_coordinate, np.zeros(len(x_coordinate))+j-0.5, s=marker_size, marker='v' , c=color[i], alpha=0.8)\n",
    "            list_item_legend.append(im)\n",
    "            list_name_legend.append(feature_type+'_Down')\n",
    "            j+=1\n",
    "            print (j)\n",
    "####################################################################################\n",
    "        else:\n",
    "            #y_coordinate=np.log2(df_feature_tem.iloc[:,4].astype(float))  ## corresponding to score part\n",
    "            y_coordinate=(df_feature_tem.iloc[:,4].astype(float))\n",
    "            im=ax.scatter(x_coordinate, y_coordinate, s=Enlargement_Constant, c=color[i],  marker='^')\n",
    "            list_item_legend.append(im)\n",
    "            list_name_legend.append(feature_type)\n",
    "        i+=1\n",
    "        ## color code +1\n",
    "####################################################################################\n",
    "    legend_object = ax.legend(list_item_legend,list_name_legend, loc=\"upper right\", scatterpoints=1,bbox_to_anchor=(0.50,1, 1,0),\n",
    "            edgecolor='w', borderaxespad=0, fancybox=True, shadow=False,  fontsize=18, labelspacing=1.0)\n",
    "    x=[-boundary_limit,0,boundary_limit]\n",
    "    ax.set_xticks(x)\n",
    "    customized_xticks=[ 'Upstream: '+ str(x[0]) ,'TSS of '+gene_name,'Downstream: +' + str(x[2])]\n",
    "    ax.set_xticklabels(customized_xticks, fontsize=18)\n",
    "    ax.grid(which='major', axis='x', linestyle='--')\n",
    "    ax.set_ylabel(\"Peaks_Strength (Scale: Log2)\", fontsize=18)\n",
    "    #ax.set_ylim(-3,10)\n",
    "    ax.set_title('Expression Log2(Fold Change): '+ str(Gene_Expression_FC) + \" # of features: \" + str(len(df_inside_gene)), fontsize=18)\n",
    "    return None"
   ]
  },
  {
   "cell_type": "code",
   "execution_count": 18,
   "metadata": {},
   "outputs": [
    {
     "data": {
      "text/html": [
       "<div>\n",
       "<style scoped>\n",
       "    .dataframe tbody tr th:only-of-type {\n",
       "        vertical-align: middle;\n",
       "    }\n",
       "\n",
       "    .dataframe tbody tr th {\n",
       "        vertical-align: top;\n",
       "    }\n",
       "\n",
       "    .dataframe thead th {\n",
       "        text-align: right;\n",
       "    }\n",
       "</style>\n",
       "<table border=\"1\" class=\"dataframe\">\n",
       "  <thead>\n",
       "    <tr style=\"text-align: right;\">\n",
       "      <th></th>\n",
       "      <th>#chr</th>\n",
       "      <th>start</th>\n",
       "      <th>end</th>\n",
       "      <th>name</th>\n",
       "      <th>log2(fold_change)</th>\n",
       "      <th>strand</th>\n",
       "      <th>pin</th>\n",
       "      <th>q_value</th>\n",
       "      <th>WT_0h</th>\n",
       "      <th>DKO_0h</th>\n",
       "    </tr>\n",
       "  </thead>\n",
       "  <tbody>\n",
       "    <tr>\n",
       "      <th>1401</th>\n",
       "      <td>chr10</td>\n",
       "      <td>20880790</td>\n",
       "      <td>20880791</td>\n",
       "      <td>Myb</td>\n",
       "      <td>-5.82914</td>\n",
       "      <td>-</td>\n",
       "      <td>20880790</td>\n",
       "      <td>0.000315</td>\n",
       "      <td>13.5569</td>\n",
       "      <td>0.238459</td>\n",
       "    </tr>\n",
       "  </tbody>\n",
       "</table>\n",
       "</div>"
      ],
      "text/plain": [
       "       #chr     start       end name  log2(fold_change) strand       pin  \\\n",
       "1401  chr10  20880790  20880791  Myb           -5.82914      -  20880790   \n",
       "\n",
       "       q_value    WT_0h    DKO_0h  \n",
       "1401  0.000315  13.5569  0.238459  "
      ]
     },
     "execution_count": 18,
     "metadata": {},
     "output_type": "execute_result"
    }
   ],
   "source": [
    "df_target.head(1)\n",
    "df_target[df_target['name']=='Myb']"
   ]
  },
  {
   "cell_type": "code",
   "execution_count": 4,
   "metadata": {},
   "outputs": [
    {
     "name": "stderr",
     "output_type": "stream",
     "text": [
      "/home/xli/.conda/envs/py3_lx/lib/python3.7/site-packages/IPython/core/interactiveshell.py:3058: DtypeWarning: Columns (14,16,17) have mixed types. Specify dtype option on import or set low_memory=False.\n",
      "  interactivity=interactivity, compiler=compiler, result=result)\n"
     ]
    }
   ],
   "source": [
    "#Union Features\n",
    "Path_Features = \"/home/xli/cloud_research/PengGroup/XLi/Data/Haihui/CD8-HP/DNaseq_seq_RNA_Seq_ChIP_seq_HiC/Features/Summary\"\n",
    "union_features = union_all_features(Path_Features,'nosummit')\n",
    "## Prepare Target genes\n",
    "Path_Target=Path_Features+'/Target/24391_Target_mm9_genes_with_strand.bed'\n",
    "df_target = pd.read_csv(Path_Target, sep=\"\\t\")\n",
    "df_target['start'] =  df_target['pin']\n",
    "df_target['end'] =  df_target['pin']+1\n",
    "Feature_Target=BedTool.from_dataframe(df_target).sort()\n",
    "\n",
    "##Associated by closest \n",
    "Path_Associated_featuers = associated_features_with_genes(Feature_Target, union_features, 20)\n",
    "df_group=pd.read_csv(Path_Associated_featuers, header=None, sep=\"\\t\").groupby([3]) # the fourth columns is geneid"
   ]
  },
  {
   "cell_type": "code",
   "execution_count": null,
   "metadata": {},
   "outputs": [],
   "source": []
  },
  {
   "cell_type": "code",
   "execution_count": 19,
   "metadata": {},
   "outputs": [
    {
     "name": "stdout",
     "output_type": "stream",
     "text": [
      "1\n",
      "2\n"
     ]
    },
    {
     "data": {
      "image/png": "[encoded data removed]",
      "text/plain": [
       "<Figure size 648x576 with 1 Axes>"
      ]
     },
     "metadata": {
      "needs_background": "light"
     },
     "output_type": "display_data"
    }
   ],
   "source": [
    "## summit\n",
    "gene_list=['Ramp3', 'Snhg10', 'Il3ra', 'Cd200', 'App', 'Anxa5', 'Il6ra', 'Cryz', 'Abhd8']\n",
    "\n",
    "gene_name='Snhg10'\n",
    "features_visualization_on_gene(df_group, gene_name, len(df_target.columns), ['DNase', 'Eh' , 'SE'])"
   ]
  },
  {
   "cell_type": "code",
   "execution_count": null,
   "metadata": {},
   "outputs": [],
   "source": []
  },
  {
   "cell_type": "code",
   "execution_count": 14,
   "metadata": {},
   "outputs": [],
   "source": [
    "## Star Graph\n",
    "from sklearn.preprocessing import LabelEncoder\n",
    "import torch as th"
   ]
  },
  {
   "cell_type": "code",
   "execution_count": 12,
   "metadata": {},
   "outputs": [
    {
     "name": "stdout",
     "output_type": "stream",
     "text": [
      "(20, 9)\n"
     ]
    }
   ],
   "source": [
    "gene_list=['Ramp3', 'Snhg10', 'Il3ra', 'Cd200', 'App', 'Anxa5', 'Il6ra', 'Cryz', 'Abhd8']\n",
    "gene_name=gene_list[0]\n",
    "\n",
    "Number_features_per_gene = 20\n",
    "\n",
    "num_columns_target = len(df_target.columns)\n",
    "\n",
    "#chr\tstart\tend\tid\tlogFC\tstrand\tpin\tFDR\tdistance\n",
    "\n",
    "for gene_name in gene_list:\n",
    "    df_inside_gene = df_group.get_group(gene_name).iloc[0:Number_features_per_gene]\n",
    "    Gene_Expression_FC = df_inside_gene.iloc[0,4]\n",
    "    df_inside_gene = df_inside_gene.iloc[:, num_columns_target:]\n",
    "    ## data inside gene format, actually ignore gene part, then, still 3 should be id.\n",
    "    df_feature_inside_gene = df_inside_gene.iloc[:, 3].str.split('_',  expand=True)\n",
    "    \n",
    "    print (df_inside_gene.shape)\n",
    "    break\n",
    "    \n",
    "df_inside_gene.insert(len(df_inside_gene.columns),'type',df_feature_inside_gene.iloc[:,0])\n",
    "\n",
    "### Encoding categroy to number\n",
    "df_inside_gene['category']= LabelEncoder().fit_transform(df_feature_inside_gene.iloc[:,0])"
   ]
  },
  {
   "cell_type": "markdown",
   "metadata": {},
   "source": [
    "# Create a graph"
   ]
  },
  {
   "cell_type": "code",
   "execution_count": 15,
   "metadata": {},
   "outputs": [
    {
     "name": "stderr",
     "output_type": "stream",
     "text": [
      "/home/xli/.conda/envs/py3_lx/lib/python3.7/site-packages/networkx/drawing/nx_pylab.py:563: MatplotlibDeprecationWarning: \n",
      "The iterable function was deprecated in Matplotlib 3.1 and will be removed in 3.3. Use np.iterable instead.\n",
      "  if not cb.iterable(width):\n",
      "/home/xli/.conda/envs/py3_lx/lib/python3.7/site-packages/networkx/drawing/nx_pylab.py:660: MatplotlibDeprecationWarning: \n",
      "The iterable function was deprecated in Matplotlib 3.1 and will be removed in 3.3. Use np.iterable instead.\n",
      "  if cb.iterable(node_size):  # many node sizes\n"
     ]
    },
    {
     "data": {
      "image/png": "[encoded data removed]",
      "text/plain": [
       "<Figure size 432x288 with 1 Axes>"
      ]
     },
     "metadata": {},
     "output_type": "display_data"
    }
   ],
   "source": [
    "## Generate a graph\n",
    "g = dgl.DGLGraph()\n",
    "## \n",
    "Num_Nodes= 21\n",
    "g.add_nodes(Num_Nodes)\n",
    "\n",
    "g.nodes[0].data['score'] = th.tensor([[Gene_Expression_FC]])\n",
    "\n",
    "## Add edges one-by-one\n",
    "for i in range(1, Num_Nodes):\n",
    "    fc_edge = df_inside_gene.iloc[i-1,[4]].values.astype('float')\n",
    "    fdr_edge = df_inside_gene.iloc[i-1,[7]].values.astype('float')\n",
    "    dist_edge = df_inside_gene.iloc[i-1,[8]].values.astype('int')\n",
    "    category_edge = df_inside_gene.iloc[i-1,[10]].values.astype('int')\n",
    "    \n",
    "    g.add_edge(i, 0, {'dist': th.tensor([[dist_edge]]), 'fc': th.tensor([[fc_edge]]), \n",
    "        'fdr': th.tensor([[fdr_edge]]), 'category': th.tensor([[category_edge]])}) #Add one new edge between i and 0.\n",
    "    \n",
    "nx.draw(g.to_networkx(), with_labels=True)\n",
    "plt.show()"
   ]
  },
  {
   "cell_type": "code",
   "execution_count": null,
   "metadata": {},
   "outputs": [],
   "source": []
  },
  {
   "cell_type": "code",
   "execution_count": null,
   "metadata": {},
   "outputs": [],
   "source": []
  },
  {
   "cell_type": "code",
   "execution_count": null,
   "metadata": {},
   "outputs": [],
   "source": []
  },
  {
   "cell_type": "code",
   "execution_count": 38,
   "metadata": {},
   "outputs": [],
   "source": [
    "#logFC\tstrand\tpin\tFDR\n",
    "#df_data_set = \n",
    "\n",
    "#df_inside_gene.iloc[:,3] = df_feature_inside_gene.iloc[:,0]\n",
    "#df_inside_gene.iloc[:,[3,4,7,8]]"
   ]
  },
  {
   "cell_type": "code",
   "execution_count": null,
   "metadata": {},
   "outputs": [],
   "source": []
  },
  {
   "cell_type": "code",
   "execution_count": null,
   "metadata": {},
   "outputs": [],
   "source": []
  },
  {
   "cell_type": "code",
   "execution_count": null,
   "metadata": {},
   "outputs": [],
   "source": []
  },
  {
   "cell_type": "code",
   "execution_count": null,
   "metadata": {},
   "outputs": [],
   "source": []
  },
  {
   "cell_type": "code",
   "execution_count": 50,
   "metadata": {},
   "outputs": [
    {
     "name": "stdout",
     "output_type": "stream",
     "text": [
      "1\n",
      "2\n",
      "3\n"
     ]
    },
    {
     "data": {
      "text/plain": [
       "Text(0.5, 1.0, 'Expression Log2(Fold Change): -1.48012')"
      ]
     },
     "execution_count": 50,
     "metadata": {},
     "output_type": "execute_result"
    },
    {
     "data": {
      "image/png": "[encoded data removed]",
      "text/plain": [
       "<Figure size 648x576 with 1 Axes>"
      ]
     },
     "metadata": {
      "needs_background": "light"
     },
     "output_type": "display_data"
    }
   ],
   "source": [
    "gene_name='Abhd8'\n",
    "df_inside_gene = df_group.get_group(gene_name).iloc[:,10:]\n",
    "df_inside_gene = df_inside_gene[13].str.split('_',  expand=True).groupby([0])\n",
    "\n",
    "num_columns_target=len(df_target.columns)\n",
    "\n",
    "fc_label = ['DNase', 'Eh' , 'SE']\n",
    "\n",
    "\n",
    "df_inside_gene = df_group.get_group(gene_name) ##\n",
    "Gene_Expression_FC = df_inside_gene.iloc[0,4]\n",
    "df_inside_gene = df_inside_gene.iloc[:, num_columns_target:]\n",
    "## data inside gene format, actually ignore gene part, then, still 3 should be id.\n",
    "df_subgroup_inside_gene = df_inside_gene.iloc[:, 3].str.split('_',  expand=True).groupby([0])\n",
    "# group by first part of id, normally is the category\n",
    "fig, ax = plt.subplots(nrows=1, ncols=1, figsize=(9,8))\n",
    "\n",
    "color=['C0','C1','C2','C3','C4','C5','C6','C7','C8','C9','black'] \n",
    "## Maxium 10 features\n",
    "boundary_limit=0\n",
    "list_item_legend=[]\n",
    "list_name_legend=[]\n",
    "i=0\n",
    "j=0\n",
    "## assuming fifth columns score, is Log2(FC)\n",
    "for feature_type in df_subgroup_inside_gene.groups.keys():\n",
    "    Enlargement_Constant=200\n",
    "    df_feature_tem = df_inside_gene.loc[df_subgroup_inside_gene.get_group(feature_type).index,:] \n",
    "    x_coordinate=df_feature_tem.iloc[:,len(df_feature_tem.columns)-1].astype(float) ## last columns is distance to Target\n",
    "    boundary_limit = max(boundary_limit, max(max(x_coordinate),abs(min(x_coordinate))))\n",
    "\n",
    "    if(feature_type in fc_label):\n",
    "        if(feature_type=='SE'): Enlargement_Constant=1000              \n",
    "#############################################################################################\n",
    "        ### This line is like the fold change = 1 line, \n",
    "        ax.plot([-boundary_limit,boundary_limit],[j,j], c=color[i], linestyle='--', lw=1, label=feature_type+\"fold_change=1\")\n",
    "#############################################################################################\n",
    "        df_feature_tem_fc_1 = df_feature_tem[df_feature_tem.iloc[:,4].astype(float)>0]  ## fifth columns is score\n",
    "        x_coordinate= df_feature_tem_fc_1.iloc[:,len(df_feature_tem.columns)-1].astype(float) ## last columns is distance to Target\n",
    "        y_coordinate= df_feature_tem_fc_1.iloc[:,4].astype(float) ## corresponding to score part\n",
    "        marker_size = [round(x) for x in abs(y_coordinate.astype(float)*Enlargement_Constant)]\n",
    "        im=ax.scatter(x_coordinate, np.zeros(len(x_coordinate))+j+0.5, s=marker_size,  marker='^', c=color[i], alpha=0.8)\n",
    "        list_item_legend.append(im)\n",
    "        list_name_legend.append(feature_type+'_Up')\n",
    "#############################################################################################    \n",
    "        df_feature_tem_fc_less_1 = df_feature_tem[df_feature_tem.iloc[:,4].astype(float)<0]\n",
    "        x_coordinate= df_feature_tem_fc_less_1.iloc[:,len(df_feature_tem.columns)-1].astype(float) ## last columns is distance to Target\n",
    "        y_coordinate= df_feature_tem_fc_less_1.iloc[:,4].astype(float) ## corresponding to score part\n",
    "        marker_size = [round(x) for x in abs(y_coordinate.astype(float)*Enlargement_Constant)]\n",
    "        im=ax.scatter(x_coordinate, np.zeros(len(x_coordinate))+j-0.5, s=marker_size, marker='v' , c=color[i], alpha=0.8)\n",
    "        list_item_legend.append(im)\n",
    "        list_name_legend.append(feature_type+'_Down')\n",
    "        j+=1\n",
    "        print (j)\n",
    "####################################################################################\n",
    "    else:\n",
    "        #y_coordinate=np.log2(df_feature_tem.iloc[:,4].astype(float))  ## corresponding to score part\n",
    "        y_coordinate=(df_feature_tem.iloc[:,4].astype(float))\n",
    "        im=ax.scatter(x_coordinate, y_coordinate, s=Enlargement_Constant, c=color[i],  marker='^')\n",
    "        list_item_legend.append(im)\n",
    "        list_name_legend.append(feature_type)\n",
    "    i+=1\n",
    "    ## color code +1\n",
    "####################################################################################\n",
    "legend_object = ax.legend(list_item_legend,list_name_legend, loc=\"upper right\", scatterpoints=1,bbox_to_anchor=(0.50,1, 1,0),\n",
    "        edgecolor='w', borderaxespad=0, fancybox=True, shadow=False,  fontsize=18, labelspacing=1.0)\n",
    "x=[-boundary_limit,0,boundary_limit]\n",
    "ax.set_xticks(x)\n",
    "customized_xticks=[ 'Upstream: '+ str(x[0]) ,'TSS of '+gene_name,'Downstream: +' + str(x[2])]\n",
    "ax.set_xticklabels(customized_xticks, fontsize=18)\n",
    "ax.grid(which='major', axis='x', linestyle='--')\n",
    "ax.set_ylabel(\"Peaks_Strength (Scale: Log2)\", fontsize=18)\n",
    "#ax.set_ylim(-3,10)\n",
    "ax.set_title('Expression Log2(Fold Change): '+ str(Gene_Expression_FC), fontsize=18)\n",
    "\n",
    "\n",
    "\n"
   ]
  },
  {
   "cell_type": "code",
   "execution_count": null,
   "metadata": {},
   "outputs": [],
   "source": []
  },
  {
   "cell_type": "code",
   "execution_count": null,
   "metadata": {},
   "outputs": [],
   "source": []
  },
  {
   "cell_type": "code",
   "execution_count": null,
   "metadata": {},
   "outputs": [],
   "source": []
  },
  {
   "cell_type": "code",
   "execution_count": null,
   "metadata": {},
   "outputs": [],
   "source": []
  },
  {
   "cell_type": "code",
   "execution_count": null,
   "metadata": {},
   "outputs": [],
   "source": []
  },
  {
   "cell_type": "code",
   "execution_count": null,
   "metadata": {},
   "outputs": [],
   "source": []
  },
  {
   "cell_type": "code",
   "execution_count": null,
   "metadata": {},
   "outputs": [],
   "source": []
  },
  {
   "cell_type": "code",
   "execution_count": 82,
   "metadata": {},
   "outputs": [],
   "source": [
    "def gene_associated_multi_feature_tcf1(gene_annotation_path, feature_path, feature_RPKM_path, tcf1_feature_path, expression_path, genelist_set_for_plot):\n",
    "    ## Genes \n",
    "    gene_annotation_Bed=BedTool(gene_annotation_path).sort()\n",
    "    ## Features To be associated\n",
    "    features_Bed=BedTool(feature_path).sort()\n",
    "    ## Add Tcf1\n",
    "    Tcf1_Peak_Bed=BedTool(tcf1_feature_path)\n",
    "    features_Bed_with_Tcf1=features_Bed.intersect(Tcf1_Peak_Bed,c=True)\n",
    "    ## Associated Rule report ties\n",
    "    features_associated=features_Bed_with_Tcf1.closest(gene_annotation_Bed, t='all')\n",
    "    df_features_associated=pd.read_table(features_associated.fn, header=None)\n",
    "    ## Group by gene_id\n",
    "    df_genes_with_features=df_features_associated.groupby(8) ## in some cases, 7 columns is gene_id\n",
    "    ## add expression\n",
    "    df_gene_expression=generate_All_Genes(path_of_expression,0)\n",
    "    ### in here, feature coordinates are seperate file from RPKM\n",
    "    df_edgeR=pd.read_csv(feature_RPKM_path, sep='\\t')\n",
    "    fig, ax = plt.subplots(nrows=1, ncols=1, figsize=(16,9))\n",
    "    \n",
    "    j=0\n",
    "    for gene_set_name in genelist_set.keys():\n",
    "        print gene_set_name\n",
    "        df_genelist_set=pd.DataFrame({'gene_id':genelist_set[gene_set_name]})\n",
    "        df_gene_expression_tem=df_gene_expression.merge(df_genelist_set, on='gene_id', how='inner')\n",
    "        i=0\n",
    "        for genelist in df_gene_expression_tem.sort_values('log2(fold_change)')['gene_id']:\n",
    "            if(genelist not in df_features_associated[8].unique()):\n",
    "                continue\n",
    "            group=df_genes_with_features.get_group(genelist)\n",
    "            gene_associated_DNase=df_edgeR.merge(group.rename(columns={3:'GeneID', 4:'Tcf1'})[['GeneID','Tcf1']], on='GeneID',how='inner').sort_values('logFC')\n",
    "\n",
    "\n",
    "            x_coordinate=np.zeros(len(gene_associated_DNase['logFC']))\n",
    "            y_coordinate=np.arange(len(gene_associated_DNase['logFC']))/5.0\n",
    "            gene_expression_fc = df_gene_expression[df_gene_expression['gene_id']==genelist]['log2(fold_change)'].values[0]\n",
    "            im=ax.scatter(x_coordinate+i, y_coordinate+gene_expression_fc,\n",
    "                          c=gene_associated_DNase['logFC'],\n",
    "                        vmin=-3,vmax=3,s=20, cmap='RdBu_r', marker='>')\n",
    "            im_Tcf1=ax.scatter(x_coordinate+i+0.2, y_coordinate+gene_expression_fc, c=gene_associated_DNase['Tcf1'],\n",
    "                vmin=-1,vmax=1,s=5, cmap='bwr', marker='X')\n",
    "            ax.text(i,gene_expression_fc-1, genelist, fontsize=12, color='r', rotation=90)\n",
    "            i+=1\n",
    "        ax.text(len(genelist_set[genelist_set.keys()[j]])/2, gene_expression_fc-1, 'Genelists: '+ str(len(genelist_set[genelist_set.keys()[j]])), fontsize=12, color='r')   \n",
    "        j+=1\n",
    "    im_zero = ax.plot(np.arange(i),np.zeros(i), '--', linewidth=1)\n",
    "    ax.set_ylabel('Expression  Log$_2$FC', fontsize='18')\n",
    "    ax.legend([im,im_Tcf1], ['DNase_Site','Tcf1_Binding'], scatterpoints=1,loc=0, fontsize=14)\n",
    "    fig.colorbar(im,ax=ax)\n",
    "    return df_features_associated"
   ]
  },
  {
   "cell_type": "code",
   "execution_count": 83,
   "metadata": {},
   "outputs": [],
   "source": []
  },
  {
   "cell_type": "markdown",
   "metadata": {},
   "source": [
    "# Prepare for Peng Feature"
   ]
  },
  {
   "cell_type": "markdown",
   "metadata": {},
   "source": [
    "### On Promoter"
   ]
  },
  {
   "cell_type": "code",
   "execution_count": 4,
   "metadata": {},
   "outputs": [],
   "source": [
    "PATH_Feature_Folder=\"/home/xli/Data/Haihui/CD8-HP/Summary/\"\n",
    "Path_gene_annotation=PATH_Feature_Folder+\"gene_promoter_1k_iv_unique.bed\"\n",
    "\n",
    "gene_annotation_Bed=BedTool(Path_gene_annotation).sort()\n",
    "Feature_A = BedTool(PATH_Feature_Folder+\"A_28827_Feature_Union_Naive_DNase_Peaks.bed8\").sort()\n",
    "Feature_B = BedTool(PATH_Feature_Folder+\"B_19042_Feature_Tcf1_WT_CD8_peaks.bed8\").sort()\n",
    "Feature_C = BedTool(PATH_Feature_Folder+\"C_76633_Pooled_K27ac_with_EdgeR.bed\").sort()\n",
    "Feature_D = BedTool(PATH_Feature_Folder+\"D_1190_Union_SE_with_EdgeR_with_Tcf1_score_in_Peaks.bed\").sort()"
   ]
  },
  {
   "cell_type": "code",
   "execution_count": null,
   "metadata": {},
   "outputs": [],
   "source": []
  },
  {
   "cell_type": "code",
   "execution_count": 27,
   "metadata": {},
   "outputs": [],
   "source": [
    "promoter_with_A = gene_annotation_Bed.intersect(Feature_A, wao=True)\n",
    "promoter_with_A_B = promoter_with_A.intersect(Feature_B, wao=True)\n",
    "promoter_with_A_B_C = promoter_with_A_B.intersect(Feature_C, wao=True)\n",
    "df_promoter_with_A_B_C = pd.read_csv(promoter_with_A_B_C.fn, sep=\"\\t\", header=None)\n",
    "df_promoter_with_A_B_C = df_promoter_with_A_B_C.iloc[:,[0,1,2,3,4,9,12,18,27,30]].rename(columns={9:'DNase_logFC',12:'DNase_FDR', 18:'Tcf1_Enrichment', 27:'K27Ac_logFC',30:'K27Ac_FDR'}) ##9 DNase logFC, #18 Tcf1 log Enrichment # 27 K27ac logFC"
   ]
  },
  {
   "cell_type": "code",
   "execution_count": 21,
   "metadata": {},
   "outputs": [
    {
     "data": {
      "text/html": [
       "<div>\n",
       "<style scoped>\n",
       "    .dataframe tbody tr th:only-of-type {\n",
       "        vertical-align: middle;\n",
       "    }\n",
       "\n",
       "    .dataframe tbody tr th {\n",
       "        vertical-align: top;\n",
       "    }\n",
       "\n",
       "    .dataframe thead th {\n",
       "        text-align: right;\n",
       "    }\n",
       "</style>\n",
       "<table border=\"1\" class=\"dataframe\">\n",
       "  <thead>\n",
       "    <tr style=\"text-align: right;\">\n",
       "      <th></th>\n",
       "      <th>0</th>\n",
       "      <th>1</th>\n",
       "      <th>2</th>\n",
       "      <th>3</th>\n",
       "      <th>4</th>\n",
       "      <th>5</th>\n",
       "      <th>6</th>\n",
       "      <th>7</th>\n",
       "      <th>8</th>\n",
       "      <th>9</th>\n",
       "      <th>...</th>\n",
       "      <th>22</th>\n",
       "      <th>23</th>\n",
       "      <th>24</th>\n",
       "      <th>25</th>\n",
       "      <th>26</th>\n",
       "      <th>27</th>\n",
       "      <th>28</th>\n",
       "      <th>29</th>\n",
       "      <th>30</th>\n",
       "      <th>31</th>\n",
       "    </tr>\n",
       "  </thead>\n",
       "  <tbody>\n",
       "    <tr>\n",
       "      <th>0</th>\n",
       "      <td>chr1</td>\n",
       "      <td>3660578</td>\n",
       "      <td>3662579</td>\n",
       "      <td>Xkr4</td>\n",
       "      <td>promoter</td>\n",
       "      <td>.</td>\n",
       "      <td>-1</td>\n",
       "      <td>-1</td>\n",
       "      <td>.</td>\n",
       "      <td>.</td>\n",
       "      <td>...</td>\n",
       "      <td>0</td>\n",
       "      <td>.</td>\n",
       "      <td>-1</td>\n",
       "      <td>-1</td>\n",
       "      <td>.</td>\n",
       "      <td>.</td>\n",
       "      <td>.</td>\n",
       "      <td>.</td>\n",
       "      <td>.</td>\n",
       "      <td>0</td>\n",
       "    </tr>\n",
       "  </tbody>\n",
       "</table>\n",
       "<p>1 rows × 32 columns</p>\n",
       "</div>"
      ],
      "text/plain": [
       "     0        1        2     3         4  5   6   7  8  9   ... 22 23 24  25  \\\n",
       "0  chr1  3660578  3662579  Xkr4  promoter  .  -1  -1  .  .  ...  0  . -1  -1   \n",
       "\n",
       "  26  27  28 29 30 31  \n",
       "0  .   .   .  .  .  0  \n",
       "\n",
       "[1 rows x 32 columns]"
      ]
     },
     "execution_count": 21,
     "metadata": {},
     "output_type": "execute_result"
    }
   ],
   "source": [
    "df_promoter_with_A_B_C.head(1)"
   ]
  },
  {
   "cell_type": "code",
   "execution_count": 29,
   "metadata": {},
   "outputs": [
    {
     "data": {
      "text/html": [
       "<div>\n",
       "<style scoped>\n",
       "    .dataframe tbody tr th:only-of-type {\n",
       "        vertical-align: middle;\n",
       "    }\n",
       "\n",
       "    .dataframe tbody tr th {\n",
       "        vertical-align: top;\n",
       "    }\n",
       "\n",
       "    .dataframe thead th {\n",
       "        text-align: right;\n",
       "    }\n",
       "</style>\n",
       "<table border=\"1\" class=\"dataframe\">\n",
       "  <thead>\n",
       "    <tr style=\"text-align: right;\">\n",
       "      <th></th>\n",
       "      <th>0</th>\n",
       "      <th>1</th>\n",
       "      <th>2</th>\n",
       "      <th>3</th>\n",
       "      <th>4</th>\n",
       "      <th>DNase_logFC</th>\n",
       "      <th>DNase_FDR</th>\n",
       "      <th>Tcf1_Enrichment</th>\n",
       "      <th>K27Ac_logFC</th>\n",
       "      <th>K27Ac_FDR</th>\n",
       "      <th>Expression_log2FC</th>\n",
       "      <th>WT_0h</th>\n",
       "      <th>DKO_0h</th>\n",
       "      <th>q_value</th>\n",
       "    </tr>\n",
       "  </thead>\n",
       "  <tbody>\n",
       "    <tr>\n",
       "      <th>0</th>\n",
       "      <td>chr1</td>\n",
       "      <td>3660578</td>\n",
       "      <td>3662579</td>\n",
       "      <td>Xkr4</td>\n",
       "      <td>promoter</td>\n",
       "      <td>.</td>\n",
       "      <td>.</td>\n",
       "      <td>.</td>\n",
       "      <td>.</td>\n",
       "      <td>.</td>\n",
       "      <td>0.0</td>\n",
       "      <td>0.0</td>\n",
       "      <td>0.0</td>\n",
       "      <td>1.0</td>\n",
       "    </tr>\n",
       "    <tr>\n",
       "      <th>1</th>\n",
       "      <td>chr1</td>\n",
       "      <td>4349394</td>\n",
       "      <td>4351395</td>\n",
       "      <td>Rp1</td>\n",
       "      <td>promoter</td>\n",
       "      <td>.</td>\n",
       "      <td>.</td>\n",
       "      <td>.</td>\n",
       "      <td>.</td>\n",
       "      <td>.</td>\n",
       "      <td>0.0</td>\n",
       "      <td>0.0</td>\n",
       "      <td>0.0</td>\n",
       "      <td>1.0</td>\n",
       "    </tr>\n",
       "    <tr>\n",
       "      <th>2</th>\n",
       "      <td>chr1</td>\n",
       "      <td>4486434</td>\n",
       "      <td>4488435</td>\n",
       "      <td>Sox17</td>\n",
       "      <td>promoter</td>\n",
       "      <td>.</td>\n",
       "      <td>.</td>\n",
       "      <td>13.71085</td>\n",
       "      <td>0.22484602396160056</td>\n",
       "      <td>0</td>\n",
       "      <td>0.0</td>\n",
       "      <td>0.0</td>\n",
       "      <td>0.0</td>\n",
       "      <td>1.0</td>\n",
       "    </tr>\n",
       "  </tbody>\n",
       "</table>\n",
       "</div>"
      ],
      "text/plain": [
       "      0        1        2      3         4 DNase_logFC DNase_FDR  \\\n",
       "0  chr1  3660578  3662579   Xkr4  promoter           .         .   \n",
       "1  chr1  4349394  4351395    Rp1  promoter           .         .   \n",
       "2  chr1  4486434  4488435  Sox17  promoter           .         .   \n",
       "\n",
       "  Tcf1_Enrichment          K27Ac_logFC K27Ac_FDR  Expression_log2FC  WT_0h  \\\n",
       "0               .                    .         .                0.0    0.0   \n",
       "1               .                    .         .                0.0    0.0   \n",
       "2        13.71085  0.22484602396160056         0                0.0    0.0   \n",
       "\n",
       "   DKO_0h  q_value  \n",
       "0     0.0      1.0  \n",
       "1     0.0      1.0  \n",
       "2     0.0      1.0  "
      ]
     },
     "execution_count": 29,
     "metadata": {},
     "output_type": "execute_result"
    }
   ],
   "source": [
    "Path_gene_expression = PATH_Feature_Folder+\"Target/24391_Target_mm9_genes_with_strand.bed\"\n",
    "df_gene_expression = pd.read_csv(Path_gene_expression, sep=\"\\t\", header=0)\n",
    "df_promoter_with_A_B_C.merge(df_gene_expression.loc[:,['name','log2(fold_change)','WT_0h', 'DKO_0h','q_value']].rename(columns={'log2(fold_change)':'Expression_log2FC'}), left_on=3, right_on='name', how='inner').drop(columns='name').head(3)"
   ]
  },
  {
   "cell_type": "markdown",
   "metadata": {},
   "source": [
    "## On Tcf1/DNase"
   ]
  },
  {
   "cell_type": "code",
   "execution_count": 32,
   "metadata": {},
   "outputs": [],
   "source": [
    "PATH_Feature_Folder=\"/home/xli/cloud_research/PengGroup/XLi/Data/Haihui/CD8-HP/DNaseq_seq_RNA_Seq_ChIP_seq_HiC/Features/Summary_Files/\"\n",
    "Path_gene_annotation=PATH_Feature_Folder+\"31946_Tcf1_DNase_Enhancer.bed\"\n",
    "\n",
    "gene_annotation_Bed=BedTool(Path_gene_annotation).sort()\n",
    "Feature_A = BedTool(PATH_Feature_Folder+\"A_28827_Feature_Union_Naive_DNase_Peaks.bed8\").sort()\n",
    "Feature_B = BedTool(PATH_Feature_Folder+\"B_19042_Feature_Tcf1_WT_CD8_peaks.bed8\").sort()\n",
    "Feature_C = BedTool(PATH_Feature_Folder+\"C_64806_Feature_Union_Naive_K27Ac_Enhancer_fc.bed8\").sort()\n",
    "\n",
    "promoter_with_A = gene_annotation_Bed.intersect(Feature_A, wao=True)\n",
    "promoter_with_A_B = promoter_with_A.intersect(Feature_B, wao=True)\n",
    "promoter_with_A_B_C = promoter_with_A_B.intersect(Feature_C, wao=True)\n",
    "df_promoter_with_A_B_C = pd.read_csv(promoter_with_A_B_C.fn, sep=\"\\t\", header=None)\n",
    "df_promoter_with_A_B_C = df_promoter_with_A_B_C.iloc[:,[0,1,2,3,4,9,12,18,27,30]].rename(columns={9:'DNase_logFC',12:'DNase_FDR', 18:'Tcf1_Enrichment', 27:'K27Ac_logFC',30:'K27Ac_FDR'}) ##9 DNase logFC, #18 Tcf1 log Enrichment # 27 K27ac logFC"
   ]
  },
  {
   "cell_type": "code",
   "execution_count": 34,
   "metadata": {},
   "outputs": [
    {
     "data": {
      "text/html": [
       "<div>\n",
       "<style scoped>\n",
       "    .dataframe tbody tr th:only-of-type {\n",
       "        vertical-align: middle;\n",
       "    }\n",
       "\n",
       "    .dataframe tbody tr th {\n",
       "        vertical-align: top;\n",
       "    }\n",
       "\n",
       "    .dataframe thead th {\n",
       "        text-align: right;\n",
       "    }\n",
       "</style>\n",
       "<table border=\"1\" class=\"dataframe\">\n",
       "  <thead>\n",
       "    <tr style=\"text-align: right;\">\n",
       "      <th></th>\n",
       "      <th>0</th>\n",
       "      <th>1</th>\n",
       "      <th>2</th>\n",
       "      <th>3</th>\n",
       "      <th>4</th>\n",
       "      <th>DNase_logFC</th>\n",
       "      <th>DNase_FDR</th>\n",
       "      <th>Tcf1_Enrichment</th>\n",
       "      <th>K27Ac_logFC</th>\n",
       "      <th>K27Ac_FDR</th>\n",
       "    </tr>\n",
       "  </thead>\n",
       "  <tbody>\n",
       "    <tr>\n",
       "      <th>0</th>\n",
       "      <td>chr1</td>\n",
       "      <td>4486300</td>\n",
       "      <td>4486819</td>\n",
       "      <td>Enhancer</td>\n",
       "      <td>Eh_1</td>\n",
       "      <td>.</td>\n",
       "      <td>.</td>\n",
       "      <td>13.71085</td>\n",
       "      <td>0.22484602396160056</td>\n",
       "      <td>0</td>\n",
       "    </tr>\n",
       "    <tr>\n",
       "      <th>1</th>\n",
       "      <td>chr1</td>\n",
       "      <td>4758612</td>\n",
       "      <td>4758821</td>\n",
       "      <td>Enhancer</td>\n",
       "      <td>Eh_2</td>\n",
       "      <td>0.4320268345724</td>\n",
       "      <td>0.640734983244517</td>\n",
       "      <td>.</td>\n",
       "      <td>.</td>\n",
       "      <td>.</td>\n",
       "    </tr>\n",
       "    <tr>\n",
       "      <th>2</th>\n",
       "      <td>chr1</td>\n",
       "      <td>4770212</td>\n",
       "      <td>4770354</td>\n",
       "      <td>Enhancer</td>\n",
       "      <td>Eh_3</td>\n",
       "      <td>0.41872326825376005</td>\n",
       "      <td>0.8796002751890271</td>\n",
       "      <td>.</td>\n",
       "      <td>.</td>\n",
       "      <td>.</td>\n",
       "    </tr>\n",
       "    <tr>\n",
       "      <th>3</th>\n",
       "      <td>chr1</td>\n",
       "      <td>4775547</td>\n",
       "      <td>4776053</td>\n",
       "      <td>Enhancer</td>\n",
       "      <td>Eh_4</td>\n",
       "      <td>-0.11899379761593999</td>\n",
       "      <td>0.837738110805253</td>\n",
       "      <td>9.65992</td>\n",
       "      <td>-0.39606515932192393</td>\n",
       "      <td>0</td>\n",
       "    </tr>\n",
       "    <tr>\n",
       "      <th>4</th>\n",
       "      <td>chr1</td>\n",
       "      <td>4797719</td>\n",
       "      <td>4798201</td>\n",
       "      <td>Enhancer</td>\n",
       "      <td>Eh_5</td>\n",
       "      <td>-0.350631241459532</td>\n",
       "      <td>0.57149475039038</td>\n",
       "      <td>5.9206</td>\n",
       "      <td>-0.49277374108487787</td>\n",
       "      <td>0</td>\n",
       "    </tr>\n",
       "  </tbody>\n",
       "</table>\n",
       "</div>"
      ],
      "text/plain": [
       "      0        1        2         3     4           DNase_logFC  \\\n",
       "0  chr1  4486300  4486819  Enhancer  Eh_1                     .   \n",
       "1  chr1  4758612  4758821  Enhancer  Eh_2       0.4320268345724   \n",
       "2  chr1  4770212  4770354  Enhancer  Eh_3   0.41872326825376005   \n",
       "3  chr1  4775547  4776053  Enhancer  Eh_4  -0.11899379761593999   \n",
       "4  chr1  4797719  4798201  Enhancer  Eh_5    -0.350631241459532   \n",
       "\n",
       "            DNase_FDR Tcf1_Enrichment           K27Ac_logFC K27Ac_FDR  \n",
       "0                   .        13.71085   0.22484602396160056         0  \n",
       "1   0.640734983244517               .                     .         .  \n",
       "2  0.8796002751890271               .                     .         .  \n",
       "3   0.837738110805253         9.65992  -0.39606515932192393         0  \n",
       "4    0.57149475039038          5.9206  -0.49277374108487787         0  "
      ]
     },
     "execution_count": 34,
     "metadata": {},
     "output_type": "execute_result"
    }
   ],
   "source": [
    "df_promoter_with_A_B_C.head(5)"
   ]
  },
  {
   "cell_type": "code",
   "execution_count": null,
   "metadata": {},
   "outputs": [],
   "source": [
    "Path_gene_expression = PATH_Feature_Folder+\"Target/24391_Target_mm9_genes_with_strand.bed\"\n",
    "df_gene_expression = pd.read_csv(Path_gene_expression, sep=\"\\t\", header=0)\n",
    "df_promoter_with_A_B_C.merge(df_gene_expression.loc[:,['name','log2(fold_change)','WT_0h', 'DKO_0h','q_value']].rename(columns={'log2(fold_change)':'Expression_log2FC'}), left_on=3, right_on='name', how='inner').drop(columns='name').head(3)"
   ]
  },
  {
   "cell_type": "code",
   "execution_count": null,
   "metadata": {},
   "outputs": [],
   "source": []
  },
  {
   "cell_type": "code",
   "execution_count": null,
   "metadata": {},
   "outputs": [],
   "source": []
  },
  {
   "cell_type": "code",
   "execution_count": null,
   "metadata": {},
   "outputs": [],
   "source": []
  },
  {
   "cell_type": "code",
   "execution_count": null,
   "metadata": {},
   "outputs": [],
   "source": []
  },
  {
   "cell_type": "code",
   "execution_count": null,
   "metadata": {},
   "outputs": [],
   "source": []
  },
  {
   "cell_type": "code",
   "execution_count": null,
   "metadata": {},
   "outputs": [],
   "source": [
    "df_for_category=df_feature_associated_genes_with_genes\n",
    "df_group = df_for_category.groupby([8])\n",
    "genelist_to_be_removed=list()\n",
    "for group_item in df_group:\n",
    "    size_group = len(group_item[1])\n",
    "    if (size_group>1):\n",
    "        if (len(group_item[1]['SuperEnhancer'].value_counts()) > 1):\n",
    "            genelist_to_be_removed.append(group_item[0])\n",
    "print (\"Genes with Ambiguity: \" + str(len(genelist_to_be_removed)))"
   ]
  },
  {
   "cell_type": "code",
   "execution_count": null,
   "metadata": {},
   "outputs": [],
   "source": []
  },
  {
   "cell_type": "code",
   "execution_count": null,
   "metadata": {},
   "outputs": [],
   "source": [
    "features_closest_associated=features_no_overlap.closest(gene_annotation_Bed, t='all')"
   ]
  },
  {
   "cell_type": "code",
   "execution_count": 35,
   "metadata": {},
   "outputs": [
    {
     "name": "stdout",
     "output_type": "stream",
     "text": [
      "chr1\t1\t100\tfeature1\t0\t+\n",
      "chr1\t100\t200\tfeature2\t0\t+\n",
      "chr1\t150\t500\tfeature3\t0\t-\n",
      "chr1\t900\t950\tfeature4\t0\t+\n",
      "\n",
      "chr1\t155\t200\tfeature5\t0\t-\n",
      "chr1\t800\t901\tfeature6\t0\t+\n",
      "\n",
      "chr1\t1\t100\tfeature1\t0\t+\n",
      "chr1\t100\t200\tfeature2\t0\t+\n",
      "chr1\t150\t500\tfeature3\t0\t-\n",
      "chr1\t900\t950\tfeature4\t0\t+\n",
      "chr1\t155\t200\tfeature5\t0\t-\n",
      "chr1\t800\t901\tfeature6\t0\t+\n",
      "\n"
     ]
    }
   ],
   "source": [
    "from pybedtools import example_bedtool\n",
    "a = example_bedtool('a.bed')\n",
    "b = example_bedtool('b.bed')\n",
    "print (a)\n",
    "print (b)\n",
    "print (a.cat(b, postmerge=False))"
   ]
  }
 ],
 "metadata": {
  "kernelspec": {
   "display_name": "Python 3",
   "language": "python",
   "name": "python3"
  },
  "language_info": {
   "codemirror_mode": {
    "name": "ipython",
    "version": 3
   },
   "file_extension": ".py",
   "mimetype": "text/x-python",
   "name": "python",
   "nbconvert_exporter": "python",
   "pygments_lexer": "ipython3",
   "version": "3.7.3"
  }
 },
 "nbformat": 4,
 "nbformat_minor": 2
}
