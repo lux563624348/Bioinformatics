{
 "cells": [
  {
   "cell_type": "code",
   "execution_count": 3,
   "metadata": {},
   "outputs": [],
   "source": [
    "os.chdir('/home/xli/Data/xwang/RNA-seq_E13.5_mandible/Tophat_Results/sorted')"
   ]
  },
  {
   "cell_type": "code",
   "execution_count": 1,
   "metadata": {},
   "outputs": [],
   "source": [
    "import matplotlib.pyplot as plt\n",
    "import seaborn as sns\n",
    "import scipy.stats as stats"
   ]
  },
  {
   "cell_type": "code",
   "execution_count": 2,
   "metadata": {},
   "outputs": [],
   "source": [
    "import numpy as np\n",
    "import pandas as pd\n",
    "import os\n",
    "import matplotlib\n",
    "matplotlib.use('AGG')\n",
    "import matplotlib.pyplot as plt\n",
    "import seaborn as sns\n",
    "sns.set_style(\"white\") \n",
    "\n",
    "# display plots in this notebook\n",
    "%matplotlib inline"
   ]
  },
  {
   "cell_type": "code",
   "execution_count": 4,
   "metadata": {},
   "outputs": [
    {
     "data": {
      "text/plain": [
       "(10688, 2)"
      ]
     },
     "execution_count": 4,
     "metadata": {},
     "output_type": "execute_result"
    }
   ],
   "source": [
    "os.listdir()\n",
    "\n",
    "df_control = pd.read_csv('Control.quant.IRI.genes.txt', sep=\"\\t\", usecols={'gene_id', 'gene_CIR_RPKM', 'gene_CER_RPKM', 'gene_IRI' })\n",
    "df_mutant = pd.read_csv('Mutant.quant.IRI.genes.txt', sep=\"\\t\" , usecols={'gene_id', 'gene_CIR_RPKM', 'gene_CER_RPKM', 'gene_IRI' })\n",
    "df = df_control.merge(df_mutant, on='gene_id', how='inner', suffixes={'_Control','_Mutant'} ).set_index('gene_id')#.head(1)\n",
    "df = df[(df['gene_CER_RPKM_Control']> 1.0) & (df['gene_CER_RPKM_Mutant']> 1.0) & (df['gene_IRI_Control'] < 1.0) & (df['gene_IRI_Mutant'] < 1.0)]\n",
    "df_IRI = df[['gene_IRI_Control', 'gene_IRI_Mutant']]\n",
    "df_IRI.shape"
   ]
  },
  {
   "cell_type": "code",
   "execution_count": null,
   "metadata": {},
   "outputs": [],
   "source": []
  },
  {
   "cell_type": "code",
   "execution_count": 7,
   "metadata": {},
   "outputs": [
    {
     "name": "stderr",
     "output_type": "stream",
     "text": [
      "/home/xli/.conda/envs/py3_lx/lib/python3.7/site-packages/ipykernel_launcher.py:1: RuntimeWarning: divide by zero encountered in log\n",
      "  \"\"\"Entry point for launching an IPython kernel.\n"
     ]
    },
    {
     "data": {
      "text/plain": [
       "(10610, 2)"
      ]
     },
     "execution_count": 7,
     "metadata": {},
     "output_type": "execute_result"
    }
   ],
   "source": [
    "df_IRI = np.log(df_IRI).replace([np.inf, -np.inf], np.nan).dropna()\n",
    "df_IRI.shape"
   ]
  },
  {
   "cell_type": "code",
   "execution_count": 9,
   "metadata": {},
   "outputs": [
    {
     "name": "stdout",
     "output_type": "stream",
     "text": [
      "P value:\n",
      "0.0\n"
     ]
    },
    {
     "name": "stderr",
     "output_type": "stream",
     "text": [
      "/home/xli/.conda/envs/py3_lx/lib/python3.7/site-packages/ipykernel_launcher.py:10: MatplotlibDeprecationWarning: \n",
      "The 'normed' kwarg was deprecated in Matplotlib 2.1 and will be removed in 3.1. Use 'density' instead.\n",
      "  # Remove the CWD from sys.path while we load stuff.\n"
     ]
    },
    {
     "data": {
      "text/plain": [
       "Text(0.5, 1.0, 'Mann–Whitney U test: P value = 0.00e+00')"
      ]
     },
     "execution_count": 9,
     "metadata": {},
     "output_type": "execute_result"
    },
    {
     "data": {
      "image/png": "[encoded data removed]",
      "text/plain": [
       "<Figure size 432x288 with 1 Axes>"
      ]
     },
     "metadata": {
      "needs_background": "light"
     },
     "output_type": "display_data"
    }
   ],
   "source": [
    "#df_IRI.values\n",
    "\n",
    "#sns.distplot(df_IRI, color = ['blue','red'],  bins = int(180/5))\n",
    "#df_IRI.hist(bins=10)\n",
    "u_statistic, pVal = stats.mannwhitneyu(df_IRI['gene_IRI_Control'], df_IRI['gene_IRI_Mutant'])\n",
    "print ('P value:')\n",
    "print (pVal)\n",
    "\n",
    "plt.hist(df_IRI.values, bins = 30, normed=True,\n",
    "         color = ['blue','red'], label= ['Control','Mutant'])\n",
    "plt.legend()\n",
    "plt.xlabel('Log2(IRI)')\n",
    "plt.title('Mann–Whitney U test: P value = ' + str(\"{:0.2e}\".format(pVal)))  #str(pVal)) #"
   ]
  },
  {
   "cell_type": "code",
   "execution_count": null,
   "metadata": {},
   "outputs": [],
   "source": []
  },
  {
   "cell_type": "code",
   "execution_count": null,
   "metadata": {},
   "outputs": [],
   "source": []
  }
 ],
 "metadata": {
  "kernelspec": {
   "display_name": "Python 3",
   "language": "python",
   "name": "python3"
  },
  "language_info": {
   "codemirror_mode": {
    "name": "ipython",
    "version": 3
   },
   "file_extension": ".py",
   "mimetype": "text/x-python",
   "name": "python",
   "nbconvert_exporter": "python",
   "pygments_lexer": "ipython3",
   "version": "3.7.3"
  }
 },
 "nbformat": 4,
 "nbformat_minor": 2
}
