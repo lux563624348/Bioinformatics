{
 "cells": [
  {
   "cell_type": "code",
   "execution_count": 1,
   "id": "congressional-camel",
   "metadata": {},
   "outputs": [],
   "source": [
    "#import matplotlib\n",
    "#matplotlib.use('AGG')\n",
    "import matplotlib.pyplot as plt\n",
    "import seaborn as sns\n",
    "#sns.set_style(\"white\") \n",
    "# display plots in this notebook\n",
    "%matplotlib inline"
   ]
  },
  {
   "cell_type": "code",
   "execution_count": 2,
   "id": "indoor-ultimate",
   "metadata": {},
   "outputs": [],
   "source": [
    "import pandas as pd\n",
    "import numpy as np\n"
   ]
  },
  {
   "cell_type": "code",
   "execution_count": 64,
   "id": "defensive-covering",
   "metadata": {},
   "outputs": [],
   "source": [
    "def Loops_Return_two_bins_no_dup(df_hic):\n",
    "    # verified on 03/04/2021\n",
    "    ## Associated by promoter\n",
    "    second_bin_columns = [3,4,5,0,1,2]+list(range(6,len(df_hic.columns),1))\n",
    "    df_hic=df_hic.append(pd.DataFrame(df_hic.iloc[:, second_bin_columns].values, columns=df_hic.columns)) ## union left and right bin\n",
    "    ### Sort by coordinate\n",
    "    return df_hic.iloc[:,0:3].drop_duplicates().sort_values(by=[df_hic.columns[0],df_hic.columns[1]],ascending=True).reset_index(drop=True).reset_index()\n",
    "\n",
    "\n",
    "def Convert_Loops_to_Graph(_df_hic, _weight_col):\n",
    "    ## Assign a list of weight ot graph\n",
    "    \n",
    "    ## loop format: ['#chr1', 'x1', 'x2', 'chr2', 'y1', 'y2', 'GeneID', 'weight_cols']\n",
    "    df_bins = Loops_Return_two_bins_no_dup(_df_hic)\n",
    "    \n",
    "    ## eliminate float in chr\n",
    "    df_bins['name'] = df_bins['#chr1'].astype(str).str.split(\".\",expand=True)[0]+':'+df_bins['x1'].astype(int).astype(str)+'-'+df_bins['x2'].astype(int).astype(str)\n",
    "    Num_vs = len(df_bins.index)\n",
    "    ## Initiation a graph from loops file \n",
    "    graph_tem = ig.Graph()\n",
    "    graph_tem.add_vertices(Num_vs)\n",
    "    graph_tem.vs[\"name\"] = df_bins.loc[:,'name']\n",
    "    df_edge = _df_hic.merge(df_bins, on=['#chr1', 'x1', 'x2']).merge(\n",
    "        df_bins, left_on=['chr2', 'y1', 'y2'], right_on=['#chr1', 'x1', 'x2'])\n",
    "    graph_tem.add_edges(df_edge.loc[:, ['index_x','index_y']].values)\n",
    "\n",
    "    for weight in _weight_col:\n",
    "        if (weight in _df_hic.columns):\n",
    "            graph_tem.es[weight] = df_edge.loc[:,weight].values\n",
    "    return graph_tem\n",
    "\n",
    "def Read_Interaction(_PATH_interaction, _resolution, _col_fore, _col_back, _chr):\n",
    "    PATH_interaction=_PATH_interaction\n",
    "    col_fore = _col_fore\n",
    "    col_back  = _col_back\n",
    "    resolution = _resolution\n",
    "    \n",
    "    df_interaction = pd.read_csv(PATH_interaction, sep=\"\\t\")\n",
    "    df_interaction_ = df_interaction[ df_interaction.iloc[:,0].astype(str).replace('chr','') == str(_chr)].fillna(0).replace(0,1)\n",
    "    df_interaction = LOESS_Norm_df(df_interaction_, col_fore, col_back)\n",
    "    df_interaction = df_interaction[df_interaction.iloc[:,1]!=df_interaction.iloc[:,2]] ### remove self interaction\n",
    "    df_interaction.loc[:,'#chr']=df_interaction.iloc[:,0].astype(str).replace('chr','')\n",
    "    df_interaction.loc[:,'#chr1']=df_interaction.iloc[:,0]\n",
    "    df_interaction.loc[:,'x1']=df_interaction.iloc[:,1].astype(int)\n",
    "    df_interaction.loc[:,'x2']=df_interaction.iloc[:,1].astype(int)+int(resolution)\n",
    "    df_interaction.loc[:,'chr2']=df_interaction.iloc[:,0]\n",
    "    df_interaction.loc[:,'y1']=df_interaction.iloc[:,2].astype(int)\n",
    "    df_interaction.loc[:,'y2']=df_interaction.iloc[:,2].astype(int)+int(resolution)\n",
    "    \n",
    "    \n",
    "    if('logFC' in df_interaction.columns):\n",
    "        df_interaction.loc[:,'log_FC'] = df_interaction.loc[:,'logFC']\n",
    "    else:\n",
    "        df_interaction.loc[:,'log_FC'] = np.log2(df_interaction.loc[:,col_fore] / df_interaction.loc[:,col_back])\n",
    "    df_interaction = df_interaction.loc[:,['#chr1','x1','x2','chr2','y1','y2','log_FC', col_fore, col_back]]\n",
    "    return df_interaction\n",
    "\n",
    "def Get_MA_plot(_df, _col1, _col2):\n",
    "    df_test = _df\n",
    "    col_fore = _col1\n",
    "    col_back = _col2\n",
    "    M = np.log2(df_test[col_fore])-np.log2(df_test[col_back])\n",
    "    A = 0.5*( np.log2(df_test[col_fore]) + np.log2(df_test[col_back]))\n",
    "    fig = plt.figure(figsize = (6,6))\n",
    "    ax = fig.add_subplot(1,1,1) \n",
    "\n",
    "    plt.plot(A, M, 'ko', ms=2)\n",
    "    plt.show()\n",
    "    return None"
   ]
  },
  {
   "cell_type": "code",
   "execution_count": null,
   "id": "impressive-collar",
   "metadata": {},
   "outputs": [],
   "source": []
  },
  {
   "cell_type": "markdown",
   "id": "destroyed-venue",
   "metadata": {},
   "source": [
    "## MA plot for Normalization"
   ]
  },
  {
   "cell_type": "code",
   "execution_count": 55,
   "id": "commercial-donor",
   "metadata": {},
   "outputs": [
    {
     "name": "stderr",
     "output_type": "stream",
     "text": [
      "/home/xli/.conda/envs/py3_lx/lib/python3.7/site-packages/IPython/core/interactiveshell.py:3156: DtypeWarning: Columns (0) have mixed types.Specify dtype option on import or set low_memory=False.\n",
      "  interactivity=interactivity, compiler=compiler, result=result)\n"
     ]
    }
   ],
   "source": [
    "PATH_interaction='/home/xli/Data/Haihui/CD8-HP/Analysis_Notebook/Summary_NONE_WT_na_DKO_na_WT_s_DKO_s_Dense_Matrix.txt'\n",
    "col_fore = 'WT_na'\n",
    "col_back  = 'DKO_na'\n",
    "resolution = int(10000)\n",
    "chunksize = 10 ** 7\n",
    "df_out = pd.DataFrame()\n",
    "for chunk in pd.read_csv(PATH_interaction, sep=\"\\t\", chunksize=chunksize):\n",
    "    df_tem = chunk[chunk['#chr']==10]\n",
    "    df_out = pd.concat([df_out, df_tem])\n",
    "df_out = df_out.fillna(0).replace(0,1)"
   ]
  },
  {
   "cell_type": "code",
   "execution_count": null,
   "id": "spare-sauce",
   "metadata": {},
   "outputs": [],
   "source": []
  },
  {
   "cell_type": "code",
   "execution_count": 58,
   "id": "precise-cincinnati",
   "metadata": {},
   "outputs": [
    {
     "name": "stderr",
     "output_type": "stream",
     "text": [
      "/home/xli/.conda/envs/py3_lx/lib/python3.7/site-packages/matplotlib/cbook/__init__.py:1402: FutureWarning: Support for multi-dimensional indexing (e.g. `obj[:, None]`) is deprecated and will be removed in a future version.  Convert to a numpy array before indexing instead.\n",
      "  x[:, None]\n",
      "/home/xli/.conda/envs/py3_lx/lib/python3.7/site-packages/matplotlib/axes/_base.py:276: FutureWarning: Support for multi-dimensional indexing (e.g. `obj[:, None]`) is deprecated and will be removed in a future version.  Convert to a numpy array before indexing instead.\n",
      "  x = x[:, np.newaxis]\n",
      "/home/xli/.conda/envs/py3_lx/lib/python3.7/site-packages/matplotlib/axes/_base.py:278: FutureWarning: Support for multi-dimensional indexing (e.g. `obj[:, None]`) is deprecated and will be removed in a future version.  Convert to a numpy array before indexing instead.\n",
      "  y = y[:, np.newaxis]\n"
     ]
    },
    {
     "data": {
      "image/png": "[encoded data removed]",
      "text/plain": [
       "<Figure size 432x432 with 1 Axes>"
      ]
     },
     "metadata": {
      "needs_background": "light"
     },
     "output_type": "display_data"
    }
   ],
   "source": [
    "def Scatter_df_plot (_df, _col1, _col2):\n",
    "    ## this is a similar approach as LOESS Normalization\n",
    "    df_test = _df\n",
    "    n_bins = 1000\n",
    "    df_test['A'] = 0.5*(np.log2(df_test[_col1]) + np.log2(df_test[_col2])).rank(method='first') ## A is the value for MA plot \n",
    "    \n",
    "    df_test['label'] = pd.qcut(df_test['A'].values, q=np.arange(0,1+1/n_bins, 1/n_bins),\n",
    "                               labels = np.arange(0,n_bins))#, duplicates='drop')\n",
    "    df_group = df_test.groupby('label')\n",
    "    df_out = pd.DataFrame()\n",
    "    df_line = []\n",
    "    for df_for_norm in df_group:\n",
    "        df_bbb = df_for_norm[1]\n",
    "        df_line.append([ 0.5*(np.log2(df_bbb[_col1]) + np.log2(df_bbb[_col2])).mean(),\n",
    "                         (np.log2(df_bbb[_col1])-np.log2(df_bbb[_col2])).mean()])\n",
    "        \n",
    "        df_out = df_out.append(df_bbb)\n",
    "        \n",
    "    df_test = df_out\n",
    "    M = np.log2(df_test[_col1])-np.log2(df_test[_col2])\n",
    "    A = 0.5*( np.log2(df_test[_col1]) + np.log2(df_test[_col2]))\n",
    "    fig = plt.figure(figsize = (6,6))\n",
    "    ax = fig.add_subplot(1,1,1) \n",
    "\n",
    "    plt.plot(A, M, 'ko', ms=2)\n",
    "    df_line = pd.DataFrame(data=df_line)\n",
    "    x = df_line[0]\n",
    "    y = df_line[1]\n",
    "    plt.plot(x, y, 'ro', ms=2)\n",
    "    plt.show() \n",
    "    \n",
    "    return None\n",
    "\n",
    "Scatter_df_plot(df_out, col_fore, col_back)"
   ]
  },
  {
   "cell_type": "code",
   "execution_count": 59,
   "id": "underlying-praise",
   "metadata": {},
   "outputs": [
    {
     "data": {
      "image/png": "[encoded data removed]",
      "text/plain": [
       "<Figure size 432x432 with 1 Axes>"
      ]
     },
     "metadata": {
      "needs_background": "light"
     },
     "output_type": "display_data"
    }
   ],
   "source": [
    "def LOESS_Norm_Scatter_plot (_df, _col1, _col2):\n",
    "    ## this is a similar approach as LOESS Normalization\n",
    "    df_test = _df\n",
    "    n_bins = 1000\n",
    "    df_test['A'] = 0.5*(np.log2(df_test[_col1]) + np.log2(df_test[_col2])).rank(method='first') ## A is the value for MA plot \n",
    "    \n",
    "    df_test['label'] = pd.qcut(df_test['A'].values, q=np.arange(0,1+1/n_bins, 1/n_bins),\n",
    "                               labels = np.arange(0,n_bins))#, duplicates='drop')\n",
    "    df_group = df_test.groupby('label')\n",
    "    df_out = pd.DataFrame()\n",
    "    df_line = []\n",
    "    for df_for_norm in df_group:\n",
    "        df_bbb = df_for_norm[1]\n",
    "        sum_1 = df_bbb[_col1].sum(axis=0)\n",
    "        sum_2 = df_bbb[_col2].sum(axis=0)\n",
    "        df_bbb[_col2] = round(df_bbb[_col2]/sum_2*sum_1, 2)\n",
    "        df_out = df_out.append(df_bbb)\n",
    "        df_line.append([ 0.5*(np.log2(df_bbb[_col1]) + np.log2(df_bbb[_col2])).mean(),\n",
    "                 (np.log2(df_bbb[_col1])-np.log2(df_bbb[_col2])).mean()])\n",
    "    \n",
    "    df_test = df_out\n",
    "    M = np.log2(df_test[_col1])-np.log2(df_test[_col2])\n",
    "    A = 0.5*( np.log2(df_test[_col1]) + np.log2(df_test[_col2]))\n",
    "    fig = plt.figure(figsize = (6,6))\n",
    "    ax = fig.add_subplot(1,1,1) \n",
    "\n",
    "    plt.plot(A, M, 'ko', ms=2)\n",
    "    df_line = pd.DataFrame(data=df_line)\n",
    "    x = df_line[0]\n",
    "    y = df_line[1]\n",
    "    plt.plot(x, y, 'ro', ms=2)\n",
    "    plt.show()   \n",
    "    \n",
    "    return None\n",
    "\n",
    "LOESS_Norm_Scatter_plot(df_out, col_fore, col_back)"
   ]
  },
  {
   "cell_type": "code",
   "execution_count": null,
   "id": "molecular-ballet",
   "metadata": {},
   "outputs": [],
   "source": []
  },
  {
   "cell_type": "markdown",
   "id": "destroyed-starter",
   "metadata": {},
   "source": [
    "## Differential Hub associated with Features"
   ]
  },
  {
   "cell_type": "code",
   "execution_count": 66,
   "id": "intermediate-afternoon",
   "metadata": {},
   "outputs": [],
   "source": [
    "# Data Analysis\n",
    "import numpy as np\n",
    "import pandas as pd\n",
    "import os\n",
    "from pybedtools import BedTool\n",
    "\n",
    "# Plot Package\n",
    "import matplotlib\n",
    "matplotlib.use('AGG')\n",
    "import matplotlib.pyplot as plt\n",
    "import seaborn as sns\n",
    "sns.set_style(\"white\") \n",
    "\n",
    "# display plots in this notebook\n",
    "%matplotlib inline\n",
    "from scipy import stats"
   ]
  },
  {
   "cell_type": "code",
   "execution_count": 89,
   "id": "german-citation",
   "metadata": {},
   "outputs": [],
   "source": [
    "def generate_All_Genes(Input_Path, number):\n",
    "#### READ FILE\n",
    "    df = pd.read_csv(Input_Path+'/gene_exp.diff', sep='\\t', header=0, usecols={'test_id',\\\n",
    "    'status','sample_1','sample_2','value_1','value_2','log2(fold_change)','p_value','q_value'})\n",
    "#### Rename columns\n",
    "    df=df.rename(columns={'test_id':'gene_id', 'value_1': df['sample_1'].unique()[0], 'value_2': df['sample_2'].unique()[0]})\n",
    "#### Output   \n",
    "    return df.loc[:,['gene_id',df['sample_1'].unique()[0],df['sample_2'].unique()[0],'log2(fold_change)',\n",
    "                     'p_value','q_value']].fillna('')\n",
    "\n",
    "def feature_associated_genes(gene_annotation_path, feature_path):\n",
    "    gene_annotation_Bed=BedTool(gene_annotation_path).sort()\n",
    "    features_Bed=BedTool(feature_path).sort()\n",
    "    \n",
    "    #########################################################################################\n",
    "    ## pre step remove the one overlap with DEGs promoter\n",
    "    #feature_DEGs_Promoter=BedTool('313_259_DEGs_Promoter_Regions_ext_1kb.bed')\n",
    "    #features_Bed = features_Bed.intersect(feature_DEGs_Promoter, u=True)\n",
    "    #########################################################################################\n",
    "    ### first association by overlap\n",
    "    features_associated_genes = features_Bed.intersect(gene_annotation_Bed, wa=True, wb=True)\n",
    "    df_all_group = pd.read_table(features_associated_genes.fn, header=None)\n",
    "    ### Second associate rest features by cloest\n",
    "    #features_no_overlap = features_Bed.intersect(gene_annotation_Bed,v=True)\n",
    "    #if (features_no_overlap.count()!=0):\n",
    "    #    features_closest_associated=features_no_overlap.closest(gene_annotation_Bed, t='all')\n",
    "    #    df_features_closest_associated=pd.read_table(features_closest_associated.fn, header=None)\n",
    "    #    df_all_group = df_all_group.append(df_features_closest_associated)\n",
    "    \n",
    "    return df_all_group\n",
    "\n",
    "def box_plot_for_haihui(all_data, y_axis_name):\n",
    "    ### Define Boxplot FrameSize\n",
    "    fig, ax = plt.subplots(nrows=1, ncols=1, figsize=(2.1+len(all_data)*1.2, 4.6))\n",
    "    x_rotation=-60\n",
    "    \n",
    "    plt.xticks(rotation=x_rotation)\n",
    "    \n",
    "    ax.boxplot( all_data, showfliers=False, widths=0.3,\n",
    "           boxprops=dict(linestyle='-', linewidth=1.5, color='black'), \n",
    "           whiskerprops = dict(linestyle='-', linewidth=1.5, color='black'),\n",
    "           capprops = dict(linestyle='-', linewidth=1.5, color='black'),\n",
    "           medianprops = dict(linestyle='-', linewidth=1.5, color='red'))\n",
    "    \n",
    "    ### Generate X ticks\n",
    "    xtiks = []\n",
    "    for i in range(len(all_data)):\n",
    "        xtiks.append(len(all_data[i]))\n",
    "        \n",
    "    plt.setp(ax, xticks=[y + 1 for y in range(len(all_data))], xticklabels=xtiks)\n",
    "\n",
    "\n",
    "\n",
    "    ### plot size\n",
    "    ax.spines[\"left\"].set_linewidth(1.5)\n",
    "    ax.spines[\"bottom\"].set_linewidth(1.5)\n",
    "    ax.xaxis.set_ticks_position(\"bottom\")\n",
    "    ax.xaxis.set_label_position(\"bottom\")\n",
    "    ax.yaxis.set_ticks_position(\"left\")\n",
    "    ax.yaxis.set_label_position(\"left\")\n",
    "    ax.tick_params(axis='x',which='major', direction='out', length=6, labelsize=18, width=1.5)\n",
    "    ax.tick_params(axis='x',which='minor', direction='out', length=6, labelsize=18, width=1.5)\n",
    "    ax.tick_params(axis='y',which='major', direction='out', length=6, labelsize=18, width=1.5)\n",
    "    ax.tick_params(axis='y',which='minor', direction='out', length=6, labelsize=18, width=1.5)\n",
    "\n",
    "    ax.set_ylabel(y_axis_name, fontsize = 16, fontname=\"Arial\")\n",
    "    ax.locator_params(nbins=5, axis='y')\n",
    "    ax.spines['right'].set_visible(False)\n",
    "    ax.spines['top'].set_visible(False)\n",
    "    return None"
   ]
  },
  {
   "cell_type": "code",
   "execution_count": null,
   "id": "former-greek",
   "metadata": {},
   "outputs": [],
   "source": []
  },
  {
   "cell_type": "markdown",
   "id": "considerable-honduras",
   "metadata": {},
   "source": [
    "## Figure24\n",
    "### A"
   ]
  },
  {
   "cell_type": "code",
   "execution_count": 98,
   "id": "accepting-pizza",
   "metadata": {},
   "outputs": [
    {
     "name": "stdout",
     "output_type": "stream",
     "text": [
      "P_value is: 1.2e-18\n"
     ]
    },
    {
     "name": "stderr",
     "output_type": "stream",
     "text": [
      "/home/xli/.conda/envs/py3_lx/lib/python3.7/site-packages/numpy/core/_asarray.py:102: VisibleDeprecationWarning: Creating an ndarray from ragged nested sequences (which is a list-or-tuple of lists-or-tuples-or ndarrays with different lengths or shapes) is deprecated. If you meant to do this, you must specify 'dtype=object' when creating the ndarray.\n",
      "  return array(a, dtype, copy=False, order=order)\n",
      "/home/xli/.conda/envs/py3_lx/lib/python3.7/site-packages/numpy/core/_methods.py:178: RuntimeWarning: invalid value encountered in reduce\n",
      "  ret = umr_sum(arr, axis, dtype, out, keepdims, where=where)\n"
     ]
    },
    {
     "data": {
      "image/png": "[encoded data removed]",
      "text/plain": [
       "<Figure size 324x331.2 with 1 Axes>"
      ]
     },
     "metadata": {
      "needs_background": "light"
     },
     "output_type": "display_data"
    }
   ],
   "source": [
    "## CD8 HP\n",
    "Feature_Path = '/home/xli/Data/Haihui/CD8-HP/Summary/' \n",
    "Path_Gene = Feature_Path+'gene_promoter_1k_iv_unique.bed'\n",
    "\n",
    "PATH_WT_Hub=Feature_Path+ '68_top_WT_na_regions.bed'\n",
    "PATH_DKO_Hub=Feature_Path+ '169_top_DKO_na_regions.bed'\n",
    "#df_enhancer = pd.read_csv(PATH_Enhancer,sep='\\t')\n",
    "\n",
    "further_cutoff = 20\n",
    "\n",
    "df_WT_SE = pd.read_csv(PATH_WT_Hub, sep='\\t')\n",
    "df_WT_SE['label']='WT'\n",
    "df_WT_SE = df_WT_SE[df_WT_SE['-log10(pvalue)']>further_cutoff]\n",
    "feature_WT_SE = BedTool.from_dataframe(df_WT_SE).sort()\n",
    "\n",
    "df_DKO_SE = pd.read_csv(PATH_DKO_Hub, sep='\\t')\n",
    "df_DKO_SE['label']='DKO'\n",
    "df_DKO_SE = df_DKO_SE[df_DKO_SE['-log10(pvalue)']>further_cutoff]\n",
    "feature_DKO_SE = BedTool.from_dataframe(df_DKO_SE).sort()\n",
    "\n",
    "\n",
    "def feature_associated_genes(gene_annotation_path, feature_path):\n",
    "    df_gene = pd.read_csv(gene_annotation_path, sep='\\t')\n",
    "    df_feature = pd.read_csv(feature_path, sep='\\t')\n",
    "    gene_annotation_Bed=BedTool.from_dataframe(df_gene).sort()\n",
    "    features_Bed=BedTool.from_dataframe(df_feature).sort()\n",
    "    features_associated_genes = features_Bed.intersect(gene_annotation_Bed, wa=True, wb=True)\n",
    "    df_all_group = pd.read_table(features_associated_genes.fn, header=None, names=(df_feature.columns).append(df_gene.columns+'_g'))\n",
    "\n",
    "    return df_all_group\n",
    "\n",
    "PATH_Expression = '/home/xli/Data/Haihui/CD8-HP/RNAseq/Cuffdiff_Results/DKO_0h_vs_WT_0h'\n",
    "df_gene_expression = generate_All_Genes(PATH_Expression,0)\n",
    "\n",
    "\n",
    "feature_path=PATH_WT_Hub\n",
    "df_feature_associated_genes_WT_specific=feature_associated_genes(Path_Gene, feature_path)\n",
    "feature_path=PATH_DKO_Hub\n",
    "df_feature_associated_genes_DKO_specific = feature_associated_genes(Path_Gene, feature_path)\n",
    "\n",
    "\n",
    "df_feature_associated_genes= df_feature_associated_genes_WT_specific.append(df_feature_associated_genes_DKO_specific).rename(columns={'reg1':'Diff_Hub', 6:'label'})\n",
    "df_feature_associated_genes = df_feature_associated_genes.merge(df_gene_expression, left_on='gene_id_g', right_on='gene_id', how='inner')\n",
    "\n",
    "\n",
    "df_feature_associated_genes['expression']= 'Null'\n",
    "#df_feature_associated_genes[10].apply(\n",
    "#    lambda x: 'up' if x in list(df_RPKM_up['gene_id']) else ( 'down' if x in list(df_RPKM_down['gene_id']) else 'Null'))\n",
    "#df_feature_associated_genes_with_genes=df_feature_associated_genes[df_feature_associated_genes['expression']!='Null'].sort_values(by=['expression','SuperEnhancer'], ascending=False)\n",
    "df_feature_associated_genes_with_genes = df_feature_associated_genes\n",
    "df_feature_associated_genes=df_feature_associated_genes.loc[:,['0','1','2','Diff_Hub', 'label', 'gene_id','log2(fold_change)' ]].drop_duplicates().sort_values(by =['log2(fold_change)','Diff_Hub'], ascending=[False,True]).reset_index().drop('index',axis=1)\n",
    "\n",
    "## \n",
    "pvalue = 1\n",
    "df_feature_associated_genes_with_genes = df_feature_associated_genes_with_genes[df_feature_associated_genes_with_genes['p_value']<=pvalue]\n",
    "df_group = df_feature_associated_genes_with_genes.groupby('Diff_Hub')\n",
    "#df_group = df_feature_associated_genes.groupby(3)\n",
    "\n",
    "\n",
    "df_plot = df_feature_associated_genes_with_genes#.head(2)\n",
    "#df_plot['log2(fold_change)'] = np.log2(df_plot['H1-hESC'].replace(0,0.1)/df_plot['HFFc6'].replace(0,0.1))\n",
    "all_data = [\n",
    "df_plot[df_plot['label']=='WT'].loc[:, 'log2(fold_change)'],\n",
    "df_plot[df_plot['label']=='DKO'].loc[:, 'log2(fold_change)']\n",
    "]\n",
    "\n",
    "y_axis_name = 'log2(fold_change)'\n",
    "box_plot_for_haihui(all_data, y_axis_name)\n",
    "\n",
    "pvalue=stats.mannwhitneyu(all_data[0], all_data[1], alternative='less')[1]\n",
    "print('P_value is: %.1e' % pvalue )\n",
    "\n",
    "#print (\"26 Genes: WT_Specific_Hub   44 Genes: DKO_Specific_Hub\")"
   ]
  },
  {
   "cell_type": "markdown",
   "id": "correct-detective",
   "metadata": {},
   "source": [
    "### Figure24.B"
   ]
  },
  {
   "cell_type": "code",
   "execution_count": 97,
   "id": "greatest-lending",
   "metadata": {},
   "outputs": [
    {
     "name": "stdout",
     "output_type": "stream",
     "text": [
      "WT\n",
      "DKO\n"
     ]
    },
    {
     "data": {
      "image/png": "[encoded data removed]",
      "text/plain": [
       "<Figure size 1080x432 with 2 Axes>"
      ]
     },
     "metadata": {
      "needs_background": "light"
     },
     "output_type": "display_data"
    }
   ],
   "source": [
    "## CD8 Associated Genes\n",
    "\n",
    "Feature_Path = '/home/xli/Data/Haihui/CD8-HP/Summary/' \n",
    "Path_Gene = Feature_Path+'gene_promoter_1k_iv_unique.bed'\n",
    "PATH_WT_Hub=Feature_Path+ '68_top_WT_na_regions.bed'\n",
    "PATH_DKO_Hub=Feature_Path+ '169_top_DKO_na_regions.bed'\n",
    "df_RB = pd.read_csv(PATH_WT_Hub, sep='\\t')\n",
    "df_RB['label']='WT'\n",
    "df_AB = pd.read_csv(PATH_DKO_Hub, sep='\\t')\n",
    "df_AB['label']='DKO'\n",
    "\n",
    "Input_Path = '/home/xli/Data/Haihui/CD8-HP/RNAseq/Cuffdiff_Results/DKO_0h_vs_WT_0h/'\n",
    "df_expression = generate_All_Genes(Input_Path, 0)\n",
    "df_expression['log2(fold_change)'] = np.log2(df_expression['DKO_0h'].replace(0,0.1)/df_expression['WT_0h'].replace(0,0.1))\n",
    "#df_expression = df_expression[df_expression.loc[:, 'p_value']<0.05]\n",
    "\n",
    "#df_expression = df_expression[(df_expression['log2(fold_change)']>1)|(df_expression['log2(fold_change)']<-1)]\n",
    "df_enhancer = pd.read_csv(Path_Gene,sep='\\t').merge(df_expression.loc[:, ['gene_id','log2(fold_change)']], on='gene_id', how='inner')\n",
    "\n",
    "Feature_Enhancer = BedTool.from_dataframe(df_enhancer).sort()\n",
    "\n",
    "\n",
    "\n",
    "df_feature_associated_genes_WT_specific=feature_associated_genes(PATH_WT_Hub, Path_Gene)\n",
    "df_feature_associated_genes_WT_specific['label']='WT'\n",
    "df_feature_associated_genes_DKO_specific = feature_associated_genes(PATH_DKO_Hub, Path_Gene)\n",
    "df_feature_associated_genes_DKO_specific['label']='DKO'\n",
    "df_feature_associated_genes= df_feature_associated_genes_WT_specific.append(df_feature_associated_genes_DKO_specific)\n",
    "df_feature_associated_genes = df_feature_associated_genes.merge(df_expression.loc[:, ['gene_id','log2(fold_change)']], on='gene_id', how='inner')\n",
    "\n",
    "col_for_regions = 'reg1_g'\n",
    "col_for_plot = 'log2(fold_change)'#'log2_FC'\n",
    "df_group = df_feature_associated_genes.groupby(col_for_regions)\n",
    "\n",
    "\n",
    "### version 1\n",
    "target_SE = df_feature_associated_genes[col_for_regions].unique()\n",
    "i=0\n",
    "\n",
    "#Plot_id_Set={'DKO_SE': df_DKO_SE.sort_values('logFC').GeneID.values} \n",
    "Plot_id_Set={'WT': df_RB.sort_values('-log10(pvalue)').reg1.values, 'DKO': df_AB.sort_values('-log10(pvalue)').reg1.values} #\n",
    "\n",
    "fig, ax = plt.subplots(nrows=1, ncols=1, figsize=(15,6))\n",
    "\n",
    "#df_gene_expression_tem.sort_values('log2(fold_change)')['gene_id']\n",
    "\n",
    "for gene_set_name in Plot_id_Set.keys():\n",
    "    print (gene_set_name)\n",
    "    for group_name in Plot_id_Set[gene_set_name]:\n",
    "        #print (group_name)\n",
    "        if(group_name not in target_SE):\n",
    "            continue\n",
    "        else:\n",
    "            group_item=df_group.get_group(group_name)\n",
    "            sort_col = col_for_regions\n",
    "            if (gene_set_name=='WT'):\n",
    "                group_item=group_item.sort_values(col_for_plot, ascending=False)\n",
    "                y_coordinate=-np.arange(len(group_item[sort_col]))/20\n",
    "                x_coordinate=np.zeros(len(group_item[sort_col]))\n",
    "            else:\n",
    "                group_item=group_item.sort_values(col_for_plot, ascending=True)\n",
    "                y_coordinate=np.arange(len(group_item[sort_col]))/20\n",
    "                x_coordinate=np.zeros(len(group_item[sort_col]))+10\n",
    "                \n",
    "            SE_fc = 0#group_item[sort_col].values[0]\n",
    "            im = ax.scatter(x_coordinate+i, y_coordinate+SE_fc, c=group_item[col_for_plot],\n",
    "                        vmin=-3,vmax=3,s=20, cmap='RdBu_r', marker='>')\n",
    "            i+=1\n",
    "    #ax.set_title(str(len(Plot_id_Set[gene_set_name]))+'_'+ gene_set_name, fontsize=12)#, color='r')   \n",
    "#ax.plot(np.arange(i),np.zeros(i), '--', linewidth=1)\n",
    "ax.set_ylabel('Stack Heatmap', fontsize='18')\n",
    "#ax.legend([im], ['Genes'], scatterpoints=1,loc=0, fontsize=14)\n",
    "fig.colorbar(im,ax=ax)\n",
    "\n",
    "\n",
    "ax.tick_params(axis = 'both', which = 'major', labelsize = 18)\n",
    "\n",
    "ax.tick_params(axis='both',which='minor', direction='in', length=4)\n",
    "ax.tick_params(axis='both',which='major', direction='inout', length=10)\n",
    "    ### plot size\n",
    "ax.spines[\"left\"].set_linewidth(1.5)\n",
    "ax.spines[\"bottom\"].set_linewidth(1.5)\n",
    "ax.xaxis.set_ticks_position(\"bottom\")\n",
    "ax.xaxis.set_label_position(\"bottom\")\n",
    "ax.yaxis.set_ticks_position(\"left\")\n",
    "ax.yaxis.set_label_position(\"left\")\n",
    "\n",
    "ax.tick_params(axis='x',which='major', direction='out', length=6, labelsize=0, width=1.5)\n",
    "ax.tick_params(axis='x',which='minor', direction='out', length=6, labelsize=0, width=1.5)\n",
    "ax.tick_params(axis='y',which='major', direction='out', length=6, labelsize=0, width=1.5)\n",
    "ax.tick_params(axis='y',which='minor', direction='out', length=6, labelsize=0, width=1.5)\n"
   ]
  }
 ],
 "metadata": {
  "kernelspec": {
   "display_name": "Python 3",
   "language": "python",
   "name": "python3"
  },
  "language_info": {
   "codemirror_mode": {
    "name": "ipython",
    "version": 3
   },
   "file_extension": ".py",
   "mimetype": "text/x-python",
   "name": "python",
   "nbconvert_exporter": "python",
   "pygments_lexer": "ipython3",
   "version": "3.7.3"
  }
 },
 "nbformat": 4,
 "nbformat_minor": 5
}
