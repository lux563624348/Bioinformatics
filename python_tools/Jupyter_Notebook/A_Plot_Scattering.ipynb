{
 "cells": [
  {
   "cell_type": "code",
   "execution_count": null,
   "metadata": {},
   "outputs": [],
   "source": [
    "import pandas as pd\n",
    "import os\n",
    "import straw\n",
    "import numpy as np\n",
    "import glob\n",
    "from pybedtools import BedTool"
   ]
  },
  {
   "cell_type": "code",
   "execution_count": null,
   "metadata": {},
   "outputs": [],
   "source": [
    "import matplotlib\n",
    "matplotlib.use('AGG')\n",
    "import matplotlib.pyplot as plt\n",
    "import seaborn as sns\n",
    "sns.set_style(\"white\") \n",
    "\n",
    "# display plots in this notebook\n",
    "%matplotlib inline"
   ]
  },
  {
   "cell_type": "code",
   "execution_count": null,
   "metadata": {},
   "outputs": [],
   "source": [
    "def hexbin_with_density(df, highlight_name, title_name, density_scale, drop_top_outlier):\n",
    "    ### drop outlier\n",
    "    df = df.drop(df.iloc[:,0].nlargest(n=drop_top_outlier,keep='first').index)\n",
    "    \n",
    "    \n",
    "    range_limit=df.max().max()\n",
    "    fig, ax = plt.subplots(nrows=1, ncols=1, figsize=(12, 9), sharex=False, sharey=False)\n",
    "    \n",
    "    if density_scale == 'log':\n",
    "        hb = ax.hexbin(df.iloc[:,[0]], df.iloc[:,[1]], gridsize=(100,100), cmap=plt.cm.jet,\n",
    "                   bins='log',mincnt=1,alpha=2, edgecolors='face')\n",
    "        cb = fig.colorbar(hb,ax=ax)\n",
    "        cb.set_label('Log$_{10}$(1+Counts)', fontsize=18)\n",
    "    else:\n",
    "        hb = ax.hexbin(df.iloc[:,[0]], df.iloc[:,[1]], gridsize=(100,100), cmap=plt.cm.jet,\n",
    "                   mincnt=1,alpha=2, edgecolors='face')\n",
    "        cb = fig.colorbar(hb,ax=ax)\n",
    "        cb.set_label('Counts', fontsize=18)\n",
    "\n",
    "    ###  highlight a point\n",
    "    if len(highlight_name) >= 1:\n",
    "        for highlight_index in highlight_name[:]:\n",
    "            ax.scatter(df[df.index == highlight_index].iloc[:,[0]],\n",
    "                        df[df.index == highlight_index].iloc[:,[1]],\n",
    "                        alpha=1.0,s=50,color='red', label=highlight_index,edgecolor='red')\n",
    "            ax.text(df[df.index == highlight_index].iloc[:,0]-range_limit/20.0,\n",
    "                      df[df.index == highlight_index].iloc[:,1]+range_limit/25.0, highlight_index, fontsize=16, color='r')\n",
    "\n",
    "\n",
    "    ax.yaxis.grid(False)\n",
    "    ax.set_ylim(-0.1*range_limit,range_limit+0.1*range_limit)\n",
    "    ax.set_xlim(-0.1*range_limit,range_limit+0.1*range_limit)\n",
    "    ax.set_xlabel(str(df.columns[0]), fontsize=18)\n",
    "    ax.set_ylabel(str(df.columns[1]), fontsize=18)\n",
    "    ax.plot([-0.1*range_limit,range_limit+0.1*range_limit], [-0.1*range_limit, range_limit+0.1*range_limit], ls=\"--\", c=\"gray\")\n",
    "    ax.set_title(str(len(df))+ ': '+ title_name , fontsize=18)\n",
    "    return 0"
   ]
  },
  {
   "cell_type": "code",
   "execution_count": null,
   "metadata": {},
   "outputs": [],
   "source": [
    "aa = hexbin_with_density(df_plot, '', 'Top_10K_Loops_in_WT_16_19: ' + str(\"{:.3f}\".format(df_plot.corr().iloc[0,1])), 'log',0) #_scale=log$_2$(1+RPKM)"
   ]
  }
 ],
 "metadata": {
  "kernelspec": {
   "display_name": "Python 3",
   "language": "python",
   "name": "python3"
  },
  "language_info": {
   "codemirror_mode": {
    "name": "ipython",
    "version": 3
   },
   "file_extension": ".py",
   "mimetype": "text/x-python",
   "name": "python",
   "nbconvert_exporter": "python",
   "pygments_lexer": "ipython3",
   "version": "3.7.3"
  }
 },
 "nbformat": 4,
 "nbformat_minor": 2
}
