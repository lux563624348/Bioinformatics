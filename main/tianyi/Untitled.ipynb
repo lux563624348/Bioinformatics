{
 "cells": [
  {
   "cell_type": "code",
   "execution_count": 1,
   "metadata": {
    "collapsed": true
   },
   "outputs": [],
   "source": [
    "import numpy as np\n",
    "import pandas as pd\n",
    "import scipy.stats"
   ]
  },
  {
   "cell_type": "code",
   "execution_count": 2,
   "metadata": {
    "collapsed": false
   },
   "outputs": [
    {
     "name": "stderr",
     "output_type": "stream",
     "text": [
      "/Library/Python/2.7/site-packages/matplotlib/__init__.py:913: UserWarning: axes.color_cycle is deprecated and replaced with axes.prop_cycle; please use the latter.\n",
      "  warnings.warn(self.msg_depr % (key, alt_key))\n"
     ]
    }
   ],
   "source": [
    "import matplotlib\n",
    "matplotlib.use('AGG')\n",
    "import matplotlib.pyplot as plt\n",
    "import seaborn as sns\n",
    "sns.set_style(\"white\")\n",
    "\n",
    "# display plots in this notebook\n",
    "%matplotlib inline"
   ]
  },
  {
   "cell_type": "markdown",
   "metadata": {},
   "source": [
    "df.filter(regex='Unnamed').columns\n",
    "df[filter(lambda col: col not in df.filter(regex='Unnamed').columns, df.columns)].to_csv('all_gene_summary.tsv', index=None, sep='\\t')"
   ]
  },
  {
   "cell_type": "code",
   "execution_count": 3,
   "metadata": {
    "collapsed": false
   },
   "outputs": [],
   "source": [
    "df = pd.read_csv('all_gene_summary.tsv', header=0, sep='\\t')"
   ]
  },
  {
   "cell_type": "code",
   "execution_count": 4,
   "metadata": {
    "collapsed": false
   },
   "outputs": [],
   "source": [
    "df['CER_RPKM_fc'] = df['Active_CD4_gene_CER_RPKM'] / df['Rest_CD4_gene_CER_RPKM']\n",
    "df['diff_gene_IRI'] = df['Active_CD4_gene_IRI'] - df['Rest_CD4_gene_IRI']\n",
    "df['gene_IRI_fc'] = df['Active_CD4_gene_IRI'] / df['Rest_CD4_gene_IRI']\n",
    "df['polII_RPKM_fc'] = df['Active_CD4_polII_RPKM'] / df['Rest_CD4_polII_RPKM']"
   ]
  },
  {
   "cell_type": "code",
   "execution_count": 13,
   "metadata": {
    "collapsed": true
   },
   "outputs": [],
   "source": [
    "expression_fc = 1.5\n",
    "polII_fc = 1.5\n",
    "IRI_diff = 0.1\n",
    "beta1_diff = 0.5"
   ]
  },
  {
   "cell_type": "markdown",
   "metadata": {},
   "source": [
    "## expression increase: beta1 decrease"
   ]
  },
  {
   "cell_type": "markdown",
   "metadata": {},
   "source": [
    "### beta1 change"
   ]
  },
  {
   "cell_type": "code",
   "execution_count": 75,
   "metadata": {
    "collapsed": false
   },
   "outputs": [
    {
     "data": {
      "text/plain": [
       "(362, 30)"
      ]
     },
     "execution_count": 75,
     "metadata": {},
     "output_type": "execute_result"
    }
   ],
   "source": [
    "df[(df.CER_RPKM_fc >= expression_fc) & (abs(df.diff_gene_IRI) <= IRI_diff) & (df.polII_RPKM_fc <= polII_fc) & (df.polII_RPKM_fc >= 1.0 / polII_fc) & (abs(df.diff_beta1) >= beta1_diff)].shape"
   ]
  },
  {
   "cell_type": "markdown",
   "metadata": {},
   "source": [
    "### beta1 increase (should be few)"
   ]
  },
  {
   "cell_type": "code",
   "execution_count": 77,
   "metadata": {
    "collapsed": false
   },
   "outputs": [],
   "source": [
    "df[(df.CER_RPKM_fc >= expression_fc) & (abs(df.diff_gene_IRI) <= IRI_diff) & (df.polII_RPKM_fc <= polII_fc) & (df.polII_RPKM_fc >= 1.0 / polII_fc) & (df.diff_beta1 >= beta1_diff)].to_csv('expression_up_IRI_and_polII_unchange_beta1_increase_gene_summary.tsv', index=None, sep='\\t')"
   ]
  },
  {
   "cell_type": "markdown",
   "metadata": {},
   "source": [
    "### beta1 decrease"
   ]
  },
  {
   "cell_type": "code",
   "execution_count": 11,
   "metadata": {
    "collapsed": false
   },
   "outputs": [
    {
     "name": "stdout",
     "output_type": "stream",
     "text": [
      "(288, 30)\n"
     ]
    }
   ],
   "source": [
    "print df[(df.CER_RPKM_fc >= expression_fc) & (abs(df.diff_gene_IRI) <= IRI_diff) & (df.polII_RPKM_fc <= polII_fc) & (df.polII_RPKM_fc >= 1.0 / polII_fc) & (df.diff_beta1 <= -beta1_diff)].shape\n",
    "df[(df.CER_RPKM_fc >= expression_fc) & (abs(df.diff_gene_IRI) <= IRI_diff) & (df.polII_RPKM_fc <= polII_fc) & (df.polII_RPKM_fc >= 1.0 / polII_fc) & (df.diff_beta1 <= -beta1_diff)].to_csv('expression_up_IRI_and_polII_unchange_beta1_decrease_gene_summary.tsv', index=None, sep='\\t')"
   ]
  },
  {
   "cell_type": "markdown",
   "metadata": {
    "collapsed": true
   },
   "source": [
    "## expression increase: IRI decrease + beta1 decrease"
   ]
  },
  {
   "cell_type": "code",
   "execution_count": 12,
   "metadata": {
    "collapsed": false
   },
   "outputs": [
    {
     "data": {
      "text/plain": [
       "(118, 30)"
      ]
     },
     "execution_count": 12,
     "metadata": {},
     "output_type": "execute_result"
    }
   ],
   "source": [
    "df[(df.CER_RPKM_fc >= expression_fc) & (df.diff_gene_IRI <= -IRI_diff) & (df.polII_RPKM_fc <= polII_fc) & (df.polII_RPKM_fc >= 1.0 / polII_fc) & (df.diff_beta1 <= -beta1_diff)].shape"
   ]
  },
  {
   "cell_type": "code",
   "execution_count": 6,
   "metadata": {
    "collapsed": false
   },
   "outputs": [
    {
     "ename": "NameError",
     "evalue": "name 'IR_diff' is not defined",
     "output_type": "error",
     "traceback": [
      "\u001b[0;31m---------------------------------------------------------------------------\u001b[0m",
      "\u001b[0;31mNameError\u001b[0m                                 Traceback (most recent call last)",
      "\u001b[0;32m<ipython-input-6-48eff9665165>\u001b[0m in \u001b[0;36m<module>\u001b[0;34m()\u001b[0m\n\u001b[0;32m----> 1\u001b[0;31m \u001b[0mdf\u001b[0m\u001b[0;34m[\u001b[0m\u001b[0;34m(\u001b[0m\u001b[0mdf\u001b[0m\u001b[0;34m.\u001b[0m\u001b[0mCER_RPKM_fc\u001b[0m \u001b[0;34m>=\u001b[0m \u001b[0mexpression_fc\u001b[0m\u001b[0;34m)\u001b[0m \u001b[0;34m&\u001b[0m \u001b[0;34m(\u001b[0m\u001b[0mdf\u001b[0m\u001b[0;34m.\u001b[0m\u001b[0mdiff_gene_IRI\u001b[0m \u001b[0;34m<=\u001b[0m \u001b[0;34m-\u001b[0m\u001b[0mIR_diff\u001b[0m\u001b[0;34m)\u001b[0m \u001b[0;34m&\u001b[0m \u001b[0;34m(\u001b[0m\u001b[0mdf\u001b[0m\u001b[0;34m.\u001b[0m\u001b[0mpolII_RPKM_fc\u001b[0m \u001b[0;34m<=\u001b[0m \u001b[0mpolII_fc\u001b[0m\u001b[0;34m)\u001b[0m \u001b[0;34m&\u001b[0m \u001b[0;34m(\u001b[0m\u001b[0mdf\u001b[0m\u001b[0;34m.\u001b[0m\u001b[0mpolII_RPKM_fc\u001b[0m \u001b[0;34m>=\u001b[0m \u001b[0;36m1.0\u001b[0m \u001b[0;34m/\u001b[0m \u001b[0mpolII_fc\u001b[0m\u001b[0;34m)\u001b[0m \u001b[0;34m&\u001b[0m \u001b[0;34m(\u001b[0m\u001b[0mdf\u001b[0m\u001b[0;34m.\u001b[0m\u001b[0mdiff_beta1\u001b[0m \u001b[0;34m<=\u001b[0m \u001b[0;34m-\u001b[0m\u001b[0mbeta1_diff\u001b[0m\u001b[0;34m)\u001b[0m\u001b[0;34m]\u001b[0m\u001b[0;34m.\u001b[0m\u001b[0mto_csv\u001b[0m\u001b[0;34m(\u001b[0m\u001b[0;34m'expression_up_IRI_and_polII_unchange_beta1_decrease_gene_summary.tsv'\u001b[0m\u001b[0;34m,\u001b[0m \u001b[0mindex\u001b[0m\u001b[0;34m=\u001b[0m\u001b[0mNone\u001b[0m\u001b[0;34m,\u001b[0m \u001b[0msep\u001b[0m\u001b[0;34m=\u001b[0m\u001b[0;34m'\\t'\u001b[0m\u001b[0;34m)\u001b[0m\u001b[0;34m\u001b[0m\u001b[0m\n\u001b[0m",
      "\u001b[0;31mNameError\u001b[0m: name 'IR_diff' is not defined"
     ]
    }
   ],
   "source": [
    "df[(df.CER_RPKM_fc >= expression_fc) & (df.diff_gene_IRI <= -IR_diff) & (df.polII_RPKM_fc <= polII_fc) & (df.polII_RPKM_fc >= 1.0 / polII_fc) & (df.diff_beta1 <= -beta1_diff)].to_csv('expression_up_IRI_and_polII_unchange_beta1_decrease_gene_summary.tsv', index=None, sep='\\t')"
   ]
  },
  {
   "cell_type": "markdown",
   "metadata": {},
   "source": [
    "## correlation between IRI diff and beta1 diff"
   ]
  },
  {
   "cell_type": "code",
   "execution_count": 22,
   "metadata": {
    "collapsed": false
   },
   "outputs": [],
   "source": [
    "boxplot_df = df.loc[:,['diff_gene_IRI', 'diff_beta1']].replace({np.inf: np.nan, -np.inf: np.nan}).dropna().sort_values(by='diff_gene_IRI')\n",
    "num_bins = 5\n",
    "boxplot_df['diff_gene_IRI_group'] = reduce(lambda x, (i,y): x + [i]*len(y), enumerate(np.array_split(range(boxplot_df.shape[0]), num_bins)), [])"
   ]
  },
  {
   "cell_type": "code",
   "execution_count": 23,
   "metadata": {
    "collapsed": false
   },
   "outputs": [
    {
     "name": "stdout",
     "output_type": "stream",
     "text": [
      "diff_gene_IRI_group\n",
      "0   -0.285816\n",
      "1   -0.189006\n",
      "2   -0.175135\n",
      "3   -0.100944\n",
      "4   -0.057404\n",
      "Name: diff_beta1, dtype: float64\n",
      "diff_gene_IRI_group\n",
      "0   -0.342812\n",
      "1   -0.279510\n",
      "2   -0.265443\n",
      "3   -0.216212\n",
      "4   -0.163123\n",
      "Name: diff_beta1, dtype: float64\n"
     ]
    }
   ],
   "source": [
    "print boxplot_df.groupby('diff_gene_IRI_group')['diff_beta1'].median()\n",
    "print boxplot_df.groupby('diff_gene_IRI_group')['diff_beta1'].mean()"
   ]
  },
  {
   "cell_type": "code",
   "execution_count": 25,
   "metadata": {
    "collapsed": false
   },
   "outputs": [
    {
     "data": {
      "text/plain": [
       "(-2, 2)"
      ]
     },
     "execution_count": 25,
     "metadata": {},
     "output_type": "execute_result"
    },
    {
     "data": {
      "image/png": "[encoded data removed]",
      "text/plain": [
       "<matplotlib.figure.Figure at 0x116c26f90>"
      ]
     },
     "metadata": {},
     "output_type": "display_data"
    }
   ],
   "source": [
    "sns.boxplot(x='diff_gene_IRI_group', y='diff_beta1', data=boxplot_df)\n",
    "plt.ylim([-2,2])"
   ]
  },
  {
   "cell_type": "code",
   "execution_count": 10,
   "metadata": {
    "collapsed": true
   },
   "outputs": [],
   "source": [
    "boxplot_df = df.loc[:,['diff_gene_IRI', 'diff_beta1']].replace({np.inf: np.nan, -np.inf: np.nan}).dropna().sort_values(by='diff_beta1')\n",
    "num_bins = 5\n",
    "boxplot_df['diff_beta1_group'] = reduce(lambda x, (i,y): x + [i]*len(y), enumerate(np.array_split(range(boxplot_df.shape[0]), num_bins)), [])"
   ]
  },
  {
   "cell_type": "code",
   "execution_count": 11,
   "metadata": {
    "collapsed": false
   },
   "outputs": [
    {
     "name": "stdout",
     "output_type": "stream",
     "text": [
      "diff_beta1_group\n",
      "0   -0.021039\n",
      "1   -0.018314\n",
      "2   -0.014623\n",
      "3   -0.012540\n",
      "4   -0.011393\n",
      "Name: diff_gene_IRI, dtype: float64\n",
      "diff_beta1_group\n",
      "0   -0.037574\n",
      "1   -0.038132\n",
      "2   -0.028042\n",
      "3   -0.024827\n",
      "4   -0.018413\n",
      "Name: diff_gene_IRI, dtype: float64\n"
     ]
    }
   ],
   "source": [
    "print boxplot_df.groupby('diff_beta1_group')['diff_gene_IRI'].median()\n",
    "print boxplot_df.groupby('diff_beta1_group')['diff_gene_IRI'].mean()"
   ]
  },
  {
   "cell_type": "code",
   "execution_count": 12,
   "metadata": {
    "collapsed": false
   },
   "outputs": [
    {
     "data": {
      "text/plain": [
       "(-0.3, 0.3)"
      ]
     },
     "execution_count": 12,
     "metadata": {},
     "output_type": "execute_result"
    },
    {
     "data": {
      "image/png": "[encoded data removed]",
      "text/plain": [
       "<matplotlib.figure.Figure at 0x11490c950>"
      ]
     },
     "metadata": {},
     "output_type": "display_data"
    }
   ],
   "source": [
    "sns.boxplot(x='diff_beta1_group', y='diff_gene_IRI', data=boxplot_df)\n",
    "plt.ylim([-0.3,0.3])"
   ]
  },
  {
   "cell_type": "code",
   "execution_count": 13,
   "metadata": {
    "collapsed": false
   },
   "outputs": [
    {
     "data": {
      "text/plain": [
       "(0.032944993989615409, 0.0035826795373274851)"
      ]
     },
     "execution_count": 13,
     "metadata": {},
     "output_type": "execute_result"
    }
   ],
   "source": [
    "scipy.stats.pearsonr(boxplot_df.iloc[:,0], boxplot_df.iloc[:,1])"
   ]
  },
  {
   "cell_type": "code",
   "execution_count": 14,
   "metadata": {
    "collapsed": false
   },
   "outputs": [
    {
     "data": {
      "text/plain": [
       "SpearmanrResult(correlation=0.1454660090351852, pvalue=3.1980638430316341e-38)"
      ]
     },
     "execution_count": 14,
     "metadata": {},
     "output_type": "execute_result"
    }
   ],
   "source": [
    "scipy.stats.spearmanr(boxplot_df.iloc[:,0], boxplot_df.iloc[:,1])"
   ]
  },
  {
   "cell_type": "markdown",
   "metadata": {},
   "source": [
    "## correlation between IRI fc and beta1 diff"
   ]
  },
  {
   "cell_type": "code",
   "execution_count": 15,
   "metadata": {
    "collapsed": true
   },
   "outputs": [],
   "source": [
    "boxplot_df = df.loc[:,['gene_IRI_fc', 'diff_beta1']].replace({np.inf: np.nan, -np.inf: np.nan}).dropna().sort_values(by='gene_IRI_fc')\n",
    "num_bins = 5\n",
    "boxplot_df['gene_IRI_fc_group'] = reduce(lambda x, (i,y): x + [i]*len(y), enumerate(np.array_split(range(boxplot_df.shape[0]), num_bins)), [])"
   ]
  },
  {
   "cell_type": "code",
   "execution_count": 16,
   "metadata": {
    "collapsed": false
   },
   "outputs": [
    {
     "name": "stdout",
     "output_type": "stream",
     "text": [
      "gene_IRI_fc_group\n",
      "0   -0.382235\n",
      "1   -0.234223\n",
      "2   -0.125208\n",
      "3   -0.038988\n",
      "4   -0.039461\n",
      "Name: diff_beta1, dtype: float64\n",
      "gene_IRI_fc_group\n",
      "0   -0.418185\n",
      "1   -0.306775\n",
      "2   -0.221621\n",
      "3   -0.167635\n",
      "4   -0.154217\n",
      "Name: diff_beta1, dtype: float64\n"
     ]
    }
   ],
   "source": [
    "print boxplot_df.groupby('gene_IRI_fc_group')['diff_beta1'].median()\n",
    "print boxplot_df.groupby('gene_IRI_fc_group')['diff_beta1'].mean()"
   ]
  },
  {
   "cell_type": "code",
   "execution_count": 18,
   "metadata": {
    "collapsed": false
   },
   "outputs": [
    {
     "data": {
      "text/plain": [
       "(-2, 2)"
      ]
     },
     "execution_count": 18,
     "metadata": {},
     "output_type": "execute_result"
    },
    {
     "data": {
      "image/png": "[encoded data removed]",
      "text/plain": [
       "<matplotlib.figure.Figure at 0x115b10c50>"
      ]
     },
     "metadata": {},
     "output_type": "display_data"
    }
   ],
   "source": [
    "sns.boxplot(x='gene_IRI_fc_group', y='diff_beta1', data=boxplot_df)\n",
    "plt.ylim([-2,2])"
   ]
  },
  {
   "cell_type": "code",
   "execution_count": 19,
   "metadata": {
    "collapsed": false
   },
   "outputs": [
    {
     "data": {
      "text/plain": [
       "(0.015957649897260735, 0.16201706473297101)"
      ]
     },
     "execution_count": 19,
     "metadata": {},
     "output_type": "execute_result"
    }
   ],
   "source": [
    "scipy.stats.pearsonr(boxplot_df.iloc[:,0], boxplot_df.iloc[:,1])"
   ]
  },
  {
   "cell_type": "code",
   "execution_count": 20,
   "metadata": {
    "collapsed": false
   },
   "outputs": [
    {
     "data": {
      "text/plain": [
       "SpearmanrResult(correlation=0.23351453692921637, pvalue=1.2689131475453988e-95)"
      ]
     },
     "execution_count": 20,
     "metadata": {},
     "output_type": "execute_result"
    }
   ],
   "source": [
    "scipy.stats.spearmanr(boxplot_df.iloc[:,0], boxplot_df.iloc[:,1])"
   ]
  },
  {
   "cell_type": "code",
   "execution_count": 5,
   "metadata": {
    "collapsed": true
   },
   "outputs": [],
   "source": [
    "boxplot_df = df.loc[:,['gene_IRI_fc', 'diff_beta1']].replace({np.inf: np.nan, -np.inf: np.nan}).dropna().sort_values(by='diff_beta1')\n",
    "num_bins = 5\n",
    "boxplot_df['diff_beta1_group'] = reduce(lambda x, (i,y): x + [i]*len(y), enumerate(np.array_split(range(boxplot_df.shape[0]), num_bins)), [])"
   ]
  },
  {
   "cell_type": "code",
   "execution_count": 6,
   "metadata": {
    "collapsed": false
   },
   "outputs": [
    {
     "name": "stdout",
     "output_type": "stream",
     "text": [
      "diff_beta1_group\n",
      "0    0.266020\n",
      "1    0.314376\n",
      "2    0.365310\n",
      "3    0.426295\n",
      "4    0.470288\n",
      "Name: gene_IRI_fc, dtype: float64\n",
      "diff_beta1_group\n",
      "0    0.774902\n",
      "1    0.559555\n",
      "2    0.611990\n",
      "3    1.111444\n",
      "4    0.986853\n",
      "Name: gene_IRI_fc, dtype: float64\n"
     ]
    }
   ],
   "source": [
    "print boxplot_df.groupby('diff_beta1_group')['gene_IRI_fc'].median()\n",
    "print boxplot_df.groupby('diff_beta1_group')['gene_IRI_fc'].mean()"
   ]
  },
  {
   "cell_type": "code",
   "execution_count": 7,
   "metadata": {
    "collapsed": false
   },
   "outputs": [
    {
     "name": "stderr",
     "output_type": "stream",
     "text": [
      "/Library/Python/2.7/site-packages/matplotlib/__init__.py:898: UserWarning: axes.color_cycle is deprecated and replaced with axes.prop_cycle; please use the latter.\n",
      "  warnings.warn(self.msg_depr % (key, alt_key))\n"
     ]
    },
    {
     "data": {
      "text/plain": [
       "(0, 2)"
      ]
     },
     "execution_count": 7,
     "metadata": {},
     "output_type": "execute_result"
    },
    {
     "data": {
      "image/png": "[encoded data removed]",
      "text/plain": [
       "<matplotlib.figure.Figure at 0x115b10a10>"
      ]
     },
     "metadata": {},
     "output_type": "display_data"
    }
   ],
   "source": [
    "sns.boxplot(x='diff_beta1_group', y='gene_IRI_fc', data=boxplot_df)\n",
    "plt.ylim([0,2])"
   ]
  },
  {
   "cell_type": "code",
   "execution_count": 8,
   "metadata": {
    "collapsed": false
   },
   "outputs": [
    {
     "data": {
      "text/plain": [
       "(0.015957649897260735, 0.16201706473297101)"
      ]
     },
     "execution_count": 8,
     "metadata": {},
     "output_type": "execute_result"
    }
   ],
   "source": [
    "scipy.stats.pearsonr(boxplot_df.iloc[:,0], boxplot_df.iloc[:,1])"
   ]
  },
  {
   "cell_type": "code",
   "execution_count": 9,
   "metadata": {
    "collapsed": false
   },
   "outputs": [
    {
     "data": {
      "text/plain": [
       "SpearmanrResult(correlation=0.23351453692921637, pvalue=1.2689131475453988e-95)"
      ]
     },
     "execution_count": 9,
     "metadata": {},
     "output_type": "execute_result"
    }
   ],
   "source": [
    "scipy.stats.spearmanr(boxplot_df.iloc[:,0], boxplot_df.iloc[:,1])"
   ]
  },
  {
   "cell_type": "markdown",
   "metadata": {
    "collapsed": true
   },
   "source": [
    "## correlation between IP measured beta and Sup measured beta"
   ]
  },
  {
   "cell_type": "code",
   "execution_count": 23,
   "metadata": {
    "collapsed": false
   },
   "outputs": [],
   "source": [
    "ip_beta_df = df.loc[:,['gene_id', 'rest_beta1', 'active_beta1', 'diff_beta1', 'rest_beta2', 'active_beta2', 'diff_beta2']]\n",
    "for column in ip_beta_df.columns[1:]:\n",
    "    ip_beta_df.rename(columns={column: 'ip_' + column}, inplace=True)"
   ]
  },
  {
   "cell_type": "code",
   "execution_count": 14,
   "metadata": {
    "collapsed": true
   },
   "outputs": [],
   "source": [
    "sup_df = pd.read_csv('/Users/zzeng/Desktop/quick_visit/IR_Tian_Yi/Bru-seq/Jan2017/Non_IP/Sup/Combine/IRI/all_gene_list/all_gene_summary.tsv', header=0, sep='\\t')\n",
    "sup_beta_df = sup_df.loc[:,['gene_id', 'rest_beta1', 'active_beta1', 'diff_beta1', 'rest_beta2', 'active_beta2', 'diff_beta2']]\n",
    "for column in sup_beta_df.columns[1:]:\n",
    "    sup_beta_df.rename(columns={column: 'sup_' + column}, inplace=True)"
   ]
  },
  {
   "cell_type": "code",
   "execution_count": 24,
   "metadata": {
    "collapsed": false
   },
   "outputs": [],
   "source": [
    "beta_df = ip_beta_df.merge(sup_beta_df, on='gene_id')"
   ]
  },
  {
   "cell_type": "code",
   "execution_count": 27,
   "metadata": {
    "collapsed": false,
    "scrolled": true
   },
   "outputs": [
    {
     "data": {
      "text/html": [
       "<div>\n",
       "<table border=\"1\" class=\"dataframe\">\n",
       "  <thead>\n",
       "    <tr style=\"text-align: right;\">\n",
       "      <th></th>\n",
       "      <th>gene_id</th>\n",
       "      <th>ip_rest_beta1</th>\n",
       "      <th>ip_active_beta1</th>\n",
       "      <th>ip_diff_beta1</th>\n",
       "      <th>ip_rest_beta2</th>\n",
       "      <th>ip_active_beta2</th>\n",
       "      <th>ip_diff_beta2</th>\n",
       "      <th>sup_rest_beta1</th>\n",
       "      <th>sup_active_beta1</th>\n",
       "      <th>sup_diff_beta1</th>\n",
       "      <th>sup_rest_beta2</th>\n",
       "      <th>sup_active_beta2</th>\n",
       "      <th>sup_diff_beta2</th>\n",
       "    </tr>\n",
       "  </thead>\n",
       "  <tbody>\n",
       "    <tr>\n",
       "      <th>0</th>\n",
       "      <td>RNF14</td>\n",
       "      <td>0.763258</td>\n",
       "      <td>0.076487</td>\n",
       "      <td>-0.686772</td>\n",
       "      <td>1.840225</td>\n",
       "      <td>1.600521</td>\n",
       "      <td>-0.239705</td>\n",
       "      <td>0.071511</td>\n",
       "      <td>0.016192</td>\n",
       "      <td>-0.055319</td>\n",
       "      <td>0.000000</td>\n",
       "      <td>0.136043</td>\n",
       "      <td>0.136043</td>\n",
       "    </tr>\n",
       "    <tr>\n",
       "      <th>1</th>\n",
       "      <td>UBE2Q2</td>\n",
       "      <td>0.380922</td>\n",
       "      <td>0.334396</td>\n",
       "      <td>-0.046526</td>\n",
       "      <td>2.233338</td>\n",
       "      <td>2.096659</td>\n",
       "      <td>-0.136680</td>\n",
       "      <td>0.195238</td>\n",
       "      <td>0.000000</td>\n",
       "      <td>-0.195238</td>\n",
       "      <td>0.667621</td>\n",
       "      <td>0.147549</td>\n",
       "      <td>-0.520072</td>\n",
       "    </tr>\n",
       "    <tr>\n",
       "      <th>2</th>\n",
       "      <td>RNF10</td>\n",
       "      <td>0.448480</td>\n",
       "      <td>0.144809</td>\n",
       "      <td>-0.303671</td>\n",
       "      <td>1.705500</td>\n",
       "      <td>1.547521</td>\n",
       "      <td>-0.157979</td>\n",
       "      <td>0.096333</td>\n",
       "      <td>0.000000</td>\n",
       "      <td>-0.096333</td>\n",
       "      <td>0.549391</td>\n",
       "      <td>0.289096</td>\n",
       "      <td>-0.260295</td>\n",
       "    </tr>\n",
       "    <tr>\n",
       "      <th>3</th>\n",
       "      <td>RNF11</td>\n",
       "      <td>0.385245</td>\n",
       "      <td>0.000000</td>\n",
       "      <td>-0.385245</td>\n",
       "      <td>2.262511</td>\n",
       "      <td>1.725436</td>\n",
       "      <td>-0.537075</td>\n",
       "      <td>0.000000</td>\n",
       "      <td>0.000000</td>\n",
       "      <td>0.000000</td>\n",
       "      <td>1.099336</td>\n",
       "      <td>0.456211</td>\n",
       "      <td>-0.643125</td>\n",
       "    </tr>\n",
       "    <tr>\n",
       "      <th>4</th>\n",
       "      <td>C16orf13</td>\n",
       "      <td>0.000000</td>\n",
       "      <td>0.805388</td>\n",
       "      <td>0.805388</td>\n",
       "      <td>0.247393</td>\n",
       "      <td>0.274826</td>\n",
       "      <td>0.027433</td>\n",
       "      <td>0.305875</td>\n",
       "      <td>0.000000</td>\n",
       "      <td>-0.305875</td>\n",
       "      <td>0.201958</td>\n",
       "      <td>0.000000</td>\n",
       "      <td>-0.201958</td>\n",
       "    </tr>\n",
       "    <tr>\n",
       "      <th>5</th>\n",
       "      <td>MVB12B</td>\n",
       "      <td>0.860485</td>\n",
       "      <td>0.053396</td>\n",
       "      <td>-0.807089</td>\n",
       "      <td>1.904512</td>\n",
       "      <td>1.798396</td>\n",
       "      <td>-0.106115</td>\n",
       "      <td>0.317429</td>\n",
       "      <td>0.041308</td>\n",
       "      <td>-0.276121</td>\n",
       "      <td>0.557860</td>\n",
       "      <td>0.987576</td>\n",
       "      <td>0.429716</td>\n",
       "    </tr>\n",
       "    <tr>\n",
       "      <th>6</th>\n",
       "      <td>PMM1</td>\n",
       "      <td>0.000000</td>\n",
       "      <td>0.000000</td>\n",
       "      <td>0.000000</td>\n",
       "      <td>1.413633</td>\n",
       "      <td>1.346104</td>\n",
       "      <td>-0.067528</td>\n",
       "      <td>0.493783</td>\n",
       "      <td>0.042267</td>\n",
       "      <td>-0.451516</td>\n",
       "      <td>0.981368</td>\n",
       "      <td>0.385905</td>\n",
       "      <td>-0.595463</td>\n",
       "    </tr>\n",
       "    <tr>\n",
       "      <th>7</th>\n",
       "      <td>FHIT</td>\n",
       "      <td>0.490365</td>\n",
       "      <td>0.456706</td>\n",
       "      <td>-0.033659</td>\n",
       "      <td>1.228479</td>\n",
       "      <td>0.607639</td>\n",
       "      <td>-0.620840</td>\n",
       "      <td>0.328303</td>\n",
       "      <td>0.000000</td>\n",
       "      <td>-0.328303</td>\n",
       "      <td>0.820588</td>\n",
       "      <td>0.120178</td>\n",
       "      <td>-0.700410</td>\n",
       "    </tr>\n",
       "    <tr>\n",
       "      <th>8</th>\n",
       "      <td>ZNF709</td>\n",
       "      <td>1.175576</td>\n",
       "      <td>1.069829</td>\n",
       "      <td>-0.105747</td>\n",
       "      <td>1.355676</td>\n",
       "      <td>0.884700</td>\n",
       "      <td>-0.470976</td>\n",
       "      <td>0.000000</td>\n",
       "      <td>0.000000</td>\n",
       "      <td>0.000000</td>\n",
       "      <td>0.903697</td>\n",
       "      <td>0.248676</td>\n",
       "      <td>-0.655021</td>\n",
       "    </tr>\n",
       "    <tr>\n",
       "      <th>9</th>\n",
       "      <td>ZNF708</td>\n",
       "      <td>1.169069</td>\n",
       "      <td>0.951633</td>\n",
       "      <td>-0.217435</td>\n",
       "      <td>2.300149</td>\n",
       "      <td>1.678351</td>\n",
       "      <td>-0.621799</td>\n",
       "      <td>0.000000</td>\n",
       "      <td>0.000000</td>\n",
       "      <td>0.000000</td>\n",
       "      <td>0.692278</td>\n",
       "      <td>0.383568</td>\n",
       "      <td>-0.308710</td>\n",
       "    </tr>\n",
       "    <tr>\n",
       "      <th>10</th>\n",
       "      <td>ZNF879</td>\n",
       "      <td>1.436123</td>\n",
       "      <td>1.001771</td>\n",
       "      <td>-0.434352</td>\n",
       "      <td>2.185711</td>\n",
       "      <td>1.939246</td>\n",
       "      <td>-0.246465</td>\n",
       "      <td>0.391517</td>\n",
       "      <td>0.466837</td>\n",
       "      <td>0.075320</td>\n",
       "      <td>0.000000</td>\n",
       "      <td>0.491149</td>\n",
       "      <td>0.491149</td>\n",
       "    </tr>\n",
       "    <tr>\n",
       "      <th>11</th>\n",
       "      <td>COPRS</td>\n",
       "      <td>0.133823</td>\n",
       "      <td>0.000000</td>\n",
       "      <td>-0.133823</td>\n",
       "      <td>1.220780</td>\n",
       "      <td>1.814147</td>\n",
       "      <td>0.593367</td>\n",
       "      <td>1.103181</td>\n",
       "      <td>0.000000</td>\n",
       "      <td>-1.103181</td>\n",
       "      <td>0.495549</td>\n",
       "      <td>0.363671</td>\n",
       "      <td>-0.131878</td>\n",
       "    </tr>\n",
       "    <tr>\n",
       "      <th>12</th>\n",
       "      <td>ZNF700</td>\n",
       "      <td>0.618609</td>\n",
       "      <td>0.381011</td>\n",
       "      <td>-0.237597</td>\n",
       "      <td>0.614085</td>\n",
       "      <td>0.751965</td>\n",
       "      <td>0.137880</td>\n",
       "      <td>0.261706</td>\n",
       "      <td>0.000000</td>\n",
       "      <td>-0.261706</td>\n",
       "      <td>0.667568</td>\n",
       "      <td>0.161849</td>\n",
       "      <td>-0.505719</td>\n",
       "    </tr>\n",
       "    <tr>\n",
       "      <th>13</th>\n",
       "      <td>ZNF707</td>\n",
       "      <td>0.666161</td>\n",
       "      <td>0.230061</td>\n",
       "      <td>-0.436100</td>\n",
       "      <td>1.411149</td>\n",
       "      <td>1.737337</td>\n",
       "      <td>0.326188</td>\n",
       "      <td>0.293739</td>\n",
       "      <td>0.000000</td>\n",
       "      <td>-0.293739</td>\n",
       "      <td>0.000000</td>\n",
       "      <td>0.000000</td>\n",
       "      <td>0.000000</td>\n",
       "    </tr>\n",
       "    <tr>\n",
       "      <th>14</th>\n",
       "      <td>ZC3H10</td>\n",
       "      <td>0.690283</td>\n",
       "      <td>0.930017</td>\n",
       "      <td>0.239734</td>\n",
       "      <td>1.544701</td>\n",
       "      <td>1.828119</td>\n",
       "      <td>0.283418</td>\n",
       "      <td>0.000000</td>\n",
       "      <td>0.189413</td>\n",
       "      <td>0.189413</td>\n",
       "      <td>0.030533</td>\n",
       "      <td>0.330007</td>\n",
       "      <td>0.299474</td>\n",
       "    </tr>\n",
       "    <tr>\n",
       "      <th>15</th>\n",
       "      <td>RNF114</td>\n",
       "      <td>0.437390</td>\n",
       "      <td>0.008139</td>\n",
       "      <td>-0.429252</td>\n",
       "      <td>1.715112</td>\n",
       "      <td>1.565202</td>\n",
       "      <td>-0.149910</td>\n",
       "      <td>0.000000</td>\n",
       "      <td>0.000000</td>\n",
       "      <td>0.000000</td>\n",
       "      <td>0.506965</td>\n",
       "      <td>0.153406</td>\n",
       "      <td>-0.353559</td>\n",
       "    </tr>\n",
       "    <tr>\n",
       "      <th>16</th>\n",
       "      <td>ZC3H15</td>\n",
       "      <td>0.751052</td>\n",
       "      <td>0.085223</td>\n",
       "      <td>-0.665829</td>\n",
       "      <td>2.208508</td>\n",
       "      <td>1.978270</td>\n",
       "      <td>-0.230239</td>\n",
       "      <td>0.000000</td>\n",
       "      <td>0.000000</td>\n",
       "      <td>0.000000</td>\n",
       "      <td>0.718982</td>\n",
       "      <td>0.510679</td>\n",
       "      <td>-0.208304</td>\n",
       "    </tr>\n",
       "    <tr>\n",
       "      <th>17</th>\n",
       "      <td>ZC3H14</td>\n",
       "      <td>0.135833</td>\n",
       "      <td>0.000000</td>\n",
       "      <td>-0.135833</td>\n",
       "      <td>2.403403</td>\n",
       "      <td>1.578723</td>\n",
       "      <td>-0.824680</td>\n",
       "      <td>0.265311</td>\n",
       "      <td>0.000000</td>\n",
       "      <td>-0.265311</td>\n",
       "      <td>0.487726</td>\n",
       "      <td>0.127042</td>\n",
       "      <td>-0.360684</td>\n",
       "    </tr>\n",
       "    <tr>\n",
       "      <th>18</th>\n",
       "      <td>RNF111</td>\n",
       "      <td>0.638185</td>\n",
       "      <td>0.769002</td>\n",
       "      <td>0.130817</td>\n",
       "      <td>1.597538</td>\n",
       "      <td>1.320679</td>\n",
       "      <td>-0.276859</td>\n",
       "      <td>0.805950</td>\n",
       "      <td>0.417201</td>\n",
       "      <td>-0.388749</td>\n",
       "      <td>0.000000</td>\n",
       "      <td>0.162881</td>\n",
       "      <td>0.162881</td>\n",
       "    </tr>\n",
       "    <tr>\n",
       "      <th>19</th>\n",
       "      <td>ZC3H18</td>\n",
       "      <td>0.272383</td>\n",
       "      <td>0.173699</td>\n",
       "      <td>-0.098684</td>\n",
       "      <td>1.471684</td>\n",
       "      <td>1.590025</td>\n",
       "      <td>0.118340</td>\n",
       "      <td>0.088263</td>\n",
       "      <td>0.000000</td>\n",
       "      <td>-0.088263</td>\n",
       "      <td>0.334861</td>\n",
       "      <td>0.241602</td>\n",
       "      <td>-0.093259</td>\n",
       "    </tr>\n",
       "    <tr>\n",
       "      <th>20</th>\n",
       "      <td>DHX8</td>\n",
       "      <td>0.393553</td>\n",
       "      <td>0.029070</td>\n",
       "      <td>-0.364483</td>\n",
       "      <td>1.482723</td>\n",
       "      <td>1.654647</td>\n",
       "      <td>0.171924</td>\n",
       "      <td>0.000000</td>\n",
       "      <td>0.000000</td>\n",
       "      <td>0.000000</td>\n",
       "      <td>0.552437</td>\n",
       "      <td>0.415227</td>\n",
       "      <td>-0.137210</td>\n",
       "    </tr>\n",
       "    <tr>\n",
       "      <th>21</th>\n",
       "      <td>TCOF1</td>\n",
       "      <td>0.133713</td>\n",
       "      <td>0.243621</td>\n",
       "      <td>0.109908</td>\n",
       "      <td>1.814699</td>\n",
       "      <td>2.035419</td>\n",
       "      <td>0.220721</td>\n",
       "      <td>0.296236</td>\n",
       "      <td>0.000000</td>\n",
       "      <td>-0.296236</td>\n",
       "      <td>0.014124</td>\n",
       "      <td>0.459588</td>\n",
       "      <td>0.445464</td>\n",
       "    </tr>\n",
       "    <tr>\n",
       "      <th>22</th>\n",
       "      <td>NUP98</td>\n",
       "      <td>0.404691</td>\n",
       "      <td>0.150330</td>\n",
       "      <td>-0.254361</td>\n",
       "      <td>1.689607</td>\n",
       "      <td>1.264731</td>\n",
       "      <td>-0.424876</td>\n",
       "      <td>0.000000</td>\n",
       "      <td>0.000000</td>\n",
       "      <td>0.000000</td>\n",
       "      <td>0.196446</td>\n",
       "      <td>0.608618</td>\n",
       "      <td>0.412172</td>\n",
       "    </tr>\n",
       "    <tr>\n",
       "      <th>23</th>\n",
       "      <td>XPC</td>\n",
       "      <td>0.412011</td>\n",
       "      <td>0.104746</td>\n",
       "      <td>-0.307264</td>\n",
       "      <td>1.999566</td>\n",
       "      <td>1.615130</td>\n",
       "      <td>-0.384436</td>\n",
       "      <td>0.000000</td>\n",
       "      <td>0.000000</td>\n",
       "      <td>0.000000</td>\n",
       "      <td>0.075694</td>\n",
       "      <td>0.052073</td>\n",
       "      <td>-0.023622</td>\n",
       "    </tr>\n",
       "    <tr>\n",
       "      <th>24</th>\n",
       "      <td>SP1</td>\n",
       "      <td>1.090709</td>\n",
       "      <td>0.152057</td>\n",
       "      <td>-0.938652</td>\n",
       "      <td>1.639572</td>\n",
       "      <td>1.770318</td>\n",
       "      <td>0.130746</td>\n",
       "      <td>0.912320</td>\n",
       "      <td>0.000000</td>\n",
       "      <td>-0.912320</td>\n",
       "      <td>0.000000</td>\n",
       "      <td>0.183116</td>\n",
       "      <td>0.183116</td>\n",
       "    </tr>\n",
       "    <tr>\n",
       "      <th>25</th>\n",
       "      <td>GRINA</td>\n",
       "      <td>0.000000</td>\n",
       "      <td>0.000000</td>\n",
       "      <td>0.000000</td>\n",
       "      <td>0.969846</td>\n",
       "      <td>0.795130</td>\n",
       "      <td>-0.174716</td>\n",
       "      <td>0.254456</td>\n",
       "      <td>0.000000</td>\n",
       "      <td>-0.254456</td>\n",
       "      <td>0.110718</td>\n",
       "      <td>0.090694</td>\n",
       "      <td>-0.020025</td>\n",
       "    </tr>\n",
       "    <tr>\n",
       "      <th>26</th>\n",
       "      <td>SP3</td>\n",
       "      <td>1.035428</td>\n",
       "      <td>0.303838</td>\n",
       "      <td>-0.731591</td>\n",
       "      <td>1.656584</td>\n",
       "      <td>1.548387</td>\n",
       "      <td>-0.108197</td>\n",
       "      <td>0.000000</td>\n",
       "      <td>0.000000</td>\n",
       "      <td>0.000000</td>\n",
       "      <td>0.497693</td>\n",
       "      <td>0.071767</td>\n",
       "      <td>-0.425927</td>\n",
       "    </tr>\n",
       "    <tr>\n",
       "      <th>27</th>\n",
       "      <td>NUP93</td>\n",
       "      <td>0.000000</td>\n",
       "      <td>0.038525</td>\n",
       "      <td>0.038525</td>\n",
       "      <td>1.859406</td>\n",
       "      <td>1.682618</td>\n",
       "      <td>-0.176788</td>\n",
       "      <td>0.164282</td>\n",
       "      <td>0.000000</td>\n",
       "      <td>-0.164282</td>\n",
       "      <td>0.380191</td>\n",
       "      <td>0.446643</td>\n",
       "      <td>0.066453</td>\n",
       "    </tr>\n",
       "    <tr>\n",
       "      <th>28</th>\n",
       "      <td>C16orf93</td>\n",
       "      <td>0.000000</td>\n",
       "      <td>0.871429</td>\n",
       "      <td>0.871429</td>\n",
       "      <td>1.947813</td>\n",
       "      <td>1.781073</td>\n",
       "      <td>-0.166740</td>\n",
       "      <td>0.920125</td>\n",
       "      <td>0.000000</td>\n",
       "      <td>-0.920125</td>\n",
       "      <td>0.000000</td>\n",
       "      <td>0.000000</td>\n",
       "      <td>0.000000</td>\n",
       "    </tr>\n",
       "    <tr>\n",
       "      <th>29</th>\n",
       "      <td>GOLIM4</td>\n",
       "      <td>0.208978</td>\n",
       "      <td>0.243284</td>\n",
       "      <td>0.034306</td>\n",
       "      <td>1.823975</td>\n",
       "      <td>1.633439</td>\n",
       "      <td>-0.190537</td>\n",
       "      <td>0.427544</td>\n",
       "      <td>0.061759</td>\n",
       "      <td>-0.365785</td>\n",
       "      <td>1.181815</td>\n",
       "      <td>0.686789</td>\n",
       "      <td>-0.495026</td>\n",
       "    </tr>\n",
       "    <tr>\n",
       "      <th>...</th>\n",
       "      <td>...</td>\n",
       "      <td>...</td>\n",
       "      <td>...</td>\n",
       "      <td>...</td>\n",
       "      <td>...</td>\n",
       "      <td>...</td>\n",
       "      <td>...</td>\n",
       "      <td>...</td>\n",
       "      <td>...</td>\n",
       "      <td>...</td>\n",
       "      <td>...</td>\n",
       "      <td>...</td>\n",
       "      <td>...</td>\n",
       "    </tr>\n",
       "    <tr>\n",
       "      <th>7678</th>\n",
       "      <td>VANGL1</td>\n",
       "      <td>0.892948</td>\n",
       "      <td>0.088864</td>\n",
       "      <td>-0.804084</td>\n",
       "      <td>2.139767</td>\n",
       "      <td>2.134129</td>\n",
       "      <td>-0.005638</td>\n",
       "      <td>0.516835</td>\n",
       "      <td>0.000000</td>\n",
       "      <td>-0.516835</td>\n",
       "      <td>0.196165</td>\n",
       "      <td>0.034392</td>\n",
       "      <td>-0.161773</td>\n",
       "    </tr>\n",
       "    <tr>\n",
       "      <th>7679</th>\n",
       "      <td>ANKAR</td>\n",
       "      <td>1.023164</td>\n",
       "      <td>0.854894</td>\n",
       "      <td>-0.168269</td>\n",
       "      <td>2.131841</td>\n",
       "      <td>1.426811</td>\n",
       "      <td>-0.705030</td>\n",
       "      <td>0.782730</td>\n",
       "      <td>0.026828</td>\n",
       "      <td>-0.755901</td>\n",
       "      <td>0.636916</td>\n",
       "      <td>0.285478</td>\n",
       "      <td>-0.351438</td>\n",
       "    </tr>\n",
       "    <tr>\n",
       "      <th>7680</th>\n",
       "      <td>BTN2A2</td>\n",
       "      <td>0.387372</td>\n",
       "      <td>0.461149</td>\n",
       "      <td>0.073777</td>\n",
       "      <td>1.879924</td>\n",
       "      <td>1.557599</td>\n",
       "      <td>-0.322326</td>\n",
       "      <td>0.000000</td>\n",
       "      <td>0.808012</td>\n",
       "      <td>0.808012</td>\n",
       "      <td>0.154342</td>\n",
       "      <td>0.635228</td>\n",
       "      <td>0.480885</td>\n",
       "    </tr>\n",
       "    <tr>\n",
       "      <th>7681</th>\n",
       "      <td>BTN2A1</td>\n",
       "      <td>1.029452</td>\n",
       "      <td>0.697025</td>\n",
       "      <td>-0.332427</td>\n",
       "      <td>1.364575</td>\n",
       "      <td>1.622373</td>\n",
       "      <td>0.257798</td>\n",
       "      <td>0.144881</td>\n",
       "      <td>0.374078</td>\n",
       "      <td>0.229197</td>\n",
       "      <td>0.000000</td>\n",
       "      <td>0.378932</td>\n",
       "      <td>0.378932</td>\n",
       "    </tr>\n",
       "    <tr>\n",
       "      <th>7682</th>\n",
       "      <td>ELF2</td>\n",
       "      <td>1.392092</td>\n",
       "      <td>1.316104</td>\n",
       "      <td>-0.075987</td>\n",
       "      <td>2.264372</td>\n",
       "      <td>2.235498</td>\n",
       "      <td>-0.028875</td>\n",
       "      <td>0.102226</td>\n",
       "      <td>0.000000</td>\n",
       "      <td>-0.102226</td>\n",
       "      <td>0.478284</td>\n",
       "      <td>0.181965</td>\n",
       "      <td>-0.296319</td>\n",
       "    </tr>\n",
       "    <tr>\n",
       "      <th>7683</th>\n",
       "      <td>ELF4</td>\n",
       "      <td>0.689964</td>\n",
       "      <td>0.046391</td>\n",
       "      <td>-0.643573</td>\n",
       "      <td>1.873104</td>\n",
       "      <td>1.390219</td>\n",
       "      <td>-0.482884</td>\n",
       "      <td>0.824030</td>\n",
       "      <td>0.000000</td>\n",
       "      <td>-0.824030</td>\n",
       "      <td>0.000000</td>\n",
       "      <td>0.000000</td>\n",
       "      <td>0.000000</td>\n",
       "    </tr>\n",
       "    <tr>\n",
       "      <th>7684</th>\n",
       "      <td>ZRSR2</td>\n",
       "      <td>0.502819</td>\n",
       "      <td>0.309612</td>\n",
       "      <td>-0.193207</td>\n",
       "      <td>1.403301</td>\n",
       "      <td>1.153165</td>\n",
       "      <td>-0.250136</td>\n",
       "      <td>0.544108</td>\n",
       "      <td>0.034962</td>\n",
       "      <td>-0.509146</td>\n",
       "      <td>0.000000</td>\n",
       "      <td>0.390401</td>\n",
       "      <td>0.390401</td>\n",
       "    </tr>\n",
       "    <tr>\n",
       "      <th>7685</th>\n",
       "      <td>PRPS2</td>\n",
       "      <td>0.000000</td>\n",
       "      <td>0.000000</td>\n",
       "      <td>0.000000</td>\n",
       "      <td>2.093756</td>\n",
       "      <td>1.638441</td>\n",
       "      <td>-0.455315</td>\n",
       "      <td>0.353080</td>\n",
       "      <td>0.000000</td>\n",
       "      <td>-0.353080</td>\n",
       "      <td>0.809182</td>\n",
       "      <td>0.397047</td>\n",
       "      <td>-0.412135</td>\n",
       "    </tr>\n",
       "    <tr>\n",
       "      <th>7686</th>\n",
       "      <td>CAND1</td>\n",
       "      <td>0.481669</td>\n",
       "      <td>0.000000</td>\n",
       "      <td>-0.481669</td>\n",
       "      <td>2.015037</td>\n",
       "      <td>1.718878</td>\n",
       "      <td>-0.296159</td>\n",
       "      <td>0.041218</td>\n",
       "      <td>0.000000</td>\n",
       "      <td>-0.041218</td>\n",
       "      <td>0.271012</td>\n",
       "      <td>0.283374</td>\n",
       "      <td>0.012362</td>\n",
       "    </tr>\n",
       "    <tr>\n",
       "      <th>7687</th>\n",
       "      <td>PRPS1</td>\n",
       "      <td>0.101235</td>\n",
       "      <td>0.000000</td>\n",
       "      <td>-0.101235</td>\n",
       "      <td>1.829221</td>\n",
       "      <td>1.777296</td>\n",
       "      <td>-0.051926</td>\n",
       "      <td>0.000000</td>\n",
       "      <td>0.000000</td>\n",
       "      <td>0.000000</td>\n",
       "      <td>0.957303</td>\n",
       "      <td>0.415256</td>\n",
       "      <td>-0.542047</td>\n",
       "    </tr>\n",
       "    <tr>\n",
       "      <th>7688</th>\n",
       "      <td>CDR2</td>\n",
       "      <td>0.930237</td>\n",
       "      <td>0.659240</td>\n",
       "      <td>-0.270997</td>\n",
       "      <td>1.554492</td>\n",
       "      <td>1.560528</td>\n",
       "      <td>0.006036</td>\n",
       "      <td>0.000000</td>\n",
       "      <td>0.000000</td>\n",
       "      <td>0.000000</td>\n",
       "      <td>0.453245</td>\n",
       "      <td>0.000000</td>\n",
       "      <td>-0.453245</td>\n",
       "    </tr>\n",
       "    <tr>\n",
       "      <th>7689</th>\n",
       "      <td>BRPF3</td>\n",
       "      <td>0.307940</td>\n",
       "      <td>0.253642</td>\n",
       "      <td>-0.054298</td>\n",
       "      <td>1.721672</td>\n",
       "      <td>1.607784</td>\n",
       "      <td>-0.113888</td>\n",
       "      <td>0.376581</td>\n",
       "      <td>0.000000</td>\n",
       "      <td>-0.376581</td>\n",
       "      <td>0.501797</td>\n",
       "      <td>0.205753</td>\n",
       "      <td>-0.296045</td>\n",
       "    </tr>\n",
       "    <tr>\n",
       "      <th>7690</th>\n",
       "      <td>BRPF1</td>\n",
       "      <td>0.484885</td>\n",
       "      <td>0.496402</td>\n",
       "      <td>0.011518</td>\n",
       "      <td>1.264448</td>\n",
       "      <td>1.437707</td>\n",
       "      <td>0.173259</td>\n",
       "      <td>0.361315</td>\n",
       "      <td>0.149462</td>\n",
       "      <td>-0.211853</td>\n",
       "      <td>0.191161</td>\n",
       "      <td>0.040691</td>\n",
       "      <td>-0.150469</td>\n",
       "    </tr>\n",
       "    <tr>\n",
       "      <th>7691</th>\n",
       "      <td>TTLL12</td>\n",
       "      <td>0.281907</td>\n",
       "      <td>0.000000</td>\n",
       "      <td>-0.281907</td>\n",
       "      <td>1.509166</td>\n",
       "      <td>1.698542</td>\n",
       "      <td>0.189376</td>\n",
       "      <td>0.961745</td>\n",
       "      <td>0.000000</td>\n",
       "      <td>-0.961745</td>\n",
       "      <td>0.077650</td>\n",
       "      <td>0.006055</td>\n",
       "      <td>-0.071595</td>\n",
       "    </tr>\n",
       "    <tr>\n",
       "      <th>7692</th>\n",
       "      <td>LDHA</td>\n",
       "      <td>0.250290</td>\n",
       "      <td>0.000000</td>\n",
       "      <td>-0.250290</td>\n",
       "      <td>1.637463</td>\n",
       "      <td>1.831777</td>\n",
       "      <td>0.194314</td>\n",
       "      <td>0.000000</td>\n",
       "      <td>0.000000</td>\n",
       "      <td>0.000000</td>\n",
       "      <td>0.351695</td>\n",
       "      <td>0.321290</td>\n",
       "      <td>-0.030405</td>\n",
       "    </tr>\n",
       "    <tr>\n",
       "      <th>7693</th>\n",
       "      <td>LDHB</td>\n",
       "      <td>0.000000</td>\n",
       "      <td>0.000000</td>\n",
       "      <td>0.000000</td>\n",
       "      <td>2.115151</td>\n",
       "      <td>1.936712</td>\n",
       "      <td>-0.178439</td>\n",
       "      <td>0.415653</td>\n",
       "      <td>0.000000</td>\n",
       "      <td>-0.415653</td>\n",
       "      <td>0.462091</td>\n",
       "      <td>0.578482</td>\n",
       "      <td>0.116392</td>\n",
       "    </tr>\n",
       "    <tr>\n",
       "      <th>7694</th>\n",
       "      <td>LDHC</td>\n",
       "      <td>1.328048</td>\n",
       "      <td>0.000000</td>\n",
       "      <td>-1.328048</td>\n",
       "      <td>1.377183</td>\n",
       "      <td>1.655674</td>\n",
       "      <td>0.278491</td>\n",
       "      <td>0.791986</td>\n",
       "      <td>0.080825</td>\n",
       "      <td>-0.711162</td>\n",
       "      <td>0.505182</td>\n",
       "      <td>0.319546</td>\n",
       "      <td>-0.185636</td>\n",
       "    </tr>\n",
       "    <tr>\n",
       "      <th>7695</th>\n",
       "      <td>ODF2L</td>\n",
       "      <td>0.000000</td>\n",
       "      <td>0.033693</td>\n",
       "      <td>0.033693</td>\n",
       "      <td>1.045764</td>\n",
       "      <td>0.942577</td>\n",
       "      <td>-0.103187</td>\n",
       "      <td>0.211945</td>\n",
       "      <td>0.209600</td>\n",
       "      <td>-0.002344</td>\n",
       "      <td>0.207093</td>\n",
       "      <td>0.000000</td>\n",
       "      <td>-0.207093</td>\n",
       "    </tr>\n",
       "    <tr>\n",
       "      <th>7696</th>\n",
       "      <td>ACAP1</td>\n",
       "      <td>0.472575</td>\n",
       "      <td>0.000000</td>\n",
       "      <td>-0.472575</td>\n",
       "      <td>0.717940</td>\n",
       "      <td>1.004693</td>\n",
       "      <td>0.286753</td>\n",
       "      <td>0.311848</td>\n",
       "      <td>0.003033</td>\n",
       "      <td>-0.308815</td>\n",
       "      <td>0.543530</td>\n",
       "      <td>0.084839</td>\n",
       "      <td>-0.458691</td>\n",
       "    </tr>\n",
       "    <tr>\n",
       "      <th>7697</th>\n",
       "      <td>ACAP2</td>\n",
       "      <td>0.000000</td>\n",
       "      <td>0.000000</td>\n",
       "      <td>0.000000</td>\n",
       "      <td>1.876054</td>\n",
       "      <td>1.375411</td>\n",
       "      <td>-0.500642</td>\n",
       "      <td>0.717057</td>\n",
       "      <td>0.000000</td>\n",
       "      <td>-0.717057</td>\n",
       "      <td>0.768621</td>\n",
       "      <td>0.221437</td>\n",
       "      <td>-0.547184</td>\n",
       "    </tr>\n",
       "    <tr>\n",
       "      <th>7698</th>\n",
       "      <td>ACAP3</td>\n",
       "      <td>0.000000</td>\n",
       "      <td>0.000000</td>\n",
       "      <td>0.000000</td>\n",
       "      <td>0.341604</td>\n",
       "      <td>0.477325</td>\n",
       "      <td>0.135721</td>\n",
       "      <td>0.257578</td>\n",
       "      <td>0.054517</td>\n",
       "      <td>-0.203061</td>\n",
       "      <td>0.152314</td>\n",
       "      <td>0.000000</td>\n",
       "      <td>-0.152314</td>\n",
       "    </tr>\n",
       "    <tr>\n",
       "      <th>7699</th>\n",
       "      <td>LOC389765</td>\n",
       "      <td>0.996746</td>\n",
       "      <td>0.812225</td>\n",
       "      <td>-0.184521</td>\n",
       "      <td>1.548963</td>\n",
       "      <td>0.988144</td>\n",
       "      <td>-0.560819</td>\n",
       "      <td>0.186404</td>\n",
       "      <td>0.000000</td>\n",
       "      <td>-0.186404</td>\n",
       "      <td>0.000000</td>\n",
       "      <td>0.070777</td>\n",
       "      <td>0.070777</td>\n",
       "    </tr>\n",
       "    <tr>\n",
       "      <th>7700</th>\n",
       "      <td>C1orf198</td>\n",
       "      <td>0.639942</td>\n",
       "      <td>0.000000</td>\n",
       "      <td>-0.639942</td>\n",
       "      <td>1.252228</td>\n",
       "      <td>1.579731</td>\n",
       "      <td>0.327503</td>\n",
       "      <td>0.000000</td>\n",
       "      <td>0.000000</td>\n",
       "      <td>0.000000</td>\n",
       "      <td>0.406138</td>\n",
       "      <td>0.320281</td>\n",
       "      <td>-0.085857</td>\n",
       "    </tr>\n",
       "    <tr>\n",
       "      <th>7701</th>\n",
       "      <td>SNF8</td>\n",
       "      <td>0.671771</td>\n",
       "      <td>0.702572</td>\n",
       "      <td>0.030801</td>\n",
       "      <td>1.861070</td>\n",
       "      <td>1.533493</td>\n",
       "      <td>-0.327577</td>\n",
       "      <td>0.233289</td>\n",
       "      <td>0.000000</td>\n",
       "      <td>-0.233289</td>\n",
       "      <td>0.266703</td>\n",
       "      <td>0.345228</td>\n",
       "      <td>0.078524</td>\n",
       "    </tr>\n",
       "    <tr>\n",
       "      <th>7702</th>\n",
       "      <td>CFL1</td>\n",
       "      <td>0.000000</td>\n",
       "      <td>0.000000</td>\n",
       "      <td>0.000000</td>\n",
       "      <td>0.820123</td>\n",
       "      <td>1.001430</td>\n",
       "      <td>0.181307</td>\n",
       "      <td>0.369086</td>\n",
       "      <td>0.000000</td>\n",
       "      <td>-0.369086</td>\n",
       "      <td>0.000000</td>\n",
       "      <td>0.000000</td>\n",
       "      <td>0.000000</td>\n",
       "    </tr>\n",
       "    <tr>\n",
       "      <th>7703</th>\n",
       "      <td>PLAA</td>\n",
       "      <td>1.242871</td>\n",
       "      <td>0.165528</td>\n",
       "      <td>-1.077343</td>\n",
       "      <td>2.186540</td>\n",
       "      <td>1.759691</td>\n",
       "      <td>-0.426849</td>\n",
       "      <td>0.000000</td>\n",
       "      <td>0.000000</td>\n",
       "      <td>0.000000</td>\n",
       "      <td>0.329936</td>\n",
       "      <td>0.436161</td>\n",
       "      <td>0.106225</td>\n",
       "    </tr>\n",
       "    <tr>\n",
       "      <th>7704</th>\n",
       "      <td>SELM</td>\n",
       "      <td>0.000000</td>\n",
       "      <td>0.000000</td>\n",
       "      <td>0.000000</td>\n",
       "      <td>1.583407</td>\n",
       "      <td>2.118911</td>\n",
       "      <td>0.535504</td>\n",
       "      <td>0.000000</td>\n",
       "      <td>0.000000</td>\n",
       "      <td>0.000000</td>\n",
       "      <td>1.510999</td>\n",
       "      <td>0.375667</td>\n",
       "      <td>-1.135332</td>\n",
       "    </tr>\n",
       "    <tr>\n",
       "      <th>7705</th>\n",
       "      <td>PLEKHG4</td>\n",
       "      <td>0.000000</td>\n",
       "      <td>0.000000</td>\n",
       "      <td>0.000000</td>\n",
       "      <td>0.857874</td>\n",
       "      <td>0.909749</td>\n",
       "      <td>0.051875</td>\n",
       "      <td>0.604599</td>\n",
       "      <td>0.000000</td>\n",
       "      <td>-0.604599</td>\n",
       "      <td>0.000000</td>\n",
       "      <td>0.640049</td>\n",
       "      <td>0.640049</td>\n",
       "    </tr>\n",
       "    <tr>\n",
       "      <th>7706</th>\n",
       "      <td>SELK</td>\n",
       "      <td>0.978279</td>\n",
       "      <td>0.000000</td>\n",
       "      <td>-0.978279</td>\n",
       "      <td>2.017705</td>\n",
       "      <td>2.158749</td>\n",
       "      <td>0.141044</td>\n",
       "      <td>0.000000</td>\n",
       "      <td>0.000000</td>\n",
       "      <td>0.000000</td>\n",
       "      <td>1.474661</td>\n",
       "      <td>0.268804</td>\n",
       "      <td>-1.205857</td>\n",
       "    </tr>\n",
       "    <tr>\n",
       "      <th>7707</th>\n",
       "      <td>SELT</td>\n",
       "      <td>0.124989</td>\n",
       "      <td>0.000000</td>\n",
       "      <td>-0.124989</td>\n",
       "      <td>2.285679</td>\n",
       "      <td>1.838024</td>\n",
       "      <td>-0.447656</td>\n",
       "      <td>0.000000</td>\n",
       "      <td>0.000000</td>\n",
       "      <td>0.000000</td>\n",
       "      <td>0.609140</td>\n",
       "      <td>0.364453</td>\n",
       "      <td>-0.244687</td>\n",
       "    </tr>\n",
       "  </tbody>\n",
       "</table>\n",
       "<p>7708 rows × 13 columns</p>\n",
       "</div>"
      ],
      "text/plain": [
       "        gene_id  ip_rest_beta1  ip_active_beta1  ip_diff_beta1  ip_rest_beta2  \\\n",
       "0         RNF14       0.763258         0.076487      -0.686772       1.840225   \n",
       "1        UBE2Q2       0.380922         0.334396      -0.046526       2.233338   \n",
       "2         RNF10       0.448480         0.144809      -0.303671       1.705500   \n",
       "3         RNF11       0.385245         0.000000      -0.385245       2.262511   \n",
       "4      C16orf13       0.000000         0.805388       0.805388       0.247393   \n",
       "5        MVB12B       0.860485         0.053396      -0.807089       1.904512   \n",
       "6          PMM1       0.000000         0.000000       0.000000       1.413633   \n",
       "7          FHIT       0.490365         0.456706      -0.033659       1.228479   \n",
       "8        ZNF709       1.175576         1.069829      -0.105747       1.355676   \n",
       "9        ZNF708       1.169069         0.951633      -0.217435       2.300149   \n",
       "10       ZNF879       1.436123         1.001771      -0.434352       2.185711   \n",
       "11        COPRS       0.133823         0.000000      -0.133823       1.220780   \n",
       "12       ZNF700       0.618609         0.381011      -0.237597       0.614085   \n",
       "13       ZNF707       0.666161         0.230061      -0.436100       1.411149   \n",
       "14       ZC3H10       0.690283         0.930017       0.239734       1.544701   \n",
       "15       RNF114       0.437390         0.008139      -0.429252       1.715112   \n",
       "16       ZC3H15       0.751052         0.085223      -0.665829       2.208508   \n",
       "17       ZC3H14       0.135833         0.000000      -0.135833       2.403403   \n",
       "18       RNF111       0.638185         0.769002       0.130817       1.597538   \n",
       "19       ZC3H18       0.272383         0.173699      -0.098684       1.471684   \n",
       "20         DHX8       0.393553         0.029070      -0.364483       1.482723   \n",
       "21        TCOF1       0.133713         0.243621       0.109908       1.814699   \n",
       "22        NUP98       0.404691         0.150330      -0.254361       1.689607   \n",
       "23          XPC       0.412011         0.104746      -0.307264       1.999566   \n",
       "24          SP1       1.090709         0.152057      -0.938652       1.639572   \n",
       "25        GRINA       0.000000         0.000000       0.000000       0.969846   \n",
       "26          SP3       1.035428         0.303838      -0.731591       1.656584   \n",
       "27        NUP93       0.000000         0.038525       0.038525       1.859406   \n",
       "28     C16orf93       0.000000         0.871429       0.871429       1.947813   \n",
       "29       GOLIM4       0.208978         0.243284       0.034306       1.823975   \n",
       "...         ...            ...              ...            ...            ...   \n",
       "7678     VANGL1       0.892948         0.088864      -0.804084       2.139767   \n",
       "7679      ANKAR       1.023164         0.854894      -0.168269       2.131841   \n",
       "7680     BTN2A2       0.387372         0.461149       0.073777       1.879924   \n",
       "7681     BTN2A1       1.029452         0.697025      -0.332427       1.364575   \n",
       "7682       ELF2       1.392092         1.316104      -0.075987       2.264372   \n",
       "7683       ELF4       0.689964         0.046391      -0.643573       1.873104   \n",
       "7684      ZRSR2       0.502819         0.309612      -0.193207       1.403301   \n",
       "7685      PRPS2       0.000000         0.000000       0.000000       2.093756   \n",
       "7686      CAND1       0.481669         0.000000      -0.481669       2.015037   \n",
       "7687      PRPS1       0.101235         0.000000      -0.101235       1.829221   \n",
       "7688       CDR2       0.930237         0.659240      -0.270997       1.554492   \n",
       "7689      BRPF3       0.307940         0.253642      -0.054298       1.721672   \n",
       "7690      BRPF1       0.484885         0.496402       0.011518       1.264448   \n",
       "7691     TTLL12       0.281907         0.000000      -0.281907       1.509166   \n",
       "7692       LDHA       0.250290         0.000000      -0.250290       1.637463   \n",
       "7693       LDHB       0.000000         0.000000       0.000000       2.115151   \n",
       "7694       LDHC       1.328048         0.000000      -1.328048       1.377183   \n",
       "7695      ODF2L       0.000000         0.033693       0.033693       1.045764   \n",
       "7696      ACAP1       0.472575         0.000000      -0.472575       0.717940   \n",
       "7697      ACAP2       0.000000         0.000000       0.000000       1.876054   \n",
       "7698      ACAP3       0.000000         0.000000       0.000000       0.341604   \n",
       "7699  LOC389765       0.996746         0.812225      -0.184521       1.548963   \n",
       "7700   C1orf198       0.639942         0.000000      -0.639942       1.252228   \n",
       "7701       SNF8       0.671771         0.702572       0.030801       1.861070   \n",
       "7702       CFL1       0.000000         0.000000       0.000000       0.820123   \n",
       "7703       PLAA       1.242871         0.165528      -1.077343       2.186540   \n",
       "7704       SELM       0.000000         0.000000       0.000000       1.583407   \n",
       "7705    PLEKHG4       0.000000         0.000000       0.000000       0.857874   \n",
       "7706       SELK       0.978279         0.000000      -0.978279       2.017705   \n",
       "7707       SELT       0.124989         0.000000      -0.124989       2.285679   \n",
       "\n",
       "      ip_active_beta2  ip_diff_beta2  sup_rest_beta1  sup_active_beta1  \\\n",
       "0            1.600521      -0.239705        0.071511          0.016192   \n",
       "1            2.096659      -0.136680        0.195238          0.000000   \n",
       "2            1.547521      -0.157979        0.096333          0.000000   \n",
       "3            1.725436      -0.537075        0.000000          0.000000   \n",
       "4            0.274826       0.027433        0.305875          0.000000   \n",
       "5            1.798396      -0.106115        0.317429          0.041308   \n",
       "6            1.346104      -0.067528        0.493783          0.042267   \n",
       "7            0.607639      -0.620840        0.328303          0.000000   \n",
       "8            0.884700      -0.470976        0.000000          0.000000   \n",
       "9            1.678351      -0.621799        0.000000          0.000000   \n",
       "10           1.939246      -0.246465        0.391517          0.466837   \n",
       "11           1.814147       0.593367        1.103181          0.000000   \n",
       "12           0.751965       0.137880        0.261706          0.000000   \n",
       "13           1.737337       0.326188        0.293739          0.000000   \n",
       "14           1.828119       0.283418        0.000000          0.189413   \n",
       "15           1.565202      -0.149910        0.000000          0.000000   \n",
       "16           1.978270      -0.230239        0.000000          0.000000   \n",
       "17           1.578723      -0.824680        0.265311          0.000000   \n",
       "18           1.320679      -0.276859        0.805950          0.417201   \n",
       "19           1.590025       0.118340        0.088263          0.000000   \n",
       "20           1.654647       0.171924        0.000000          0.000000   \n",
       "21           2.035419       0.220721        0.296236          0.000000   \n",
       "22           1.264731      -0.424876        0.000000          0.000000   \n",
       "23           1.615130      -0.384436        0.000000          0.000000   \n",
       "24           1.770318       0.130746        0.912320          0.000000   \n",
       "25           0.795130      -0.174716        0.254456          0.000000   \n",
       "26           1.548387      -0.108197        0.000000          0.000000   \n",
       "27           1.682618      -0.176788        0.164282          0.000000   \n",
       "28           1.781073      -0.166740        0.920125          0.000000   \n",
       "29           1.633439      -0.190537        0.427544          0.061759   \n",
       "...               ...            ...             ...               ...   \n",
       "7678         2.134129      -0.005638        0.516835          0.000000   \n",
       "7679         1.426811      -0.705030        0.782730          0.026828   \n",
       "7680         1.557599      -0.322326        0.000000          0.808012   \n",
       "7681         1.622373       0.257798        0.144881          0.374078   \n",
       "7682         2.235498      -0.028875        0.102226          0.000000   \n",
       "7683         1.390219      -0.482884        0.824030          0.000000   \n",
       "7684         1.153165      -0.250136        0.544108          0.034962   \n",
       "7685         1.638441      -0.455315        0.353080          0.000000   \n",
       "7686         1.718878      -0.296159        0.041218          0.000000   \n",
       "7687         1.777296      -0.051926        0.000000          0.000000   \n",
       "7688         1.560528       0.006036        0.000000          0.000000   \n",
       "7689         1.607784      -0.113888        0.376581          0.000000   \n",
       "7690         1.437707       0.173259        0.361315          0.149462   \n",
       "7691         1.698542       0.189376        0.961745          0.000000   \n",
       "7692         1.831777       0.194314        0.000000          0.000000   \n",
       "7693         1.936712      -0.178439        0.415653          0.000000   \n",
       "7694         1.655674       0.278491        0.791986          0.080825   \n",
       "7695         0.942577      -0.103187        0.211945          0.209600   \n",
       "7696         1.004693       0.286753        0.311848          0.003033   \n",
       "7697         1.375411      -0.500642        0.717057          0.000000   \n",
       "7698         0.477325       0.135721        0.257578          0.054517   \n",
       "7699         0.988144      -0.560819        0.186404          0.000000   \n",
       "7700         1.579731       0.327503        0.000000          0.000000   \n",
       "7701         1.533493      -0.327577        0.233289          0.000000   \n",
       "7702         1.001430       0.181307        0.369086          0.000000   \n",
       "7703         1.759691      -0.426849        0.000000          0.000000   \n",
       "7704         2.118911       0.535504        0.000000          0.000000   \n",
       "7705         0.909749       0.051875        0.604599          0.000000   \n",
       "7706         2.158749       0.141044        0.000000          0.000000   \n",
       "7707         1.838024      -0.447656        0.000000          0.000000   \n",
       "\n",
       "      sup_diff_beta1  sup_rest_beta2  sup_active_beta2  sup_diff_beta2  \n",
       "0          -0.055319        0.000000          0.136043        0.136043  \n",
       "1          -0.195238        0.667621          0.147549       -0.520072  \n",
       "2          -0.096333        0.549391          0.289096       -0.260295  \n",
       "3           0.000000        1.099336          0.456211       -0.643125  \n",
       "4          -0.305875        0.201958          0.000000       -0.201958  \n",
       "5          -0.276121        0.557860          0.987576        0.429716  \n",
       "6          -0.451516        0.981368          0.385905       -0.595463  \n",
       "7          -0.328303        0.820588          0.120178       -0.700410  \n",
       "8           0.000000        0.903697          0.248676       -0.655021  \n",
       "9           0.000000        0.692278          0.383568       -0.308710  \n",
       "10          0.075320        0.000000          0.491149        0.491149  \n",
       "11         -1.103181        0.495549          0.363671       -0.131878  \n",
       "12         -0.261706        0.667568          0.161849       -0.505719  \n",
       "13         -0.293739        0.000000          0.000000        0.000000  \n",
       "14          0.189413        0.030533          0.330007        0.299474  \n",
       "15          0.000000        0.506965          0.153406       -0.353559  \n",
       "16          0.000000        0.718982          0.510679       -0.208304  \n",
       "17         -0.265311        0.487726          0.127042       -0.360684  \n",
       "18         -0.388749        0.000000          0.162881        0.162881  \n",
       "19         -0.088263        0.334861          0.241602       -0.093259  \n",
       "20          0.000000        0.552437          0.415227       -0.137210  \n",
       "21         -0.296236        0.014124          0.459588        0.445464  \n",
       "22          0.000000        0.196446          0.608618        0.412172  \n",
       "23          0.000000        0.075694          0.052073       -0.023622  \n",
       "24         -0.912320        0.000000          0.183116        0.183116  \n",
       "25         -0.254456        0.110718          0.090694       -0.020025  \n",
       "26          0.000000        0.497693          0.071767       -0.425927  \n",
       "27         -0.164282        0.380191          0.446643        0.066453  \n",
       "28         -0.920125        0.000000          0.000000        0.000000  \n",
       "29         -0.365785        1.181815          0.686789       -0.495026  \n",
       "...              ...             ...               ...             ...  \n",
       "7678       -0.516835        0.196165          0.034392       -0.161773  \n",
       "7679       -0.755901        0.636916          0.285478       -0.351438  \n",
       "7680        0.808012        0.154342          0.635228        0.480885  \n",
       "7681        0.229197        0.000000          0.378932        0.378932  \n",
       "7682       -0.102226        0.478284          0.181965       -0.296319  \n",
       "7683       -0.824030        0.000000          0.000000        0.000000  \n",
       "7684       -0.509146        0.000000          0.390401        0.390401  \n",
       "7685       -0.353080        0.809182          0.397047       -0.412135  \n",
       "7686       -0.041218        0.271012          0.283374        0.012362  \n",
       "7687        0.000000        0.957303          0.415256       -0.542047  \n",
       "7688        0.000000        0.453245          0.000000       -0.453245  \n",
       "7689       -0.376581        0.501797          0.205753       -0.296045  \n",
       "7690       -0.211853        0.191161          0.040691       -0.150469  \n",
       "7691       -0.961745        0.077650          0.006055       -0.071595  \n",
       "7692        0.000000        0.351695          0.321290       -0.030405  \n",
       "7693       -0.415653        0.462091          0.578482        0.116392  \n",
       "7694       -0.711162        0.505182          0.319546       -0.185636  \n",
       "7695       -0.002344        0.207093          0.000000       -0.207093  \n",
       "7696       -0.308815        0.543530          0.084839       -0.458691  \n",
       "7697       -0.717057        0.768621          0.221437       -0.547184  \n",
       "7698       -0.203061        0.152314          0.000000       -0.152314  \n",
       "7699       -0.186404        0.000000          0.070777        0.070777  \n",
       "7700        0.000000        0.406138          0.320281       -0.085857  \n",
       "7701       -0.233289        0.266703          0.345228        0.078524  \n",
       "7702       -0.369086        0.000000          0.000000        0.000000  \n",
       "7703        0.000000        0.329936          0.436161        0.106225  \n",
       "7704        0.000000        1.510999          0.375667       -1.135332  \n",
       "7705       -0.604599        0.000000          0.640049        0.640049  \n",
       "7706        0.000000        1.474661          0.268804       -1.205857  \n",
       "7707        0.000000        0.609140          0.364453       -0.244687  \n",
       "\n",
       "[7708 rows x 13 columns]"
      ]
     },
     "execution_count": 27,
     "metadata": {},
     "output_type": "execute_result"
    }
   ],
   "source": [
    "beta_df"
   ]
  },
  {
   "cell_type": "code",
   "execution_count": 28,
   "metadata": {
    "collapsed": false
   },
   "outputs": [
    {
     "data": {
      "text/plain": [
       "(-0.13909407465841914, 1.3206982852521605e-34)"
      ]
     },
     "execution_count": 28,
     "metadata": {},
     "output_type": "execute_result"
    }
   ],
   "source": [
    "scipy.stats.pearsonr(beta_df['ip_rest_beta1'], beta_df['sup_rest_beta1'])"
   ]
  },
  {
   "cell_type": "code",
   "execution_count": 29,
   "metadata": {
    "collapsed": false
   },
   "outputs": [
    {
     "data": {
      "text/plain": [
       "(0.34304479367861329, 8.331151962090045e-212)"
      ]
     },
     "execution_count": 29,
     "metadata": {},
     "output_type": "execute_result"
    }
   ],
   "source": [
    "scipy.stats.pearsonr(beta_df['ip_active_beta1'], beta_df['sup_active_beta1'])"
   ]
  },
  {
   "cell_type": "code",
   "execution_count": 30,
   "metadata": {
    "collapsed": false
   },
   "outputs": [
    {
     "data": {
      "text/plain": [
       "(-0.10484640388193014, 2.7325980054781844e-20)"
      ]
     },
     "execution_count": 30,
     "metadata": {},
     "output_type": "execute_result"
    }
   ],
   "source": [
    "scipy.stats.pearsonr(beta_df['ip_diff_beta1'], beta_df['sup_diff_beta1'])"
   ]
  },
  {
   "cell_type": "code",
   "execution_count": 31,
   "metadata": {
    "collapsed": false
   },
   "outputs": [
    {
     "data": {
      "text/plain": [
       "(-0.019205661261729259, 0.09178670549120635)"
      ]
     },
     "execution_count": 31,
     "metadata": {},
     "output_type": "execute_result"
    }
   ],
   "source": [
    "scipy.stats.pearsonr(beta_df['ip_rest_beta2'], beta_df['sup_rest_beta2'])"
   ]
  },
  {
   "cell_type": "code",
   "execution_count": 32,
   "metadata": {
    "collapsed": false
   },
   "outputs": [
    {
     "data": {
      "text/plain": [
       "(0.11311727571699919, 2.2457760322366516e-23)"
      ]
     },
     "execution_count": 32,
     "metadata": {},
     "output_type": "execute_result"
    }
   ],
   "source": [
    "scipy.stats.pearsonr(beta_df['ip_active_beta2'], beta_df['sup_active_beta2'])"
   ]
  },
  {
   "cell_type": "code",
   "execution_count": 46,
   "metadata": {
    "collapsed": false
   },
   "outputs": [
    {
     "data": {
      "text/plain": [
       "<matplotlib.axes._subplots.AxesSubplot at 0x114f14390>"
      ]
     },
     "execution_count": 46,
     "metadata": {},
     "output_type": "execute_result"
    },
    {
     "data": {
      "image/png": "[encoded data removed]",
      "text/plain": [
       "<matplotlib.figure.Figure at 0x114deda50>"
      ]
     },
     "metadata": {},
     "output_type": "display_data"
    }
   ],
   "source": [
    "beta_df.sort_values(by='sup_rest_beta1', inplace=True)\n",
    "num_bins = 10\n",
    "beta_df['sup_rest_beta1_group'] = reduce(lambda x, (i, y): x + [i] * len(y), enumerate(np.array_split(range(beta_df.shape[0]), num_bins)), [])\n",
    "\n",
    "sns.boxplot(x='sup_rest_beta1_group', y='ip_rest_beta1', data=beta_df)"
   ]
  },
  {
   "cell_type": "code",
   "execution_count": 48,
   "metadata": {
    "collapsed": false
   },
   "outputs": [
    {
     "data": {
      "text/plain": [
       "<matplotlib.axes._subplots.AxesSubplot at 0x1154396d0>"
      ]
     },
     "execution_count": 48,
     "metadata": {},
     "output_type": "execute_result"
    },
    {
     "data": {
      "image/png": "[encoded data removed]",
      "text/plain": [
       "<matplotlib.figure.Figure at 0x1151e39d0>"
      ]
     },
     "metadata": {},
     "output_type": "display_data"
    }
   ],
   "source": [
    "beta_df.sort_values(by='sup_active_beta1', inplace=True)\n",
    "num_bins = 10\n",
    "beta_df['sup_active_beta1_group'] = reduce(lambda x, (i, y): x + [i] * len(y), enumerate(np.array_split(range(beta_df.shape[0]), num_bins)), [])\n",
    "\n",
    "sns.boxplot(x='sup_active_beta1_group', y='ip_active_beta1', data=beta_df)"
   ]
  },
  {
   "cell_type": "code",
   "execution_count": 5,
   "metadata": {
    "collapsed": false
   },
   "outputs": [
    {
     "data": {
      "text/plain": [
       "(7905, 27)"
      ]
     },
     "execution_count": 5,
     "metadata": {},
     "output_type": "execute_result"
    }
   ],
   "source": [
    "df.shape"
   ]
  },
  {
   "cell_type": "code",
   "execution_count": 70,
   "metadata": {
    "collapsed": true
   },
   "outputs": [],
   "source": [
    "df = pd.read_csv('all_gene_summary_with_PST.tsv', header=1, sep='\\t', skiprows=0)"
   ]
  },
  {
   "cell_type": "code",
   "execution_count": 71,
   "metadata": {
    "collapsed": false
   },
   "outputs": [],
   "source": [
    "df.drop(labels=df.filter(regex=r'Unnamed').columns, axis=1, inplace=True)"
   ]
  },
  {
   "cell_type": "code",
   "execution_count": 22,
   "metadata": {
    "collapsed": false
   },
   "outputs": [
    {
     "data": {
      "text/plain": [
       "Index([u'gene_id', u'Rest_CD4_gene_CER_RPKM', u'Rest_CD4_gene_IRI',\n",
       "       u'Active_CD4_gene_CER_RPKM', u'Active_CD4_gene_IRI',\n",
       "       u'Rest_CD4_polII_RPKM', u'Active_CD4_polII_RPKM',\n",
       "       u'Rest_CD4_polII_gene_IRI', u'Active_CD4_polII_gene_IRI', u'rest_beta1',\n",
       "       u'rest_beta2', u'active_beta1', u'active_beta2', u'diff_beta1',\n",
       "       u'diff_beta2', u'rest_PST', u'active_PST', u'diff_PST',\n",
       "       u'Rest_CD4_T0_gene_CER_read_count',\n",
       "       u'Rest_CD4_T30min_gene_CER_read_count',\n",
       "       u'Rest_CD4_T2h_gene_CER_read_count',\n",
       "       u'Active_CD4_T0_gene_CER_read_count',\n",
       "       u'Active_CD4_T30min_gene_CER_read_count',\n",
       "       u'Active_CD4_T2h_gene_CER_read_count', u'Rest_CD4_T0_gene_IRI',\n",
       "       u'Rest_CD4_T30min_gene_IRI', u'Rest_CD4_T2h_gene_IRI',\n",
       "       u'Active_CD4_T0_gene_IRI', u'Active_CD4_T30min_gene_IRI',\n",
       "       u'Active_CD4_T2h_gene_IRI'],\n",
       "      dtype='object')"
      ]
     },
     "execution_count": 22,
     "metadata": {},
     "output_type": "execute_result"
    }
   ],
   "source": [
    "df.columns"
   ]
  },
  {
   "cell_type": "code",
   "execution_count": 72,
   "metadata": {
    "collapsed": false
   },
   "outputs": [],
   "source": [
    "Rest_T0_df = pd.read_csv('/Users/zzeng/Desktop/quick_visit/IR_Tian_Yi/Bru-seq/Jan2017/IP/Combine/IRI/Rest_CD4_ERCC_T0.quant.IRI.genes.txt', header=0, sep='\\t').loc[:,['gene_id', 'gene_CER_RPKM']].rename(columns={'gene_CER_RPKM': 'Rest_CD4_nascent_transcripts_RPKM'})\n",
    "Active_T0_df = pd.read_csv('/Users/zzeng/Desktop/quick_visit/IR_Tian_Yi/Bru-seq/Jan2017/IP/Combine/IRI/Active_CD4_ERCC_T0.quant.IRI.genes.txt', header=0, sep='\\t').loc[:,['gene_id', 'gene_CER_RPKM']].rename(columns={'gene_CER_RPKM': 'Active_CD4_nascent_transcripts_RPKM'})\n",
    "T0_df = Rest_T0_df.merge(Active_T0_df, on='gene_id').dropna()"
   ]
  },
  {
   "cell_type": "code",
   "execution_count": 73,
   "metadata": {
    "collapsed": false
   },
   "outputs": [],
   "source": [
    "T0_df['geometric_mean'] = T0_df.apply(lambda row: scipy.stats.mstats.gmean((row[1], row[2])), axis=1)\n",
    "for col in T0_df.columns[1:3]:\n",
    "    norm_factor = (T0_df[col] / T0_df['geometric_mean']).median()\n",
    "    T0_df[col] = T0_df[col] / norm_factor\n",
    "T0_df.drop(labels='geometric_mean', axis=1, inplace=True)\n",
    "#T0_df['nascent_transcripts_RPKM_fc'] = Active_T0_df['Active_CD4_nascent_transcripts_RPKM'] / Rest_T0_df['Rest_CD4_nascent_transcripts_RPKM']"
   ]
  },
  {
   "cell_type": "code",
   "execution_count": 74,
   "metadata": {
    "collapsed": false
   },
   "outputs": [],
   "source": [
    "df = df.merge(T0_df, on=['gene_id'])"
   ]
  },
  {
   "cell_type": "code",
   "execution_count": 61,
   "metadata": {
    "collapsed": false
   },
   "outputs": [
    {
     "data": {
      "text/plain": [
       "count    7894.000000\n",
       "mean        2.916191\n",
       "std         6.619684\n",
       "min         0.007261\n",
       "25%         0.959086\n",
       "50%         1.649460\n",
       "75%         2.831364\n",
       "max       276.458377\n",
       "dtype: float64"
      ]
     },
     "execution_count": 61,
     "metadata": {},
     "output_type": "execute_result"
    }
   ],
   "source": [
    "(df['Active_CD4_nascent_transcripts_RPKM'] / df['Rest_CD4_nascent_transcripts_RPKM']).describe()"
   ]
  },
  {
   "cell_type": "code",
   "execution_count": 76,
   "metadata": {
    "collapsed": false
   },
   "outputs": [],
   "source": [
    "df.to_csv('all_gene_summary_with_PST_and_nascent.tsv', index=None, sep='\\t')"
   ]
  },
  {
   "cell_type": "code",
   "execution_count": 83,
   "metadata": {
    "collapsed": false
   },
   "outputs": [
    {
     "name": "stdout",
     "output_type": "stream",
     "text": [
      "(0.59823066971194505, 0.0)\n",
      "SpearmanrResult(correlation=0.56533064229871643, pvalue=0.0)\n"
     ]
    }
   ],
   "source": [
    "print scipy.stats.pearsonr(df['Rest_CD4_polII_RPKM'], df['Rest_CD4_nascent_transcripts_RPKM'])\n",
    "print scipy.stats.spearmanr(df['Rest_CD4_polII_RPKM'], df['Rest_CD4_nascent_transcripts_RPKM'])"
   ]
  },
  {
   "cell_type": "code",
   "execution_count": 84,
   "metadata": {
    "collapsed": false
   },
   "outputs": [
    {
     "name": "stdout",
     "output_type": "stream",
     "text": [
      "(0.48258882292518906, 0.0)\n",
      "SpearmanrResult(correlation=0.37187506308316748, pvalue=2.0678108985909212e-257)\n"
     ]
    }
   ],
   "source": [
    "print scipy.stats.pearsonr(df['Active_CD4_polII_RPKM'], df['Active_CD4_nascent_transcripts_RPKM'])\n",
    "print scipy.stats.spearmanr(df['Active_CD4_polII_RPKM'], df['Active_CD4_nascent_transcripts_RPKM'])"
   ]
  },
  {
   "cell_type": "code",
   "execution_count": 86,
   "metadata": {
    "collapsed": false
   },
   "outputs": [],
   "source": [
    "df['polII_RPKM_fc'] = df['Active_CD4_polII_RPKM'] / df['Rest_CD4_polII_RPKM']\n",
    "df['nascent_transcripts_RPKM_fc'] = df['Active_CD4_nascent_transcripts_RPKM'] / df['Rest_CD4_nascent_transcripts_RPKM']"
   ]
  },
  {
   "cell_type": "code",
   "execution_count": 91,
   "metadata": {
    "collapsed": false
   },
   "outputs": [
    {
     "data": {
      "text/html": [
       "<div>\n",
       "<table border=\"1\" class=\"dataframe\">\n",
       "  <thead>\n",
       "    <tr style=\"text-align: right;\">\n",
       "      <th></th>\n",
       "      <th>polII_RPKM_fc</th>\n",
       "      <th>nascent_transcripts_RPKM_fc</th>\n",
       "    </tr>\n",
       "  </thead>\n",
       "  <tbody>\n",
       "    <tr>\n",
       "      <th>polII_RPKM_fc</th>\n",
       "      <td>1.000000</td>\n",
       "      <td>0.595371</td>\n",
       "    </tr>\n",
       "    <tr>\n",
       "      <th>nascent_transcripts_RPKM_fc</th>\n",
       "      <td>0.595371</td>\n",
       "      <td>1.000000</td>\n",
       "    </tr>\n",
       "  </tbody>\n",
       "</table>\n",
       "</div>"
      ],
      "text/plain": [
       "                             polII_RPKM_fc  nascent_transcripts_RPKM_fc\n",
       "polII_RPKM_fc                     1.000000                     0.595371\n",
       "nascent_transcripts_RPKM_fc       0.595371                     1.000000"
      ]
     },
     "execution_count": 91,
     "metadata": {},
     "output_type": "execute_result"
    }
   ],
   "source": [
    "df.loc[:,['polII_RPKM_fc', 'nascent_transcripts_RPKM_fc']].corr(method='spearman')"
   ]
  },
  {
   "cell_type": "code",
   "execution_count": 107,
   "metadata": {
    "collapsed": false
   },
   "outputs": [],
   "source": [
    "up_df = df[(df.Active_CD4_gene_CER_RPKM >= 1) & (df.Active_CD4_gene_CER_RPKM / df.Rest_CD4_gene_CER_RPKM >= 1.5)]"
   ]
  },
  {
   "cell_type": "code",
   "execution_count": 108,
   "metadata": {
    "collapsed": false
   },
   "outputs": [],
   "source": [
    "boxplot_df = pd.concat((pd.DataFrame({'nascent_transcripts_RPKM': up_df['Rest_CD4_nascent_transcripts_RPKM'], 'type': 'Resting'}),\n",
    "                        pd.DataFrame({'nascent_transcripts_RPKM': up_df['Active_CD4_nascent_transcripts_RPKM'], 'type': 'Activated'})))"
   ]
  },
  {
   "cell_type": "code",
   "execution_count": 109,
   "metadata": {
    "collapsed": false
   },
   "outputs": [
    {
     "data": {
      "image/png": "[encoded data removed]",
      "text/plain": [
       "<matplotlib.figure.Figure at 0x10e5969d0>"
      ]
     },
     "metadata": {},
     "output_type": "display_data"
    }
   ],
   "source": [
    "colors=['green', 'orange']\n",
    "sns.set_palette(sns.xkcd_palette(colors))\n",
    "\n",
    "plt.figure()\n",
    "sns.boxplot(x='type', y='nascent_transcripts_RPKM', data=boxplot_df, showfliers=False)\n",
    "plt.ylim([0, 10])\n",
    "plt.xlabel('', fontsize=20)\n",
    "plt.ylabel('nascent transcripts RPKM', fontsize=16)\n",
    "plt.title('')\n",
    "plt.legend(loc='upper right', fontsize=12)\n",
    "plt.xticks(size=15)\n",
    "plt.yticks(size=15)\n",
    "sns.despine()\n",
    "#plt.savefig(\"IRI_down_gene_list/gene_normalized_log2_read_count_decay_boxplot.png\", format=\"png\")"
   ]
  },
  {
   "cell_type": "code",
   "execution_count": null,
   "metadata": {
    "collapsed": true
   },
   "outputs": [],
   "source": []
  }
 ],
 "metadata": {
  "kernelspec": {
   "display_name": "Python 2",
   "language": "python",
   "name": "python2"
  },
  "language_info": {
   "codemirror_mode": {
    "name": "ipython",
    "version": 2
   },
   "file_extension": ".py",
   "mimetype": "text/x-python",
   "name": "python",
   "nbconvert_exporter": "python",
   "pygments_lexer": "ipython2",
   "version": "2.7.10"
  }
 },
 "nbformat": 4,
 "nbformat_minor": 0
}
