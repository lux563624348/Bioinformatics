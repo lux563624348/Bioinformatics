{
 "cells": [
  {
   "cell_type": "code",
   "execution_count": 1,
   "metadata": {},
   "outputs": [
    {
     "name": "stdout",
     "output_type": "stream",
     "text": [
      "hi\n",
      "hello from new mapping\n"
     ]
    }
   ],
   "source": [
    "import os\n",
    "import sys\n",
    "import numpy as np\n",
    "import pandas as pd\n",
    "import collections\n",
    "from mirnylib import h5dict, genome, plotting\n",
    "from hiclib import mapping, fragmentHiC, highResBinnedData"
   ]
  },
  {
   "cell_type": "code",
   "execution_count": 41,
   "metadata": {},
   "outputs": [
    {
     "ename": "AttributeError",
     "evalue": "'module' object has no attribute '__version__'",
     "output_type": "error",
     "traceback": [
      "\u001b[0;31m\u001b[0m",
      "\u001b[0;31mAttributeError\u001b[0mTraceback (most recent call last)",
      "\u001b[0;32m<ipython-input-41-24a37003ec75>\u001b[0m in \u001b[0;36m<module>\u001b[0;34m()\u001b[0m\n\u001b[1;32m      1\u001b[0m \u001b[0;32mimport\u001b[0m \u001b[0mhiclib\u001b[0m\u001b[0;34m\u001b[0m\u001b[0m\n\u001b[0;32m----> 2\u001b[0;31m \u001b[0;32mprint\u001b[0m \u001b[0mhiclib\u001b[0m\u001b[0;34m.\u001b[0m\u001b[0m__version__\u001b[0m\u001b[0;34m\u001b[0m\u001b[0m\n\u001b[0m",
      "\u001b[0;31mAttributeError\u001b[0m: 'module' object has no attribute '__version__'"
     ]
    }
   ],
   "source": [
    "import hiclib\n",
    "print hiclib.__version__"
   ]
  },
  {
   "cell_type": "code",
   "execution_count": 2,
   "metadata": {},
   "outputs": [],
   "source": [
    "genome_db = genome.Genome('/home/lxiang/cloud_research/PengGroup/ZZeng/Data/Haihui/Tcf1/HiC-seq/Jun2016/exp/iterative_mapping/genome.fa')"
   ]
  },
  {
   "cell_type": "code",
   "execution_count": 3,
   "metadata": {},
   "outputs": [],
   "source": [
    "mapped_reads_list = []\n",
    "mapped_reads_list.append(h5dict.h5dict('WT_na_CD8_mapped_reads.hdf5'))"
   ]
  },
  {
   "cell_type": "code",
   "execution_count": 4,
   "metadata": {},
   "outputs": [],
   "source": [
    "combine_mapped_reads = h5dict.h5dict('WT_CD8_mapped_reads.hdf5')\n",
    "\n",
    "combine_mapped_reads['chrms1'] = np.hstack(map(lambda k: k['chrms1'], mapped_reads_list))\n",
    "combine_mapped_reads['chrms2'] = np.hstack(map(lambda k: k['chrms2'], mapped_reads_list))\n",
    "combine_mapped_reads['cuts1'] = np.hstack(map(lambda k: k['cuts1'], mapped_reads_list))\n",
    "combine_mapped_reads['cuts2'] = np.hstack(map(lambda k: k['cuts2'], mapped_reads_list))\n",
    "combine_mapped_reads['misc'] = map(lambda k: k['misc'], mapped_reads_list)[0]\n",
    "combine_mapped_reads['strands1'] = np.hstack(map(lambda k: k['strands1'], mapped_reads_list))\n",
    "combine_mapped_reads['strands2'] = np.hstack(map(lambda k: k['strands1'], mapped_reads_list))"
   ]
  },
  {
   "cell_type": "code",
   "execution_count": null,
   "metadata": {},
   "outputs": [],
   "source": []
  },
  {
   "cell_type": "code",
   "execution_count": 3,
   "metadata": {},
   "outputs": [],
   "source": [
    "fname_list = ['WT_CD8_p%d_mapped_reads.hdf5' % i for i in range(1,7)]\n",
    "\n",
    "mapped_reads_list = []\n",
    "for fname in fname_list:\n",
    "    mapped_reads_list.append(h5dict.h5dict(fname))\n",
    "\n",
    "combine_mapped_reads = h5dict.h5dict('WT_CD8_mapped_reads.hdf5')\n",
    "\n",
    "combine_mapped_reads['chrms1'] = np.hstack(map(lambda k: k['chrms1'], mapped_reads_list))\n",
    "combine_mapped_reads['chrms2'] = np.hstack(map(lambda k: k['chrms2'], mapped_reads_list))\n",
    "combine_mapped_reads['cuts1'] = np.hstack(map(lambda k: k['cuts1'], mapped_reads_list))\n",
    "combine_mapped_reads['cuts2'] = np.hstack(map(lambda k: k['cuts2'], mapped_reads_list))\n",
    "combine_mapped_reads['misc'] = map(lambda k: k['misc'], mapped_reads_list)[0]\n",
    "combine_mapped_reads['strands1'] = np.hstack(map(lambda k: k['strands1'], mapped_reads_list))\n",
    "combine_mapped_reads['strands2'] = np.hstack(map(lambda k: k['strands1'], mapped_reads_list))\n"
   ]
  },
  {
   "cell_type": "code",
   "execution_count": 34,
   "metadata": {},
   "outputs": [
    {
     "name": "stdout",
     "output_type": "stream",
     "text": [
      "----> New dataset opened, genome iterative_mapping, filename = WT_CD8_fragment_dataset.hdf5\n",
      "     loading data from file WT_CD8_mapped_reads.hdf5 (assuming h5dict)\n",
      "raw read count file {0} does not exist\n",
      "Count not find raw read count\n",
      "filtering SS reads\n",
      "Keeping same-fragment reads\n",
      "keeping --> <-- reads even if they exceed maximumMoleculeLength\n",
      "300_validPairs:  193204681\n"
     ]
    }
   ],
   "source": [
    "### from mapped reads to get fragment\n",
    "fragments = fragmentHiC.HiCdataset(\n",
    "    filename='WT_CD8_fragment_dataset.hdf5',\n",
    "    enzymeName='HindIII',\n",
    "    genome=genome_db,\n",
    "    mode='w')\n",
    "\n",
    "fragments.parseInputData(\n",
    "    dictLike='WT_CD8_mapped_reads.hdf5', keepSingleSided=False, keepSameFragment=True, keepReadsMolecules=True)"
   ]
  },
  {
   "cell_type": "code",
   "execution_count": 37,
   "metadata": {},
   "outputs": [
    {
     "name": "stdout",
     "output_type": "stream",
     "text": [
      "Sorted using default sort 300000000 131339822\n",
      "----> New dataset opened, genome iterative_mapping, filename = WT_CD8_fragment_dataset.hdf5\n",
      "----->!!!File already exists! It will be opened in the append mode\n",
      "\n"
     ]
    }
   ],
   "source": [
    "#fragments.filterDuplicates(mode='ram')\n",
    "fragments._sortData()\n",
    "\n",
    "fragments = fragmentHiC.HiCdataset('WT_CD8_fragment_dataset.hdf5', genome_db, enzymeName='HindIII')\n",
    "\n",
    "#fragments.saveByChromosomeHeatmap('WT_CD8_heatmap-res-10K.hdf5', resolution=10000)\n",
    "\n",
    "fragments.printMetadata(saveTo=\"WT_CD8_statistics.txt\")\n",
    "\n",
    "#print \"# of Fragments after duplciate removal: \" + str(fragments.fragmentSum(strands=1).sum())"
   ]
  },
  {
   "cell_type": "code",
   "execution_count": 39,
   "metadata": {},
   "outputs": [],
   "source": [
    "fragments.printMetadata()"
   ]
  },
  {
   "cell_type": "code",
   "execution_count": 8,
   "metadata": {},
   "outputs": [],
   "source": [
    "WT_CD8_BD = highResBinnedData.HiResHiC(genome_db, 10000, 'WT_CD8_heatmap-res-10K.hdf5', mode='r+')\n",
    "WT_CD8_BD.loadData('WT_CD8_heatmap-res-10K.hdf5')\n",
    "outdir = '/home/lxiang/cloud_research/PengGroup/XLi/Data/Haihui/CD8-HP/HiC/1905/iterative_mapping/WT_na_CD8'\n",
    "pd.DataFrame({'chrmLabels': WT_CD8_BD.genome.chrmLabels, 'chrmLens': WT_CD8_BD.genome.chrmLens}).to_csv(outdir + 'mm9_genome_size.txt', index=None, header=None, sep='\\t')\n",
    "pd.DataFrame({'chrmLabels': WT_CD8_BD.genome.chrmLabels, 'filename': map(lambda chrm: outdir + 'WT_CD8_' + chrm + '.matrix', WT_CD8_BD.genome.chrmLabels)}).to_csv(outdir + 'WT_CD8_intrachrom_matrix_list.txt', index=None, header=None, sep='\\t')\n"
   ]
  },
  {
   "cell_type": "code",
   "execution_count": null,
   "metadata": {},
   "outputs": [],
   "source": []
  },
  {
   "cell_type": "code",
   "execution_count": null,
   "metadata": {},
   "outputs": [
    {
     "name": "stdout",
     "output_type": "stream",
     "text": [
      "Pass = 0, Error = 2.211860\n",
      "Pass = 1, Error = 0.965778\n",
      "Pass = 2, Error = 0.823680\n",
      "Pass = 3, Error = 0.620729\n",
      "Pass = 4, Error = 0.467027\n",
      "Pass = 5, Error = 0.376027\n",
      "Pass = 6, Error = 0.318587\n",
      "Pass = 7, Error = 0.278031\n",
      "Pass = 8, Error = 0.246405\n",
      "Pass = 9, Error = 0.221026\n",
      "Pass = 10, Error = 0.200197\n",
      "Pass = 11, Error = 0.182942\n",
      "Pass = 12, Error = 0.168281\n",
      "Pass = 13, Error = 0.155780\n",
      "Pass = 14, Error = 0.144945\n",
      "Pass = 15, Error = 0.135485\n",
      "Pass = 16, Error = 0.127191\n",
      "Pass = 17, Error = 0.119817\n",
      "Pass = 18, Error = 0.113233\n",
      "Pass = 19, Error = 0.107335\n",
      "Pass = 20, Error = 0.102014\n",
      "Pass = 21, Error = 0.097184\n",
      "Pass = 22, Error = 0.092789\n",
      "Pass = 23, Error = 0.088778\n",
      "Pass = 24, Error = 0.085086\n",
      "Pass = 25, Error = 0.081685\n",
      "Pass = 26, Error = 0.078541\n",
      "Pass = 27, Error = 0.075628\n",
      "Pass = 28, Error = 0.072929\n",
      "Pass = 29, Error = 0.070413\n",
      "Pass = 30, Error = 0.068060\n",
      "Pass = 31, Error = 0.065858\n",
      "Pass = 32, Error = 0.063794\n",
      "Pass = 33, Error = 0.061853\n",
      "Pass = 34, Error = 0.060025\n",
      "Pass = 35, Error = 0.058304\n",
      "Pass = 36, Error = 0.056678\n",
      "Pass = 37, Error = 0.055139\n",
      "Pass = 38, Error = 0.053680\n",
      "Pass = 39, Error = 0.052295\n",
      "Pass = 40, Error = 0.050980\n",
      "Pass = 41, Error = 0.049729\n",
      "Pass = 42, Error = 0.048538\n",
      "Pass = 43, Error = 0.047402\n",
      "Pass = 44, Error = 0.046318\n",
      "Pass = 45, Error = 0.045282\n",
      "Pass = 46, Error = 0.044290\n",
      "Pass = 47, Error = 0.043342\n",
      "Pass = 48, Error = 0.042433\n",
      "Pass = 49, Error = 0.041561\n",
      "Pass = 50, Error = 0.040724\n"
     ]
    }
   ],
   "source": [
    "WT_CD8_BD.removeDiagonal()\n",
    "WT_CD8_BD.iterativeCorrection()"
   ]
  },
  {
   "cell_type": "code",
   "execution_count": null,
   "metadata": {},
   "outputs": [],
   "source": []
  },
  {
   "cell_type": "code",
   "execution_count": 11,
   "metadata": {},
   "outputs": [
    {
     "ename": "AttributeError",
     "evalue": "'HiResHiC' object has no attribute 'saveCooler'",
     "output_type": "error",
     "traceback": [
      "\u001b[0;31m\u001b[0m",
      "\u001b[0;31mAttributeError\u001b[0mTraceback (most recent call last)",
      "\u001b[0;32m<ipython-input-11-81c1585126ba>\u001b[0m in \u001b[0;36m<module>\u001b[0;34m()\u001b[0m\n\u001b[0;32m----> 1\u001b[0;31m \u001b[0mWT_CD8_BD\u001b[0m\u001b[0;34m.\u001b[0m\u001b[0msaveCooler\u001b[0m\u001b[0;34m(\u001b[0m\u001b[0;34m'WT_CD8-res-10K.cool'\u001b[0m\u001b[0;34m,\u001b[0m \u001b[0;36m10000\u001b[0m\u001b[0;34m)\u001b[0m\u001b[0;34m\u001b[0m\u001b[0m\n\u001b[0m",
      "\u001b[0;31mAttributeError\u001b[0m: 'HiResHiC' object has no attribute 'saveCooler'"
     ]
    }
   ],
   "source": [
    "WT_CD8_BD.saveCooler('WT_CD8-res-10K.cool', 10000)"
   ]
  },
  {
   "cell_type": "code",
   "execution_count": 8,
   "metadata": {},
   "outputs": [
    {
     "name": "stdout",
     "output_type": "stream",
     "text": [
      "(0, 0)\n",
      "(1, 1)\n",
      "(2, 2)\n",
      "(3, 3)\n",
      "(4, 4)\n",
      "(5, 5)\n",
      "(6, 6)\n",
      "(7, 7)\n",
      "(8, 8)\n",
      "(9, 9)\n",
      "(10, 10)\n",
      "(11, 11)\n",
      "(12, 12)\n",
      "(13, 13)\n",
      "(14, 14)\n",
      "(15, 15)\n",
      "(16, 16)\n",
      "(17, 17)\n",
      "(18, 18)\n",
      "(19, 19)\n",
      "(20, 20)\n",
      "(21, 21)\n"
     ]
    }
   ],
   "source": [
    "for index, chrmLabel in WT_CD8_BD.genome.idx2label.iteritems():\n",
    "    key = '(%d, %d)' % (index, index)\n",
    "    print key\n",
    "    outputfile = 'WT_CD8_' +  chrmLabel + '.matrix'\n",
    "    \n",
    "    \n",
    "    np.savetxt(outdir + outputfile, WT_CD8_BD._h5dict[key], fmt='%.2e', delimiter='\\t')"
   ]
  },
  {
   "cell_type": "markdown",
   "metadata": {},
   "source": [
    "## TKO"
   ]
  },
  {
   "cell_type": "code",
   "execution_count": 12,
   "metadata": {},
   "outputs": [
    {
     "name": "stdout",
     "output_type": "stream",
     "text": [
      "----> New dataset opened, genome iterative_mapping, filename = Tcf1_KO_na_CD8_fragment_dataset.hdf5\n",
      "----->!!!File already exists! It will be deleted\n",
      "\n",
      "     loading data from file Tcf1_KO_na_CD8_mapped_reads.hdf5 (assuming h5dict)\n",
      "raw read count file {0} does not exist\n",
      "Count not find raw read count\n",
      "filtering SS reads\n",
      "Keeping same-fragment reads\n",
      "keeping --> <-- reads even if they exceed maximumMoleculeLength\n",
      "300_validPairs:  196511151\n"
     ]
    }
   ],
   "source": [
    "fragments = fragmentHiC.HiCdataset(\n",
    "    filename='Tcf1_KO_na_CD8_fragment_dataset.hdf5',\n",
    "    enzymeName='HindIII',\n",
    "    genome=genome_db,\n",
    "    mode='w')\n",
    "\n",
    "fragments.parseInputData(\n",
    "    dictLike='Tcf1_KO_na_CD8_mapped_reads.hdf5', keepSingleSided=False, keepSameFragment=True, keepReadsMolecules=True)\n"
   ]
  },
  {
   "cell_type": "code",
   "execution_count": 29,
   "metadata": {},
   "outputs": [
    {
     "data": {
      "text/plain": [
       "131018607"
      ]
     },
     "execution_count": 29,
     "metadata": {},
     "output_type": "execute_result"
    }
   ],
   "source": [
    "fragments.fragmentSum(strands=1).sum()"
   ]
  },
  {
   "cell_type": "code",
   "execution_count": 13,
   "metadata": {},
   "outputs": [
    {
     "name": "stdout",
     "output_type": "stream",
     "text": [
      "----->Filtering duplicates in DS reads: \n",
      "Sorted using default sort 300000000 131018607\n",
      "----> New dataset opened, genome iterative_mapping, filename = Tcf1_KO_na_CD8_fragment_dataset.hdf5\n",
      "----->!!!File already exists! It will be opened in the append mode\n",
      "\n",
      "----> By chromosome Heatmap saved to 'Tcf1_KO_na_CD8_heatmap-res-10K.hdf5' at 10000 resolution\n"
     ]
    }
   ],
   "source": [
    "fragments.filterDuplicates(mode='ram')\n",
    "fragments._sortData()\n",
    "\n",
    "fragments = fragmentHiC.HiCdataset('Tcf1_KO_na_CD8_fragment_dataset.hdf5', genome_db, enzymeName='HindIII')\n",
    "\n",
    "fragments.saveByChromosomeHeatmap('Tcf1_KO_na_CD8_heatmap-res-10K.hdf5', resolution=10000)\n",
    "\n",
    "fragments.printMetadata(saveTo=\"Tcf1_KO_na_CD8_statistics.txt\")"
   ]
  },
  {
   "cell_type": "code",
   "execution_count": 14,
   "metadata": {},
   "outputs": [],
   "source": [
    "TKO_CD8_BD = highResBinnedData.HiResHiC(genome_db, 10000, 'Tcf1_KO_na_CD8_heatmap-res-10K.hdf5', mode='r+')\n",
    "TKO_CD8_BD.loadData('Tcf1_KO_na_CD8_heatmap-res-10K.hdf5')\n",
    "outdir = '/home/lxiang/cloud_research/PengGroup/XLi/Data/Haihui/CD8-HP/HiC/1905/iterative_mapping/Tcf1_KO_na_CD8'\n",
    "pd.DataFrame({'chrmLabels': TKO_CD8_BD.genome.chrmLabels, 'chrmLens': TKO_CD8_BD.genome.chrmLens}).to_csv(outdir + '_mm9_genome_size.txt', index=None, header=None, sep='\\t')\n",
    "pd.DataFrame({'chrmLabels': TKO_CD8_BD.genome.chrmLabels, 'filename': map(lambda chrm: outdir + 'TKO_CD8_' + chrm + '.matrix', TKO_CD8_BD.genome.chrmLabels)}).to_csv(outdir + 'TKO_CD8_intrachrom_matrix_list.txt', index=None, header=None, sep='\\t')\n"
   ]
  },
  {
   "cell_type": "code",
   "execution_count": 15,
   "metadata": {},
   "outputs": [],
   "source": [
    "TKO_CD8_BD = highResBinnedData.HiResHiC(genome_db, 10000, 'Tcf1_KO_na_CD8_heatmap-res-10K-IC.hdf5')\n",
    "TKO_CD8_BD.loadData('Tcf1_KO_na_CD8_heatmap-res-10K.hdf5')"
   ]
  },
  {
   "cell_type": "code",
   "execution_count": null,
   "metadata": {},
   "outputs": [
    {
     "name": "stdout",
     "output_type": "stream",
     "text": [
      "Pass = 0, Error = 2.149347\n",
      "Pass = 1, Error = 0.966206\n",
      "Pass = 2, Error = 0.823797\n",
      "Pass = 3, Error = 0.622793\n",
      "Pass = 4, Error = 0.471504\n",
      "Pass = 5, Error = 0.379456\n",
      "Pass = 6, Error = 0.321074\n",
      "Pass = 7, Error = 0.279442\n",
      "Pass = 8, Error = 0.247432\n",
      "Pass = 9, Error = 0.221799\n",
      "Pass = 10, Error = 0.200904\n",
      "Pass = 11, Error = 0.183490\n",
      "Pass = 12, Error = 0.168734\n",
      "Pass = 13, Error = 0.156067\n",
      "Pass = 14, Error = 0.145185\n",
      "Pass = 15, Error = 0.135724\n",
      "Pass = 16, Error = 0.127386\n",
      "Pass = 17, Error = 0.119999\n",
      "Pass = 18, Error = 0.113419\n",
      "Pass = 19, Error = 0.107515\n",
      "Pass = 20, Error = 0.102192\n",
      "Pass = 21, Error = 0.097372\n",
      "Pass = 22, Error = 0.092959\n",
      "Pass = 23, Error = 0.088921\n",
      "Pass = 24, Error = 0.085220\n",
      "Pass = 25, Error = 0.081816\n",
      "Pass = 26, Error = 0.078670\n",
      "Pass = 27, Error = 0.075750\n",
      "Pass = 28, Error = 0.073037\n",
      "Pass = 29, Error = 0.070511\n",
      "Pass = 30, Error = 0.068153\n",
      "Pass = 31, Error = 0.065947\n",
      "Pass = 32, Error = 0.063876\n",
      "Pass = 33, Error = 0.061930\n",
      "Pass = 34, Error = 0.060099\n",
      "Pass = 35, Error = 0.058373\n",
      "Pass = 36, Error = 0.056743\n",
      "Pass = 37, Error = 0.055199\n",
      "Pass = 38, Error = 0.053736\n",
      "Pass = 39, Error = 0.052348\n",
      "Pass = 40, Error = 0.051029\n",
      "Pass = 41, Error = 0.049776\n",
      "Pass = 42, Error = 0.048582\n",
      "Pass = 43, Error = 0.047444\n",
      "Pass = 44, Error = 0.046358\n",
      "Pass = 45, Error = 0.045320\n",
      "Pass = 46, Error = 0.044328\n",
      "Pass = 47, Error = 0.043377\n",
      "Pass = 48, Error = 0.042467\n",
      "Pass = 49, Error = 0.041594\n",
      "Pass = 50, Error = 0.040756\n",
      "Pass = 51, Error = 0.039950\n",
      "Pass = 52, Error = 0.039175\n",
      "Pass = 53, Error = 0.038429\n",
      "Pass = 54, Error = 0.037711\n",
      "Pass = 55, Error = 0.037020\n",
      "Pass = 56, Error = 0.036353\n",
      "Pass = 57, Error = 0.035709\n",
      "Pass = 58, Error = 0.035089\n",
      "Pass = 59, Error = 0.034489\n"
     ]
    }
   ],
   "source": [
    "#TKO_CD8_BD.removeDiagonal()\n",
    "TKO_CD8_BD.iterativeCorrection()"
   ]
  },
  {
   "cell_type": "code",
   "execution_count": null,
   "metadata": {},
   "outputs": [],
   "source": []
  },
  {
   "cell_type": "markdown",
   "metadata": {},
   "source": [
    "## Genome Size File"
   ]
  },
  {
   "cell_type": "code",
   "execution_count": 43,
   "metadata": {},
   "outputs": [],
   "source": [
    "outdir = '/home/lxiang/cloud_research/PengGroup/XLi/Data/Haihui/CD8-HP/HiC/1905/iterative_mapping/WT_na_CD8/'"
   ]
  },
  {
   "cell_type": "code",
   "execution_count": 44,
   "metadata": {},
   "outputs": [],
   "source": [
    "pd.DataFrame({'chrmLabels': WT_CD8_BD.genome.chrmLabels, 'chrmLens': WT_CD8_BD.genome.chrmLens}).to_csv(outdir + 'mm9_genome_size.txt', index=None, header=None, sep='\\t')"
   ]
  },
  {
   "cell_type": "code",
   "execution_count": 45,
   "metadata": {},
   "outputs": [],
   "source": [
    "pd.DataFrame({'chrmLabels': WT_CD8_BD.genome.chrmLabels, 'filename': map(lambda chrm: outdir + 'WT_CD8_' + chrm + '.matrix', WT_CD8_BD.genome.chrmLabels)}).to_csv(outdir + 'WT_CD8_intrachrom_matrix_list.txt', index=None, header=None, sep='\\t')"
   ]
  },
  {
   "cell_type": "code",
   "execution_count": null,
   "metadata": {},
   "outputs": [],
   "source": [
    "fragments = fragmentHiC.HiCdataset('WT_CD8_fragment_dataset.hdf5', genome_db, enzymeName='HindIII')\n",
    "\n",
    "fragments.saveByChromosomeHeatmap('WT_CD8_heatmap-res-10K.hdf5', resolution=10000)"
   ]
  },
  {
   "cell_type": "code",
   "execution_count": null,
   "metadata": {},
   "outputs": [],
   "source": []
  },
  {
   "cell_type": "code",
   "execution_count": null,
   "metadata": {},
   "outputs": [],
   "source": []
  },
  {
   "cell_type": "code",
   "execution_count": null,
   "metadata": {},
   "outputs": [],
   "source": [
    "def from_mapping_to_fragment_hdf(BAM_PATH, Cond_NAME):\n",
    "## Create a Class for storing\n",
    "    fragments = fragmentHiC.HiCdataset( filename=Cond_NAME+'_fragment_dataset.hdf5',\n",
    "        enzymeName='HindIII',genome=genome_db, mode='w')\n",
    "\n",
    "## Read from mapped_reads to hdf5\n",
    "    fragments.parseInputData(\n",
    "        dictLike= Cond_NAME+'_mapped_reads.hdf5', keepSingleSided=False, keepSameFragment=True, keepReadsMolecules=True)\n",
    "    \n",
    "    "
   ]
  },
  {
   "cell_type": "code",
   "execution_count": 76,
   "metadata": {},
   "outputs": [
    {
     "name": "stdout",
     "output_type": "stream",
     "text": [
      "----> New dataset opened, genome iterative_mapping, filename = WT_CD8_fragment_dataset.hdf5\n"
     ]
    }
   ],
   "source": [
    "\n"
   ]
  },
  {
   "cell_type": "code",
   "execution_count": null,
   "metadata": {},
   "outputs": [
    {
     "name": "stdout",
     "output_type": "stream",
     "text": [
      "----> New dataset opened, genome iterative_mapping, filename = WT_CD8_fragment_dataset.hdf5\n",
      "----> By chromosome Heatmap saved to 'WT_CD8_heatmap-res-10k.hdf5' at 10000 resolution\n"
     ]
    }
   ],
   "source": [
    "WT_CD8_fragments = fragmentHiC.HiCdataset(\n",
    "    filename='WT_CD8_fragment_dataset.hdf5',\n",
    "    enzymeName='HindIII',\n",
    "    genome=genome_db,\n",
    "    mode='r')\n",
    "#WT_CD8_fragments.fragmentSum(strands=1).sum()\n",
    "WT_CD8_fragments.saveByChromosomeHeatmap('WT_CD8_heatmap-res-10k.hdf5', resolution=10000)\n",
    "WT_CD8_BD = highResBinnedData.HiResHiC(genome_db, 10000, 'WT_CD8_read_count_heatmap-res-10K.hdf5', mode='a')\n",
    "WT_CD8_BD.loadData('WT_CD8_heatmap-res-10k.hdf5')\n",
    "\n",
    "for index, chrmLabel in WT_CD8_BD.genome.idx2label.iteritems():\n",
    "    key = '(%d, %d)' % (index, index)\n",
    "    outputfile = 'WT_CD8_1905_read_count_' +  chrmLabel + '.matrix'\n",
    "    np.savetxt(outdir + outputfile, WT_CD8_BD._h5dict[key], fmt='%i', delimiter='\\t') \n",
    "    \n",
    "# fmt='%.2e' for normalized matrix \n",
    "# fmt='%i' for raw read count"
   ]
  },
  {
   "cell_type": "code",
   "execution_count": 144,
   "metadata": {},
   "outputs": [],
   "source": []
  },
  {
   "cell_type": "code",
   "execution_count": null,
   "metadata": {},
   "outputs": [],
   "source": [
    "TKO_CD8_fragments = fragmentHiC.HiCdataset(\n",
    "    filename='Tcf1_KO_na_CD8_fragment_dataset.hdf5',\n",
    "    enzymeName='HindIII',\n",
    "    genome=genome_db,\n",
    "    mode='r')\n",
    "\n",
    "#WT_CD8_fragments.fragmentSum(strands=1).sum()\n",
    "TKO_CD8_fragments.saveByChromosomeHeatmap('TKO_CD8_heatmap-res-10k.hdf5', resolution=10000)\n",
    "TKO_CD8_BD = highResBinnedData.HiResHiC(genome_db, 10000, 'TKO_CD8_read_count_heatmap-res-10K.hdf5', mode='a')\n",
    "TKO_CD8_BD.loadData('TKO_CD8_heatmap-res-10k.hdf5')\n",
    "\n",
    "for index, chrmLabel in WT_CD8_BD.genome.idx2label.iteritems():\n",
    "    key = '(%d, %d)' % (index, index)\n",
    "    outputfile = 'TKO_CD8_1905_read_count_' +  chrmLabel + '.matrix'\n",
    "    np.savetxt(outdir + outputfile, TKO_CD8_BD._h5dict[key] , fmt='%i',  delimiter='\\t')"
   ]
  },
  {
   "cell_type": "code",
   "execution_count": 122,
   "metadata": {},
   "outputs": [
    {
     "name": "stdout",
     "output_type": "stream",
     "text": [
      "162305580.0\n"
     ]
    }
   ],
   "source": [
    "total=0\n",
    "for index, chrmLabel in WT_CD8_BD.genome.idx2label.iteritems():\n",
    "    #print index, chrmLabel\n",
    "    key = '(%d, %d)' % (index, index)\n",
    "    total += WT_CD8_BD._h5dict[key].sum()\n",
    "print total"
   ]
  },
  {
   "cell_type": "code",
   "execution_count": 147,
   "metadata": {},
   "outputs": [
    {
     "data": {
      "text/plain": [
       "u'/home/lxiang/cloud_research/PengGroup/XLi/Data/Haihui/CD8-HP/HiC/1905/iterative_mapping'"
      ]
     },
     "execution_count": 147,
     "metadata": {},
     "output_type": "execute_result"
    }
   ],
   "source": [
    "pwd"
   ]
  },
  {
   "cell_type": "code",
   "execution_count": 87,
   "metadata": {},
   "outputs": [
    {
     "data": {
      "text/plain": [
       "12220.44415363108"
      ]
     },
     "execution_count": 87,
     "metadata": {},
     "output_type": "execute_result"
    }
   ],
   "source": [
    "test.sum()"
   ]
  },
  {
   "cell_type": "code",
   "execution_count": 47,
   "metadata": {},
   "outputs": [],
   "source": [
    "for index, chrmLabel in WT_CD8_BD.genome.idx2label.iteritems():\n",
    "    key = '(%d, %d)' % (index, index)\n",
    "    outputfile = 'WT_CD8_1905_' +  chrmLabel + '.matrix'\n",
    "    np.savetxt(outdir + outputfile, WT_CD8_BD._h5dict[key], fmt='%.2e', delimiter='\\t')"
   ]
  },
  {
   "cell_type": "code",
   "execution_count": 48,
   "metadata": {},
   "outputs": [],
   "source": [
    "outdir = '/home/lxiang/cloud_research/PengGroup/XLi/Data/Haihui/CD8-HP/HiC/1905/iterative_mapping/Tcf1_KO_na_CD8/'\n",
    "for index, chrmLabel in TKO_CD8_BD.genome.idx2label.iteritems():\n",
    "    key = '(%d, %d)' % (index, index)\n",
    "    outputfile = 'TKO_CD8_1905_' +  chrmLabel + '.matrix'\n",
    "    np.savetxt(outdir+outputfile, TKO_CD8_BD._h5dict[key], fmt='%.2e', delimiter='\\t')"
   ]
  }
 ],
 "metadata": {
  "kernelspec": {
   "display_name": "Python 2",
   "language": "python",
   "name": "python2"
  },
  "language_info": {
   "codemirror_mode": {
    "name": "ipython",
    "version": 2
   },
   "file_extension": ".py",
   "mimetype": "text/x-python",
   "name": "python",
   "nbconvert_exporter": "python",
   "pygments_lexer": "ipython2",
   "version": "2.7.6"
  }
 },
 "nbformat": 4,
 "nbformat_minor": 1
}
